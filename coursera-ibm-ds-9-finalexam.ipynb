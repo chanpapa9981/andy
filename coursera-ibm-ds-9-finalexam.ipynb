{
 "cells": [
  {
   "cell_type": "markdown",
   "id": "79af357d",
   "metadata": {
    "papermill": {
     "duration": 0.023019,
     "end_time": "2023-06-18T08:51:33.979157",
     "exception": false,
     "start_time": "2023-06-18T08:51:33.956138",
     "status": "completed"
    },
    "tags": []
   },
   "source": [
    "<p style=\"text-align:center\">\n",
    "    <a href=\"https://skills.network/?utm_medium=Exinfluencer&utm_source=Exinfluencer&utm_content=000026UJ&utm_term=10006555&utm_id=NA-SkillsNetwork-Channel-SkillsNetworkCoursesIBMDeveloperSkillsNetworkML0101ENSkillsNetwork20718538-2022-01-01\">\n",
    "    <img src=\"https://cf-courses-data.s3.us.cloud-object-storage.appdomain.cloud/assets/logos/SN_web_lightmode.png\" width=\"200\" alt=\"Skills Network Logo\"  />\n",
    "    </a>\n",
    "</p>\n",
    "\n",
    "<h1 align=\"center\"><font size=\"5\">Final Project: Classification with Python</font></h1>\n"
   ]
  },
  {
   "cell_type": "markdown",
   "id": "eb2fd926",
   "metadata": {
    "papermill": {
     "duration": 0.022792,
     "end_time": "2023-06-18T08:51:34.025427",
     "exception": false,
     "start_time": "2023-06-18T08:51:34.002635",
     "status": "completed"
    },
    "tags": []
   },
   "source": [
    "<h2>Table of Contents</h2>\n",
    "<div class=\"alert alert-block alert-info\" style=\"margin-top: 20px\">\n",
    "    <ul>\n",
    "    <li><a href=\"https://#Section_1\">Instructions</a></li>\n",
    "    <li><a href=\"https://#Section_2\">About the Data</a></li>\n",
    "    <li><a href=\"https://#Section_3\">Importing Data </a></li>\n",
    "    <li><a href=\"https://#Section_4\">Data Preprocessing</a> </li>\n",
    "    <li><a href=\"https://#Section_5\">Transforming Categorical Variables </a></li>\n",
    "    <li><a href=\"https://#Section_6\">Train and Test Data Split </a></li>\n",
    "    <li><a href=\"https://#Section_7\">Train Linear Regression, KNN, Decision Tree, Logistic Regression, and SVM models and return their appropriate accuracy scores</a></li>\n",
    "</a></li>\n",
    "</div>\n",
    "<p>Estimated Time Needed: <strong>180 min</strong></p>\n",
    "</div>\n",
    "\n",
    "<hr>\n"
   ]
  },
  {
   "cell_type": "markdown",
   "id": "bd8c78cc",
   "metadata": {
    "papermill": {
     "duration": 0.022924,
     "end_time": "2023-06-18T08:51:34.071697",
     "exception": false,
     "start_time": "2023-06-18T08:51:34.048773",
     "status": "completed"
    },
    "tags": []
   },
   "source": [
    "# Instructions\n"
   ]
  },
  {
   "cell_type": "markdown",
   "id": "5d956e36",
   "metadata": {
    "papermill": {
     "duration": 0.022264,
     "end_time": "2023-06-18T08:51:34.116479",
     "exception": false,
     "start_time": "2023-06-18T08:51:34.094215",
     "status": "completed"
    },
    "tags": []
   },
   "source": [
    "In this notebook, you will  practice all the classification algorithms that we learned in this course.\n",
    "\n",
    "After completing this notebook, you will need to upload it to the \"Submit Your Work and Review Your Peers\" section of the Final Project module.\n",
    "\n",
    "Below, is where we are going to use the classification algorithms to create a model based on our training data and evaluate our testing data using evaluation metrics learned in the course.\n",
    "\n",
    "We will use some of the algorithms taught in the course, specifically:\n",
    "\n",
    "1.  Linear Regression\n",
    "2.  KNN\n",
    "3.  Decision Trees\n",
    "4.  Logistic Regression\n",
    "5.  SVM\n",
    "\n",
    "We will evaluate our models using:\n",
    "\n",
    "1.  Accuracy Score\n",
    "2.  Jaccard Index\n",
    "3.  F1-Score\n",
    "4.  LogLoss\n",
    "5.  Mean Absolute Error\n",
    "6.  Mean Squared Error\n",
    "7.  R2-Score\n",
    "\n",
    "Finally, you will use your models to generate the report displaying the accuracy scores.\n"
   ]
  },
  {
   "cell_type": "markdown",
   "id": "5e4f1446",
   "metadata": {
    "papermill": {
     "duration": 0.022218,
     "end_time": "2023-06-18T08:51:34.161080",
     "exception": false,
     "start_time": "2023-06-18T08:51:34.138862",
     "status": "completed"
    },
    "tags": []
   },
   "source": [
    "# About The Dataset\n"
   ]
  },
  {
   "cell_type": "markdown",
   "id": "abbf0a79",
   "metadata": {
    "papermill": {
     "duration": 0.021949,
     "end_time": "2023-06-18T08:51:34.205295",
     "exception": false,
     "start_time": "2023-06-18T08:51:34.183346",
     "status": "completed"
    },
    "tags": []
   },
   "source": [
    "The original source of the data is Australian Government's Bureau of Meteorology and the latest data can be gathered from [http://www.bom.gov.au/climate/dwo/](http://www.bom.gov.au/climate/dwo/?utm_medium=Exinfluencer&utm_source=Exinfluencer&utm_content=000026UJ&utm_term=10006555&utm_id=NA-SkillsNetwork-Channel-SkillsNetworkCoursesIBMDeveloperSkillsNetworkML0101ENSkillsNetwork20718538-2022-01-01).\n",
    "\n",
    "The dataset to be used has extra columns like 'RainToday' and our target is 'RainTomorrow', which was gathered from the Rattle at [https://bitbucket.org/kayontoga/rattle/src/master/data/weatherAUS.RData](https://bitbucket.org/kayontoga/rattle/src/master/data/weatherAUS.RData?utm_medium=Exinfluencer&utm_source=Exinfluencer&utm_content=000026UJ&utm_term=10006555&utm_id=NA-SkillsNetwork-Channel-SkillsNetworkCoursesIBMDeveloperSkillsNetworkML0101ENSkillsNetwork20718538-2022-01-01)\n",
    "\n"
   ]
  },
  {
   "cell_type": "markdown",
   "id": "cd844855",
   "metadata": {
    "papermill": {
     "duration": 0.021838,
     "end_time": "2023-06-18T08:51:34.249436",
     "exception": false,
     "start_time": "2023-06-18T08:51:34.227598",
     "status": "completed"
    },
    "tags": []
   },
   "source": [
    "This dataset contains observations of weather metrics for each day from 2008 to 2017. The **weatherAUS.csv** dataset includes the following fields:\n",
    "\n",
    "| Field         | Description                                           | Unit            | Type   |\n",
    "| ------------- | ----------------------------------------------------- | --------------- | ------ |\n",
    "| Date          | Date of the Observation in YYYY-MM-DD                 | Date            | object |\n",
    "| Location      | Location of the Observation                           | Location        | object |\n",
    "| MinTemp       | Minimum temperature                                   | Celsius         | float  |\n",
    "| MaxTemp       | Maximum temperature                                   | Celsius         | float  |\n",
    "| Rainfall      | Amount of rainfall                                    | Millimeters     | float  |\n",
    "| Evaporation   | Amount of evaporation                                 | Millimeters     | float  |\n",
    "| Sunshine      | Amount of bright sunshine                             | hours           | float  |\n",
    "| WindGustDir   | Direction of the strongest gust                       | Compass Points  | object |\n",
    "| WindGustSpeed | Speed of the strongest gust                           | Kilometers/Hour | object |\n",
    "| WindDir9am    | Wind direction averaged of 10 minutes prior to 9am    | Compass Points  | object |\n",
    "| WindDir3pm    | Wind direction averaged of 10 minutes prior to 3pm    | Compass Points  | object |\n",
    "| WindSpeed9am  | Wind speed averaged of 10 minutes prior to 9am        | Kilometers/Hour | float  |\n",
    "| WindSpeed3pm  | Wind speed averaged of 10 minutes prior to 3pm        | Kilometers/Hour | float  |\n",
    "| Humidity9am   | Humidity at 9am                                       | Percent         | float  |\n",
    "| Humidity3pm   | Humidity at 3pm                                       | Percent         | float  |\n",
    "| Pressure9am   | Atmospheric pressure reduced to mean sea level at 9am | Hectopascal     | float  |\n",
    "| Pressure3pm   | Atmospheric pressure reduced to mean sea level at 3pm | Hectopascal     | float  |\n",
    "| Cloud9am      | Fraction of the sky obscured by cloud at 9am          | Eights          | float  |\n",
    "| Cloud3pm      | Fraction of the sky obscured by cloud at 3pm          | Eights          | float  |\n",
    "| Temp9am       | Temperature at 9am                                    | Celsius         | float  |\n",
    "| Temp3pm       | Temperature at 3pm                                    | Celsius         | float  |\n",
    "| RainToday     | If there was rain today                               | Yes/No          | object |\n",
    "| RISK_MM       | Amount of rain tomorrow                               | Millimeters     | float  |\n",
    "| RainTomorrow  | If there is rain tomorrow                             | Yes/No          | float  |\n",
    "\n",
    "Column definitions were gathered from [http://www.bom.gov.au/climate/dwo/IDCJDW0000.shtml](http://www.bom.gov.au/climate/dwo/IDCJDW0000.shtml?utm_medium=Exinfluencer&utm_source=Exinfluencer&utm_content=000026UJ&utm_term=10006555&utm_id=NA-SkillsNetwork-Channel-SkillsNetworkCoursesIBMDeveloperSkillsNetworkML0101ENSkillsNetwork20718538-2022-01-01)\n",
    "\n"
   ]
  },
  {
   "cell_type": "markdown",
   "id": "77c7b3a1",
   "metadata": {
    "papermill": {
     "duration": 0.02191,
     "end_time": "2023-06-18T08:51:34.293589",
     "exception": false,
     "start_time": "2023-06-18T08:51:34.271679",
     "status": "completed"
    },
    "tags": []
   },
   "source": [
    "## **Import the required libraries**\n"
   ]
  },
  {
   "cell_type": "code",
   "execution_count": 1,
   "id": "5b37378f",
   "metadata": {
    "execution": {
     "iopub.execute_input": "2023-06-18T08:51:34.340804Z",
     "iopub.status.busy": "2023-06-18T08:51:34.339654Z",
     "iopub.status.idle": "2023-06-18T08:51:34.346032Z",
     "shell.execute_reply": "2023-06-18T08:51:34.344949Z"
    },
    "papermill": {
     "duration": 0.035723,
     "end_time": "2023-06-18T08:51:34.351377",
     "exception": false,
     "start_time": "2023-06-18T08:51:34.315654",
     "status": "completed"
    },
    "tags": []
   },
   "outputs": [],
   "source": [
    "# All Libraries required for this lab are listed below. The libraries pre-installed on Skills Network Labs are commented.\n",
    "# !mamba install -qy pandas==1.3.4 numpy==1.21.4 seaborn==0.9.0 matplotlib==3.5.0 scikit-learn==0.20.1\n",
    "# Note: If your environment doesn't support \"!mamba install\", use \"!pip install\""
   ]
  },
  {
   "cell_type": "code",
   "execution_count": 2,
   "id": "761e3b0c",
   "metadata": {
    "execution": {
     "iopub.execute_input": "2023-06-18T08:51:34.398544Z",
     "iopub.status.busy": "2023-06-18T08:51:34.398134Z",
     "iopub.status.idle": "2023-06-18T08:51:34.410170Z",
     "shell.execute_reply": "2023-06-18T08:51:34.408874Z"
    },
    "papermill": {
     "duration": 0.038332,
     "end_time": "2023-06-18T08:51:34.412491",
     "exception": false,
     "start_time": "2023-06-18T08:51:34.374159",
     "status": "completed"
    },
    "tags": []
   },
   "outputs": [],
   "source": [
    "# Surpress warnings:\n",
    "def warn(*args, **kwargs):\n",
    "    pass\n",
    "import warnings\n",
    "warnings.warn = warn"
   ]
  },
  {
   "cell_type": "code",
   "execution_count": 3,
   "id": "280e6e28",
   "metadata": {
    "execution": {
     "iopub.execute_input": "2023-06-18T08:51:34.459786Z",
     "iopub.status.busy": "2023-06-18T08:51:34.459414Z",
     "iopub.status.idle": "2023-06-18T08:51:36.276191Z",
     "shell.execute_reply": "2023-06-18T08:51:36.274915Z"
    },
    "papermill": {
     "duration": 1.843614,
     "end_time": "2023-06-18T08:51:36.279135",
     "exception": false,
     "start_time": "2023-06-18T08:51:34.435521",
     "status": "completed"
    },
    "tags": []
   },
   "outputs": [],
   "source": [
    "import pandas as pd\n",
    "from sklearn.linear_model import LogisticRegression\n",
    "from sklearn.linear_model import LinearRegression\n",
    "from sklearn import preprocessing\n",
    "import numpy as np\n",
    "from sklearn.neighbors import KNeighborsClassifier\n",
    "from sklearn.model_selection import GridSearchCV\n",
    "from sklearn.model_selection import train_test_split\n",
    "from sklearn.neighbors import KNeighborsClassifier\n",
    "from sklearn.tree import DecisionTreeClassifier\n",
    "from sklearn import svm\n",
    "from sklearn.metrics import jaccard_score\n",
    "from sklearn.metrics import f1_score\n",
    "from sklearn.metrics import log_loss\n",
    "import matplotlib.pyplot as plt\n",
    "from sklearn.metrics import confusion_matrix, accuracy_score\n",
    "import sklearn.metrics as metrics"
   ]
  },
  {
   "cell_type": "markdown",
   "id": "28833fe9",
   "metadata": {
    "papermill": {
     "duration": 0.022072,
     "end_time": "2023-06-18T08:51:36.324266",
     "exception": false,
     "start_time": "2023-06-18T08:51:36.302194",
     "status": "completed"
    },
    "tags": []
   },
   "source": [
    "### Importing the Dataset\n"
   ]
  },
  {
   "cell_type": "code",
   "execution_count": 4,
   "id": "ffe16127",
   "metadata": {
    "execution": {
     "iopub.execute_input": "2023-06-18T08:51:36.371639Z",
     "iopub.status.busy": "2023-06-18T08:51:36.371251Z",
     "iopub.status.idle": "2023-06-18T08:51:37.161247Z",
     "shell.execute_reply": "2023-06-18T08:51:37.160403Z"
    },
    "papermill": {
     "duration": 0.817514,
     "end_time": "2023-06-18T08:51:37.164161",
     "exception": false,
     "start_time": "2023-06-18T08:51:36.346647",
     "status": "completed"
    },
    "tags": []
   },
   "outputs": [
    {
     "data": {
      "text/html": [
       "<div>\n",
       "<style scoped>\n",
       "    .dataframe tbody tr th:only-of-type {\n",
       "        vertical-align: middle;\n",
       "    }\n",
       "\n",
       "    .dataframe tbody tr th {\n",
       "        vertical-align: top;\n",
       "    }\n",
       "\n",
       "    .dataframe thead th {\n",
       "        text-align: right;\n",
       "    }\n",
       "</style>\n",
       "<table border=\"1\" class=\"dataframe\">\n",
       "  <thead>\n",
       "    <tr style=\"text-align: right;\">\n",
       "      <th></th>\n",
       "      <th>Date</th>\n",
       "      <th>MinTemp</th>\n",
       "      <th>MaxTemp</th>\n",
       "      <th>Rainfall</th>\n",
       "      <th>Evaporation</th>\n",
       "      <th>Sunshine</th>\n",
       "      <th>WindGustDir</th>\n",
       "      <th>WindGustSpeed</th>\n",
       "      <th>WindDir9am</th>\n",
       "      <th>WindDir3pm</th>\n",
       "      <th>...</th>\n",
       "      <th>Humidity9am</th>\n",
       "      <th>Humidity3pm</th>\n",
       "      <th>Pressure9am</th>\n",
       "      <th>Pressure3pm</th>\n",
       "      <th>Cloud9am</th>\n",
       "      <th>Cloud3pm</th>\n",
       "      <th>Temp9am</th>\n",
       "      <th>Temp3pm</th>\n",
       "      <th>RainToday</th>\n",
       "      <th>RainTomorrow</th>\n",
       "    </tr>\n",
       "  </thead>\n",
       "  <tbody>\n",
       "    <tr>\n",
       "      <th>0</th>\n",
       "      <td>2/1/2008</td>\n",
       "      <td>19.5</td>\n",
       "      <td>22.4</td>\n",
       "      <td>15.6</td>\n",
       "      <td>6.2</td>\n",
       "      <td>0.0</td>\n",
       "      <td>W</td>\n",
       "      <td>41</td>\n",
       "      <td>S</td>\n",
       "      <td>SSW</td>\n",
       "      <td>...</td>\n",
       "      <td>92</td>\n",
       "      <td>84</td>\n",
       "      <td>1017.6</td>\n",
       "      <td>1017.4</td>\n",
       "      <td>8</td>\n",
       "      <td>8</td>\n",
       "      <td>20.7</td>\n",
       "      <td>20.9</td>\n",
       "      <td>Yes</td>\n",
       "      <td>Yes</td>\n",
       "    </tr>\n",
       "    <tr>\n",
       "      <th>1</th>\n",
       "      <td>2/2/2008</td>\n",
       "      <td>19.5</td>\n",
       "      <td>25.6</td>\n",
       "      <td>6.0</td>\n",
       "      <td>3.4</td>\n",
       "      <td>2.7</td>\n",
       "      <td>W</td>\n",
       "      <td>41</td>\n",
       "      <td>W</td>\n",
       "      <td>E</td>\n",
       "      <td>...</td>\n",
       "      <td>83</td>\n",
       "      <td>73</td>\n",
       "      <td>1017.9</td>\n",
       "      <td>1016.4</td>\n",
       "      <td>7</td>\n",
       "      <td>7</td>\n",
       "      <td>22.4</td>\n",
       "      <td>24.8</td>\n",
       "      <td>Yes</td>\n",
       "      <td>Yes</td>\n",
       "    </tr>\n",
       "    <tr>\n",
       "      <th>2</th>\n",
       "      <td>2/3/2008</td>\n",
       "      <td>21.6</td>\n",
       "      <td>24.5</td>\n",
       "      <td>6.6</td>\n",
       "      <td>2.4</td>\n",
       "      <td>0.1</td>\n",
       "      <td>W</td>\n",
       "      <td>41</td>\n",
       "      <td>ESE</td>\n",
       "      <td>ESE</td>\n",
       "      <td>...</td>\n",
       "      <td>88</td>\n",
       "      <td>86</td>\n",
       "      <td>1016.7</td>\n",
       "      <td>1015.6</td>\n",
       "      <td>7</td>\n",
       "      <td>8</td>\n",
       "      <td>23.5</td>\n",
       "      <td>23.0</td>\n",
       "      <td>Yes</td>\n",
       "      <td>Yes</td>\n",
       "    </tr>\n",
       "    <tr>\n",
       "      <th>3</th>\n",
       "      <td>2/4/2008</td>\n",
       "      <td>20.2</td>\n",
       "      <td>22.8</td>\n",
       "      <td>18.8</td>\n",
       "      <td>2.2</td>\n",
       "      <td>0.0</td>\n",
       "      <td>W</td>\n",
       "      <td>41</td>\n",
       "      <td>NNE</td>\n",
       "      <td>E</td>\n",
       "      <td>...</td>\n",
       "      <td>83</td>\n",
       "      <td>90</td>\n",
       "      <td>1014.2</td>\n",
       "      <td>1011.8</td>\n",
       "      <td>8</td>\n",
       "      <td>8</td>\n",
       "      <td>21.4</td>\n",
       "      <td>20.9</td>\n",
       "      <td>Yes</td>\n",
       "      <td>Yes</td>\n",
       "    </tr>\n",
       "    <tr>\n",
       "      <th>4</th>\n",
       "      <td>2/5/2008</td>\n",
       "      <td>19.7</td>\n",
       "      <td>25.7</td>\n",
       "      <td>77.4</td>\n",
       "      <td>4.8</td>\n",
       "      <td>0.0</td>\n",
       "      <td>W</td>\n",
       "      <td>41</td>\n",
       "      <td>NNE</td>\n",
       "      <td>W</td>\n",
       "      <td>...</td>\n",
       "      <td>88</td>\n",
       "      <td>74</td>\n",
       "      <td>1008.3</td>\n",
       "      <td>1004.8</td>\n",
       "      <td>8</td>\n",
       "      <td>8</td>\n",
       "      <td>22.5</td>\n",
       "      <td>25.5</td>\n",
       "      <td>Yes</td>\n",
       "      <td>Yes</td>\n",
       "    </tr>\n",
       "  </tbody>\n",
       "</table>\n",
       "<p>5 rows × 22 columns</p>\n",
       "</div>"
      ],
      "text/plain": [
       "       Date  MinTemp  MaxTemp  Rainfall  Evaporation  Sunshine WindGustDir  \\\n",
       "0  2/1/2008     19.5     22.4      15.6          6.2       0.0           W   \n",
       "1  2/2/2008     19.5     25.6       6.0          3.4       2.7           W   \n",
       "2  2/3/2008     21.6     24.5       6.6          2.4       0.1           W   \n",
       "3  2/4/2008     20.2     22.8      18.8          2.2       0.0           W   \n",
       "4  2/5/2008     19.7     25.7      77.4          4.8       0.0           W   \n",
       "\n",
       "   WindGustSpeed WindDir9am WindDir3pm  ...  Humidity9am  Humidity3pm  \\\n",
       "0             41          S        SSW  ...           92           84   \n",
       "1             41          W          E  ...           83           73   \n",
       "2             41        ESE        ESE  ...           88           86   \n",
       "3             41        NNE          E  ...           83           90   \n",
       "4             41        NNE          W  ...           88           74   \n",
       "\n",
       "   Pressure9am  Pressure3pm  Cloud9am  Cloud3pm  Temp9am  Temp3pm  RainToday  \\\n",
       "0       1017.6       1017.4         8         8     20.7     20.9        Yes   \n",
       "1       1017.9       1016.4         7         7     22.4     24.8        Yes   \n",
       "2       1016.7       1015.6         7         8     23.5     23.0        Yes   \n",
       "3       1014.2       1011.8         8         8     21.4     20.9        Yes   \n",
       "4       1008.3       1004.8         8         8     22.5     25.5        Yes   \n",
       "\n",
       "   RainTomorrow  \n",
       "0           Yes  \n",
       "1           Yes  \n",
       "2           Yes  \n",
       "3           Yes  \n",
       "4           Yes  \n",
       "\n",
       "[5 rows x 22 columns]"
      ]
     },
     "execution_count": 4,
     "metadata": {},
     "output_type": "execute_result"
    }
   ],
   "source": [
    "df = pd.read_csv('https://cf-courses-data.s3.us.cloud-object-storage.appdomain.cloud/IBMDeveloperSkillsNetwork-ML0101EN-SkillUp/labs/ML-FinalAssignment/Weather_Data.csv')\n",
    "\n",
    "df.head()"
   ]
  },
  {
   "cell_type": "code",
   "execution_count": 5,
   "id": "3bdb1f70",
   "metadata": {
    "execution": {
     "iopub.execute_input": "2023-06-18T08:51:37.212429Z",
     "iopub.status.busy": "2023-06-18T08:51:37.211499Z",
     "iopub.status.idle": "2023-06-18T08:51:37.217834Z",
     "shell.execute_reply": "2023-06-18T08:51:37.217017Z"
    },
    "papermill": {
     "duration": 0.033022,
     "end_time": "2023-06-18T08:51:37.220143",
     "exception": false,
     "start_time": "2023-06-18T08:51:37.187121",
     "status": "completed"
    },
    "tags": []
   },
   "outputs": [
    {
     "data": {
      "text/plain": [
       "Index(['Date', 'MinTemp', 'MaxTemp', 'Rainfall', 'Evaporation', 'Sunshine',\n",
       "       'WindGustDir', 'WindGustSpeed', 'WindDir9am', 'WindDir3pm',\n",
       "       'WindSpeed9am', 'WindSpeed3pm', 'Humidity9am', 'Humidity3pm',\n",
       "       'Pressure9am', 'Pressure3pm', 'Cloud9am', 'Cloud3pm', 'Temp9am',\n",
       "       'Temp3pm', 'RainToday', 'RainTomorrow'],\n",
       "      dtype='object')"
      ]
     },
     "execution_count": 5,
     "metadata": {},
     "output_type": "execute_result"
    }
   ],
   "source": [
    "df.columns"
   ]
  },
  {
   "cell_type": "code",
   "execution_count": 6,
   "id": "e396b39d",
   "metadata": {
    "collapsed": true,
    "execution": {
     "iopub.execute_input": "2023-06-18T08:51:37.269128Z",
     "iopub.status.busy": "2023-06-18T08:51:37.268689Z",
     "iopub.status.idle": "2023-06-18T08:51:37.294395Z",
     "shell.execute_reply": "2023-06-18T08:51:37.293125Z"
    },
    "jupyter": {
     "outputs_hidden": true
    },
    "papermill": {
     "duration": 0.052937,
     "end_time": "2023-06-18T08:51:37.296729",
     "exception": false,
     "start_time": "2023-06-18T08:51:37.243792",
     "status": "completed"
    },
    "tags": []
   },
   "outputs": [
    {
     "data": {
      "text/plain": [
       "<bound method DataFrame.info of            Date  MinTemp  MaxTemp  Rainfall  Evaporation  Sunshine  \\\n",
       "0      2/1/2008     19.5     22.4      15.6          6.2       0.0   \n",
       "1      2/2/2008     19.5     25.6       6.0          3.4       2.7   \n",
       "2      2/3/2008     21.6     24.5       6.6          2.4       0.1   \n",
       "3      2/4/2008     20.2     22.8      18.8          2.2       0.0   \n",
       "4      2/5/2008     19.7     25.7      77.4          4.8       0.0   \n",
       "...         ...      ...      ...       ...          ...       ...   \n",
       "3266  6/21/2017      8.6     19.6       0.0          2.0       7.8   \n",
       "3267  6/22/2017      9.3     19.2       0.0          2.0       9.2   \n",
       "3268  6/23/2017      9.4     17.7       0.0          2.4       2.7   \n",
       "3269  6/24/2017     10.1     19.3       0.0          1.4       9.3   \n",
       "3270  6/25/2017      7.6     19.3       0.0          3.4       9.4   \n",
       "\n",
       "     WindGustDir  WindGustSpeed WindDir9am WindDir3pm  ...  Humidity9am  \\\n",
       "0              W             41          S        SSW  ...           92   \n",
       "1              W             41          W          E  ...           83   \n",
       "2              W             41        ESE        ESE  ...           88   \n",
       "3              W             41        NNE          E  ...           83   \n",
       "4              W             41        NNE          W  ...           88   \n",
       "...          ...            ...        ...        ...  ...          ...   \n",
       "3266         SSE             37          W        SSE  ...           73   \n",
       "3267           W             30          W        ESE  ...           78   \n",
       "3268           W             24        WNW          N  ...           85   \n",
       "3269           W             43          W          W  ...           56   \n",
       "3270           W             35          W          W  ...           73   \n",
       "\n",
       "      Humidity3pm  Pressure9am  Pressure3pm  Cloud9am  Cloud3pm  Temp9am  \\\n",
       "0              84       1017.6       1017.4         8         8     20.7   \n",
       "1              73       1017.9       1016.4         7         7     22.4   \n",
       "2              86       1016.7       1015.6         7         8     23.5   \n",
       "3              90       1014.2       1011.8         8         8     21.4   \n",
       "4              74       1008.3       1004.8         8         8     22.5   \n",
       "...           ...          ...          ...       ...       ...      ...   \n",
       "3266           52       1025.9       1025.3         2         2     10.5   \n",
       "3267           53       1028.5       1024.6         2         2     11.0   \n",
       "3268           56       1020.8       1015.0         6         6     10.2   \n",
       "3269           35       1017.3       1015.1         5         2     12.4   \n",
       "3270           32       1018.6       1015.4         1         1      9.4   \n",
       "\n",
       "      Temp3pm  RainToday  RainTomorrow  \n",
       "0        20.9        Yes           Yes  \n",
       "1        24.8        Yes           Yes  \n",
       "2        23.0        Yes           Yes  \n",
       "3        20.9        Yes           Yes  \n",
       "4        25.5        Yes           Yes  \n",
       "...       ...        ...           ...  \n",
       "3266     17.9         No            No  \n",
       "3267     18.7         No            No  \n",
       "3268     17.3         No            No  \n",
       "3269     19.0         No            No  \n",
       "3270     18.8         No            No  \n",
       "\n",
       "[3271 rows x 22 columns]>"
      ]
     },
     "execution_count": 6,
     "metadata": {},
     "output_type": "execute_result"
    }
   ],
   "source": [
    "df.info"
   ]
  },
  {
   "cell_type": "markdown",
   "id": "2e535400",
   "metadata": {
    "papermill": {
     "duration": 0.023057,
     "end_time": "2023-06-18T08:51:37.344319",
     "exception": false,
     "start_time": "2023-06-18T08:51:37.321262",
     "status": "completed"
    },
    "tags": []
   },
   "source": [
    "### Data Preprocessing\n"
   ]
  },
  {
   "cell_type": "markdown",
   "id": "42aa997d",
   "metadata": {
    "papermill": {
     "duration": 0.02289,
     "end_time": "2023-06-18T08:51:37.390272",
     "exception": false,
     "start_time": "2023-06-18T08:51:37.367382",
     "status": "completed"
    },
    "tags": []
   },
   "source": [
    "#### Transforming Categorical Variables\n"
   ]
  },
  {
   "cell_type": "markdown",
   "id": "960b9c11",
   "metadata": {
    "papermill": {
     "duration": 0.022949,
     "end_time": "2023-06-18T08:51:37.436332",
     "exception": false,
     "start_time": "2023-06-18T08:51:37.413383",
     "status": "completed"
    },
    "tags": []
   },
   "source": [
    "First, we need to convert categorical variables to binary variables. We will use pandas `get_dummies()` method for this.\n"
   ]
  },
  {
   "cell_type": "code",
   "execution_count": 7,
   "id": "cfda1eac",
   "metadata": {
    "execution": {
     "iopub.execute_input": "2023-06-18T08:51:37.485789Z",
     "iopub.status.busy": "2023-06-18T08:51:37.485167Z",
     "iopub.status.idle": "2023-06-18T08:51:37.504739Z",
     "shell.execute_reply": "2023-06-18T08:51:37.503798Z"
    },
    "papermill": {
     "duration": 0.046975,
     "end_time": "2023-06-18T08:51:37.507372",
     "exception": false,
     "start_time": "2023-06-18T08:51:37.460397",
     "status": "completed"
    },
    "tags": []
   },
   "outputs": [],
   "source": [
    "df_sydney_processed = pd.get_dummies(data=df, columns=['RainToday', 'WindGustDir', 'WindDir9am', 'WindDir3pm'])"
   ]
  },
  {
   "cell_type": "code",
   "execution_count": 8,
   "id": "339b299c",
   "metadata": {
    "execution": {
     "iopub.execute_input": "2023-06-18T08:51:37.557492Z",
     "iopub.status.busy": "2023-06-18T08:51:37.556795Z",
     "iopub.status.idle": "2023-06-18T08:51:37.587930Z",
     "shell.execute_reply": "2023-06-18T08:51:37.586840Z"
    },
    "papermill": {
     "duration": 0.05877,
     "end_time": "2023-06-18T08:51:37.590295",
     "exception": false,
     "start_time": "2023-06-18T08:51:37.531525",
     "status": "completed"
    },
    "tags": []
   },
   "outputs": [
    {
     "data": {
      "text/html": [
       "<div>\n",
       "<style scoped>\n",
       "    .dataframe tbody tr th:only-of-type {\n",
       "        vertical-align: middle;\n",
       "    }\n",
       "\n",
       "    .dataframe tbody tr th {\n",
       "        vertical-align: top;\n",
       "    }\n",
       "\n",
       "    .dataframe thead th {\n",
       "        text-align: right;\n",
       "    }\n",
       "</style>\n",
       "<table border=\"1\" class=\"dataframe\">\n",
       "  <thead>\n",
       "    <tr style=\"text-align: right;\">\n",
       "      <th></th>\n",
       "      <th>Date</th>\n",
       "      <th>MinTemp</th>\n",
       "      <th>MaxTemp</th>\n",
       "      <th>Rainfall</th>\n",
       "      <th>Evaporation</th>\n",
       "      <th>Sunshine</th>\n",
       "      <th>WindGustSpeed</th>\n",
       "      <th>WindSpeed9am</th>\n",
       "      <th>WindSpeed3pm</th>\n",
       "      <th>Humidity9am</th>\n",
       "      <th>...</th>\n",
       "      <th>WindDir3pm_NNW</th>\n",
       "      <th>WindDir3pm_NW</th>\n",
       "      <th>WindDir3pm_S</th>\n",
       "      <th>WindDir3pm_SE</th>\n",
       "      <th>WindDir3pm_SSE</th>\n",
       "      <th>WindDir3pm_SSW</th>\n",
       "      <th>WindDir3pm_SW</th>\n",
       "      <th>WindDir3pm_W</th>\n",
       "      <th>WindDir3pm_WNW</th>\n",
       "      <th>WindDir3pm_WSW</th>\n",
       "    </tr>\n",
       "  </thead>\n",
       "  <tbody>\n",
       "    <tr>\n",
       "      <th>0</th>\n",
       "      <td>2/1/2008</td>\n",
       "      <td>19.5</td>\n",
       "      <td>22.4</td>\n",
       "      <td>15.6</td>\n",
       "      <td>6.2</td>\n",
       "      <td>0.0</td>\n",
       "      <td>41</td>\n",
       "      <td>17</td>\n",
       "      <td>20</td>\n",
       "      <td>92</td>\n",
       "      <td>...</td>\n",
       "      <td>0</td>\n",
       "      <td>0</td>\n",
       "      <td>0</td>\n",
       "      <td>0</td>\n",
       "      <td>0</td>\n",
       "      <td>1</td>\n",
       "      <td>0</td>\n",
       "      <td>0</td>\n",
       "      <td>0</td>\n",
       "      <td>0</td>\n",
       "    </tr>\n",
       "    <tr>\n",
       "      <th>1</th>\n",
       "      <td>2/2/2008</td>\n",
       "      <td>19.5</td>\n",
       "      <td>25.6</td>\n",
       "      <td>6.0</td>\n",
       "      <td>3.4</td>\n",
       "      <td>2.7</td>\n",
       "      <td>41</td>\n",
       "      <td>9</td>\n",
       "      <td>13</td>\n",
       "      <td>83</td>\n",
       "      <td>...</td>\n",
       "      <td>0</td>\n",
       "      <td>0</td>\n",
       "      <td>0</td>\n",
       "      <td>0</td>\n",
       "      <td>0</td>\n",
       "      <td>0</td>\n",
       "      <td>0</td>\n",
       "      <td>0</td>\n",
       "      <td>0</td>\n",
       "      <td>0</td>\n",
       "    </tr>\n",
       "    <tr>\n",
       "      <th>2</th>\n",
       "      <td>2/3/2008</td>\n",
       "      <td>21.6</td>\n",
       "      <td>24.5</td>\n",
       "      <td>6.6</td>\n",
       "      <td>2.4</td>\n",
       "      <td>0.1</td>\n",
       "      <td>41</td>\n",
       "      <td>17</td>\n",
       "      <td>2</td>\n",
       "      <td>88</td>\n",
       "      <td>...</td>\n",
       "      <td>0</td>\n",
       "      <td>0</td>\n",
       "      <td>0</td>\n",
       "      <td>0</td>\n",
       "      <td>0</td>\n",
       "      <td>0</td>\n",
       "      <td>0</td>\n",
       "      <td>0</td>\n",
       "      <td>0</td>\n",
       "      <td>0</td>\n",
       "    </tr>\n",
       "    <tr>\n",
       "      <th>3</th>\n",
       "      <td>2/4/2008</td>\n",
       "      <td>20.2</td>\n",
       "      <td>22.8</td>\n",
       "      <td>18.8</td>\n",
       "      <td>2.2</td>\n",
       "      <td>0.0</td>\n",
       "      <td>41</td>\n",
       "      <td>22</td>\n",
       "      <td>20</td>\n",
       "      <td>83</td>\n",
       "      <td>...</td>\n",
       "      <td>0</td>\n",
       "      <td>0</td>\n",
       "      <td>0</td>\n",
       "      <td>0</td>\n",
       "      <td>0</td>\n",
       "      <td>0</td>\n",
       "      <td>0</td>\n",
       "      <td>0</td>\n",
       "      <td>0</td>\n",
       "      <td>0</td>\n",
       "    </tr>\n",
       "    <tr>\n",
       "      <th>4</th>\n",
       "      <td>2/5/2008</td>\n",
       "      <td>19.7</td>\n",
       "      <td>25.7</td>\n",
       "      <td>77.4</td>\n",
       "      <td>4.8</td>\n",
       "      <td>0.0</td>\n",
       "      <td>41</td>\n",
       "      <td>11</td>\n",
       "      <td>6</td>\n",
       "      <td>88</td>\n",
       "      <td>...</td>\n",
       "      <td>0</td>\n",
       "      <td>0</td>\n",
       "      <td>0</td>\n",
       "      <td>0</td>\n",
       "      <td>0</td>\n",
       "      <td>0</td>\n",
       "      <td>0</td>\n",
       "      <td>1</td>\n",
       "      <td>0</td>\n",
       "      <td>0</td>\n",
       "    </tr>\n",
       "    <tr>\n",
       "      <th>...</th>\n",
       "      <td>...</td>\n",
       "      <td>...</td>\n",
       "      <td>...</td>\n",
       "      <td>...</td>\n",
       "      <td>...</td>\n",
       "      <td>...</td>\n",
       "      <td>...</td>\n",
       "      <td>...</td>\n",
       "      <td>...</td>\n",
       "      <td>...</td>\n",
       "      <td>...</td>\n",
       "      <td>...</td>\n",
       "      <td>...</td>\n",
       "      <td>...</td>\n",
       "      <td>...</td>\n",
       "      <td>...</td>\n",
       "      <td>...</td>\n",
       "      <td>...</td>\n",
       "      <td>...</td>\n",
       "      <td>...</td>\n",
       "      <td>...</td>\n",
       "    </tr>\n",
       "    <tr>\n",
       "      <th>3266</th>\n",
       "      <td>6/21/2017</td>\n",
       "      <td>8.6</td>\n",
       "      <td>19.6</td>\n",
       "      <td>0.0</td>\n",
       "      <td>2.0</td>\n",
       "      <td>7.8</td>\n",
       "      <td>37</td>\n",
       "      <td>22</td>\n",
       "      <td>20</td>\n",
       "      <td>73</td>\n",
       "      <td>...</td>\n",
       "      <td>0</td>\n",
       "      <td>0</td>\n",
       "      <td>0</td>\n",
       "      <td>0</td>\n",
       "      <td>1</td>\n",
       "      <td>0</td>\n",
       "      <td>0</td>\n",
       "      <td>0</td>\n",
       "      <td>0</td>\n",
       "      <td>0</td>\n",
       "    </tr>\n",
       "    <tr>\n",
       "      <th>3267</th>\n",
       "      <td>6/22/2017</td>\n",
       "      <td>9.3</td>\n",
       "      <td>19.2</td>\n",
       "      <td>0.0</td>\n",
       "      <td>2.0</td>\n",
       "      <td>9.2</td>\n",
       "      <td>30</td>\n",
       "      <td>20</td>\n",
       "      <td>7</td>\n",
       "      <td>78</td>\n",
       "      <td>...</td>\n",
       "      <td>0</td>\n",
       "      <td>0</td>\n",
       "      <td>0</td>\n",
       "      <td>0</td>\n",
       "      <td>0</td>\n",
       "      <td>0</td>\n",
       "      <td>0</td>\n",
       "      <td>0</td>\n",
       "      <td>0</td>\n",
       "      <td>0</td>\n",
       "    </tr>\n",
       "    <tr>\n",
       "      <th>3268</th>\n",
       "      <td>6/23/2017</td>\n",
       "      <td>9.4</td>\n",
       "      <td>17.7</td>\n",
       "      <td>0.0</td>\n",
       "      <td>2.4</td>\n",
       "      <td>2.7</td>\n",
       "      <td>24</td>\n",
       "      <td>15</td>\n",
       "      <td>13</td>\n",
       "      <td>85</td>\n",
       "      <td>...</td>\n",
       "      <td>0</td>\n",
       "      <td>0</td>\n",
       "      <td>0</td>\n",
       "      <td>0</td>\n",
       "      <td>0</td>\n",
       "      <td>0</td>\n",
       "      <td>0</td>\n",
       "      <td>0</td>\n",
       "      <td>0</td>\n",
       "      <td>0</td>\n",
       "    </tr>\n",
       "    <tr>\n",
       "      <th>3269</th>\n",
       "      <td>6/24/2017</td>\n",
       "      <td>10.1</td>\n",
       "      <td>19.3</td>\n",
       "      <td>0.0</td>\n",
       "      <td>1.4</td>\n",
       "      <td>9.3</td>\n",
       "      <td>43</td>\n",
       "      <td>17</td>\n",
       "      <td>19</td>\n",
       "      <td>56</td>\n",
       "      <td>...</td>\n",
       "      <td>0</td>\n",
       "      <td>0</td>\n",
       "      <td>0</td>\n",
       "      <td>0</td>\n",
       "      <td>0</td>\n",
       "      <td>0</td>\n",
       "      <td>0</td>\n",
       "      <td>1</td>\n",
       "      <td>0</td>\n",
       "      <td>0</td>\n",
       "    </tr>\n",
       "    <tr>\n",
       "      <th>3270</th>\n",
       "      <td>6/25/2017</td>\n",
       "      <td>7.6</td>\n",
       "      <td>19.3</td>\n",
       "      <td>0.0</td>\n",
       "      <td>3.4</td>\n",
       "      <td>9.4</td>\n",
       "      <td>35</td>\n",
       "      <td>13</td>\n",
       "      <td>13</td>\n",
       "      <td>73</td>\n",
       "      <td>...</td>\n",
       "      <td>0</td>\n",
       "      <td>0</td>\n",
       "      <td>0</td>\n",
       "      <td>0</td>\n",
       "      <td>0</td>\n",
       "      <td>0</td>\n",
       "      <td>0</td>\n",
       "      <td>1</td>\n",
       "      <td>0</td>\n",
       "      <td>0</td>\n",
       "    </tr>\n",
       "  </tbody>\n",
       "</table>\n",
       "<p>3271 rows × 68 columns</p>\n",
       "</div>"
      ],
      "text/plain": [
       "           Date  MinTemp  MaxTemp  Rainfall  Evaporation  Sunshine  \\\n",
       "0      2/1/2008     19.5     22.4      15.6          6.2       0.0   \n",
       "1      2/2/2008     19.5     25.6       6.0          3.4       2.7   \n",
       "2      2/3/2008     21.6     24.5       6.6          2.4       0.1   \n",
       "3      2/4/2008     20.2     22.8      18.8          2.2       0.0   \n",
       "4      2/5/2008     19.7     25.7      77.4          4.8       0.0   \n",
       "...         ...      ...      ...       ...          ...       ...   \n",
       "3266  6/21/2017      8.6     19.6       0.0          2.0       7.8   \n",
       "3267  6/22/2017      9.3     19.2       0.0          2.0       9.2   \n",
       "3268  6/23/2017      9.4     17.7       0.0          2.4       2.7   \n",
       "3269  6/24/2017     10.1     19.3       0.0          1.4       9.3   \n",
       "3270  6/25/2017      7.6     19.3       0.0          3.4       9.4   \n",
       "\n",
       "      WindGustSpeed  WindSpeed9am  WindSpeed3pm  Humidity9am  ...  \\\n",
       "0                41            17            20           92  ...   \n",
       "1                41             9            13           83  ...   \n",
       "2                41            17             2           88  ...   \n",
       "3                41            22            20           83  ...   \n",
       "4                41            11             6           88  ...   \n",
       "...             ...           ...           ...          ...  ...   \n",
       "3266             37            22            20           73  ...   \n",
       "3267             30            20             7           78  ...   \n",
       "3268             24            15            13           85  ...   \n",
       "3269             43            17            19           56  ...   \n",
       "3270             35            13            13           73  ...   \n",
       "\n",
       "      WindDir3pm_NNW  WindDir3pm_NW  WindDir3pm_S  WindDir3pm_SE  \\\n",
       "0                  0              0             0              0   \n",
       "1                  0              0             0              0   \n",
       "2                  0              0             0              0   \n",
       "3                  0              0             0              0   \n",
       "4                  0              0             0              0   \n",
       "...              ...            ...           ...            ...   \n",
       "3266               0              0             0              0   \n",
       "3267               0              0             0              0   \n",
       "3268               0              0             0              0   \n",
       "3269               0              0             0              0   \n",
       "3270               0              0             0              0   \n",
       "\n",
       "      WindDir3pm_SSE  WindDir3pm_SSW  WindDir3pm_SW WindDir3pm_W  \\\n",
       "0                  0               1              0            0   \n",
       "1                  0               0              0            0   \n",
       "2                  0               0              0            0   \n",
       "3                  0               0              0            0   \n",
       "4                  0               0              0            1   \n",
       "...              ...             ...            ...          ...   \n",
       "3266               1               0              0            0   \n",
       "3267               0               0              0            0   \n",
       "3268               0               0              0            0   \n",
       "3269               0               0              0            1   \n",
       "3270               0               0              0            1   \n",
       "\n",
       "      WindDir3pm_WNW  WindDir3pm_WSW  \n",
       "0                  0               0  \n",
       "1                  0               0  \n",
       "2                  0               0  \n",
       "3                  0               0  \n",
       "4                  0               0  \n",
       "...              ...             ...  \n",
       "3266               0               0  \n",
       "3267               0               0  \n",
       "3268               0               0  \n",
       "3269               0               0  \n",
       "3270               0               0  \n",
       "\n",
       "[3271 rows x 68 columns]"
      ]
     },
     "execution_count": 8,
     "metadata": {},
     "output_type": "execute_result"
    }
   ],
   "source": [
    "df_sydney_processed"
   ]
  },
  {
   "cell_type": "markdown",
   "id": "9a4df084",
   "metadata": {
    "papermill": {
     "duration": 0.024657,
     "end_time": "2023-06-18T08:51:37.639335",
     "exception": false,
     "start_time": "2023-06-18T08:51:37.614678",
     "status": "completed"
    },
    "tags": []
   },
   "source": [
    "Next, we replace the values of the 'RainTomorrow' column changing them from a categorical column to a binary column. We do not use the `get_dummies` method because we would end up with two columns for 'RainTomorrow' and we do not want, since 'RainTomorrow' is our target.\n"
   ]
  },
  {
   "cell_type": "code",
   "execution_count": 9,
   "id": "f16dc2c3",
   "metadata": {
    "execution": {
     "iopub.execute_input": "2023-06-18T08:51:37.689952Z",
     "iopub.status.busy": "2023-06-18T08:51:37.689297Z",
     "iopub.status.idle": "2023-06-18T08:51:37.700948Z",
     "shell.execute_reply": "2023-06-18T08:51:37.700052Z"
    },
    "papermill": {
     "duration": 0.039621,
     "end_time": "2023-06-18T08:51:37.703352",
     "exception": false,
     "start_time": "2023-06-18T08:51:37.663731",
     "status": "completed"
    },
    "tags": []
   },
   "outputs": [],
   "source": [
    "df_sydney_processed.replace(['No', 'Yes'], [0,1], inplace=True)"
   ]
  },
  {
   "cell_type": "markdown",
   "id": "f975a573",
   "metadata": {
    "papermill": {
     "duration": 0.023456,
     "end_time": "2023-06-18T08:51:37.750539",
     "exception": false,
     "start_time": "2023-06-18T08:51:37.727083",
     "status": "completed"
    },
    "tags": []
   },
   "source": [
    "### Training Data and Test Data\n"
   ]
  },
  {
   "cell_type": "markdown",
   "id": "330b4250",
   "metadata": {
    "papermill": {
     "duration": 0.02339,
     "end_time": "2023-06-18T08:51:37.797791",
     "exception": false,
     "start_time": "2023-06-18T08:51:37.774401",
     "status": "completed"
    },
    "tags": []
   },
   "source": [
    "Now, we set our 'features' or x values and our Y or target variable.\n"
   ]
  },
  {
   "cell_type": "code",
   "execution_count": 10,
   "id": "cd8fd085",
   "metadata": {
    "execution": {
     "iopub.execute_input": "2023-06-18T08:51:37.848109Z",
     "iopub.status.busy": "2023-06-18T08:51:37.847357Z",
     "iopub.status.idle": "2023-06-18T08:51:37.853863Z",
     "shell.execute_reply": "2023-06-18T08:51:37.853004Z"
    },
    "papermill": {
     "duration": 0.034402,
     "end_time": "2023-06-18T08:51:37.856214",
     "exception": false,
     "start_time": "2023-06-18T08:51:37.821812",
     "status": "completed"
    },
    "tags": []
   },
   "outputs": [],
   "source": [
    "df_sydney_processed.drop('Date',axis=1,inplace=True)"
   ]
  },
  {
   "cell_type": "code",
   "execution_count": 11,
   "id": "786eee70",
   "metadata": {
    "execution": {
     "iopub.execute_input": "2023-06-18T08:51:37.908144Z",
     "iopub.status.busy": "2023-06-18T08:51:37.907716Z",
     "iopub.status.idle": "2023-06-18T08:51:37.937982Z",
     "shell.execute_reply": "2023-06-18T08:51:37.936790Z"
    },
    "papermill": {
     "duration": 0.059731,
     "end_time": "2023-06-18T08:51:37.940720",
     "exception": false,
     "start_time": "2023-06-18T08:51:37.880989",
     "status": "completed"
    },
    "tags": []
   },
   "outputs": [
    {
     "data": {
      "text/html": [
       "<div>\n",
       "<style scoped>\n",
       "    .dataframe tbody tr th:only-of-type {\n",
       "        vertical-align: middle;\n",
       "    }\n",
       "\n",
       "    .dataframe tbody tr th {\n",
       "        vertical-align: top;\n",
       "    }\n",
       "\n",
       "    .dataframe thead th {\n",
       "        text-align: right;\n",
       "    }\n",
       "</style>\n",
       "<table border=\"1\" class=\"dataframe\">\n",
       "  <thead>\n",
       "    <tr style=\"text-align: right;\">\n",
       "      <th></th>\n",
       "      <th>MinTemp</th>\n",
       "      <th>MaxTemp</th>\n",
       "      <th>Rainfall</th>\n",
       "      <th>Evaporation</th>\n",
       "      <th>Sunshine</th>\n",
       "      <th>WindGustSpeed</th>\n",
       "      <th>WindSpeed9am</th>\n",
       "      <th>WindSpeed3pm</th>\n",
       "      <th>Humidity9am</th>\n",
       "      <th>Humidity3pm</th>\n",
       "      <th>...</th>\n",
       "      <th>WindDir3pm_NNW</th>\n",
       "      <th>WindDir3pm_NW</th>\n",
       "      <th>WindDir3pm_S</th>\n",
       "      <th>WindDir3pm_SE</th>\n",
       "      <th>WindDir3pm_SSE</th>\n",
       "      <th>WindDir3pm_SSW</th>\n",
       "      <th>WindDir3pm_SW</th>\n",
       "      <th>WindDir3pm_W</th>\n",
       "      <th>WindDir3pm_WNW</th>\n",
       "      <th>WindDir3pm_WSW</th>\n",
       "    </tr>\n",
       "  </thead>\n",
       "  <tbody>\n",
       "    <tr>\n",
       "      <th>0</th>\n",
       "      <td>19.5</td>\n",
       "      <td>22.4</td>\n",
       "      <td>15.6</td>\n",
       "      <td>6.2</td>\n",
       "      <td>0.0</td>\n",
       "      <td>41</td>\n",
       "      <td>17</td>\n",
       "      <td>20</td>\n",
       "      <td>92</td>\n",
       "      <td>84</td>\n",
       "      <td>...</td>\n",
       "      <td>0</td>\n",
       "      <td>0</td>\n",
       "      <td>0</td>\n",
       "      <td>0</td>\n",
       "      <td>0</td>\n",
       "      <td>1</td>\n",
       "      <td>0</td>\n",
       "      <td>0</td>\n",
       "      <td>0</td>\n",
       "      <td>0</td>\n",
       "    </tr>\n",
       "    <tr>\n",
       "      <th>1</th>\n",
       "      <td>19.5</td>\n",
       "      <td>25.6</td>\n",
       "      <td>6.0</td>\n",
       "      <td>3.4</td>\n",
       "      <td>2.7</td>\n",
       "      <td>41</td>\n",
       "      <td>9</td>\n",
       "      <td>13</td>\n",
       "      <td>83</td>\n",
       "      <td>73</td>\n",
       "      <td>...</td>\n",
       "      <td>0</td>\n",
       "      <td>0</td>\n",
       "      <td>0</td>\n",
       "      <td>0</td>\n",
       "      <td>0</td>\n",
       "      <td>0</td>\n",
       "      <td>0</td>\n",
       "      <td>0</td>\n",
       "      <td>0</td>\n",
       "      <td>0</td>\n",
       "    </tr>\n",
       "    <tr>\n",
       "      <th>2</th>\n",
       "      <td>21.6</td>\n",
       "      <td>24.5</td>\n",
       "      <td>6.6</td>\n",
       "      <td>2.4</td>\n",
       "      <td>0.1</td>\n",
       "      <td>41</td>\n",
       "      <td>17</td>\n",
       "      <td>2</td>\n",
       "      <td>88</td>\n",
       "      <td>86</td>\n",
       "      <td>...</td>\n",
       "      <td>0</td>\n",
       "      <td>0</td>\n",
       "      <td>0</td>\n",
       "      <td>0</td>\n",
       "      <td>0</td>\n",
       "      <td>0</td>\n",
       "      <td>0</td>\n",
       "      <td>0</td>\n",
       "      <td>0</td>\n",
       "      <td>0</td>\n",
       "    </tr>\n",
       "    <tr>\n",
       "      <th>3</th>\n",
       "      <td>20.2</td>\n",
       "      <td>22.8</td>\n",
       "      <td>18.8</td>\n",
       "      <td>2.2</td>\n",
       "      <td>0.0</td>\n",
       "      <td>41</td>\n",
       "      <td>22</td>\n",
       "      <td>20</td>\n",
       "      <td>83</td>\n",
       "      <td>90</td>\n",
       "      <td>...</td>\n",
       "      <td>0</td>\n",
       "      <td>0</td>\n",
       "      <td>0</td>\n",
       "      <td>0</td>\n",
       "      <td>0</td>\n",
       "      <td>0</td>\n",
       "      <td>0</td>\n",
       "      <td>0</td>\n",
       "      <td>0</td>\n",
       "      <td>0</td>\n",
       "    </tr>\n",
       "    <tr>\n",
       "      <th>4</th>\n",
       "      <td>19.7</td>\n",
       "      <td>25.7</td>\n",
       "      <td>77.4</td>\n",
       "      <td>4.8</td>\n",
       "      <td>0.0</td>\n",
       "      <td>41</td>\n",
       "      <td>11</td>\n",
       "      <td>6</td>\n",
       "      <td>88</td>\n",
       "      <td>74</td>\n",
       "      <td>...</td>\n",
       "      <td>0</td>\n",
       "      <td>0</td>\n",
       "      <td>0</td>\n",
       "      <td>0</td>\n",
       "      <td>0</td>\n",
       "      <td>0</td>\n",
       "      <td>0</td>\n",
       "      <td>1</td>\n",
       "      <td>0</td>\n",
       "      <td>0</td>\n",
       "    </tr>\n",
       "    <tr>\n",
       "      <th>...</th>\n",
       "      <td>...</td>\n",
       "      <td>...</td>\n",
       "      <td>...</td>\n",
       "      <td>...</td>\n",
       "      <td>...</td>\n",
       "      <td>...</td>\n",
       "      <td>...</td>\n",
       "      <td>...</td>\n",
       "      <td>...</td>\n",
       "      <td>...</td>\n",
       "      <td>...</td>\n",
       "      <td>...</td>\n",
       "      <td>...</td>\n",
       "      <td>...</td>\n",
       "      <td>...</td>\n",
       "      <td>...</td>\n",
       "      <td>...</td>\n",
       "      <td>...</td>\n",
       "      <td>...</td>\n",
       "      <td>...</td>\n",
       "      <td>...</td>\n",
       "    </tr>\n",
       "    <tr>\n",
       "      <th>3266</th>\n",
       "      <td>8.6</td>\n",
       "      <td>19.6</td>\n",
       "      <td>0.0</td>\n",
       "      <td>2.0</td>\n",
       "      <td>7.8</td>\n",
       "      <td>37</td>\n",
       "      <td>22</td>\n",
       "      <td>20</td>\n",
       "      <td>73</td>\n",
       "      <td>52</td>\n",
       "      <td>...</td>\n",
       "      <td>0</td>\n",
       "      <td>0</td>\n",
       "      <td>0</td>\n",
       "      <td>0</td>\n",
       "      <td>1</td>\n",
       "      <td>0</td>\n",
       "      <td>0</td>\n",
       "      <td>0</td>\n",
       "      <td>0</td>\n",
       "      <td>0</td>\n",
       "    </tr>\n",
       "    <tr>\n",
       "      <th>3267</th>\n",
       "      <td>9.3</td>\n",
       "      <td>19.2</td>\n",
       "      <td>0.0</td>\n",
       "      <td>2.0</td>\n",
       "      <td>9.2</td>\n",
       "      <td>30</td>\n",
       "      <td>20</td>\n",
       "      <td>7</td>\n",
       "      <td>78</td>\n",
       "      <td>53</td>\n",
       "      <td>...</td>\n",
       "      <td>0</td>\n",
       "      <td>0</td>\n",
       "      <td>0</td>\n",
       "      <td>0</td>\n",
       "      <td>0</td>\n",
       "      <td>0</td>\n",
       "      <td>0</td>\n",
       "      <td>0</td>\n",
       "      <td>0</td>\n",
       "      <td>0</td>\n",
       "    </tr>\n",
       "    <tr>\n",
       "      <th>3268</th>\n",
       "      <td>9.4</td>\n",
       "      <td>17.7</td>\n",
       "      <td>0.0</td>\n",
       "      <td>2.4</td>\n",
       "      <td>2.7</td>\n",
       "      <td>24</td>\n",
       "      <td>15</td>\n",
       "      <td>13</td>\n",
       "      <td>85</td>\n",
       "      <td>56</td>\n",
       "      <td>...</td>\n",
       "      <td>0</td>\n",
       "      <td>0</td>\n",
       "      <td>0</td>\n",
       "      <td>0</td>\n",
       "      <td>0</td>\n",
       "      <td>0</td>\n",
       "      <td>0</td>\n",
       "      <td>0</td>\n",
       "      <td>0</td>\n",
       "      <td>0</td>\n",
       "    </tr>\n",
       "    <tr>\n",
       "      <th>3269</th>\n",
       "      <td>10.1</td>\n",
       "      <td>19.3</td>\n",
       "      <td>0.0</td>\n",
       "      <td>1.4</td>\n",
       "      <td>9.3</td>\n",
       "      <td>43</td>\n",
       "      <td>17</td>\n",
       "      <td>19</td>\n",
       "      <td>56</td>\n",
       "      <td>35</td>\n",
       "      <td>...</td>\n",
       "      <td>0</td>\n",
       "      <td>0</td>\n",
       "      <td>0</td>\n",
       "      <td>0</td>\n",
       "      <td>0</td>\n",
       "      <td>0</td>\n",
       "      <td>0</td>\n",
       "      <td>1</td>\n",
       "      <td>0</td>\n",
       "      <td>0</td>\n",
       "    </tr>\n",
       "    <tr>\n",
       "      <th>3270</th>\n",
       "      <td>7.6</td>\n",
       "      <td>19.3</td>\n",
       "      <td>0.0</td>\n",
       "      <td>3.4</td>\n",
       "      <td>9.4</td>\n",
       "      <td>35</td>\n",
       "      <td>13</td>\n",
       "      <td>13</td>\n",
       "      <td>73</td>\n",
       "      <td>32</td>\n",
       "      <td>...</td>\n",
       "      <td>0</td>\n",
       "      <td>0</td>\n",
       "      <td>0</td>\n",
       "      <td>0</td>\n",
       "      <td>0</td>\n",
       "      <td>0</td>\n",
       "      <td>0</td>\n",
       "      <td>1</td>\n",
       "      <td>0</td>\n",
       "      <td>0</td>\n",
       "    </tr>\n",
       "  </tbody>\n",
       "</table>\n",
       "<p>3271 rows × 67 columns</p>\n",
       "</div>"
      ],
      "text/plain": [
       "      MinTemp  MaxTemp  Rainfall  Evaporation  Sunshine  WindGustSpeed  \\\n",
       "0        19.5     22.4      15.6          6.2       0.0             41   \n",
       "1        19.5     25.6       6.0          3.4       2.7             41   \n",
       "2        21.6     24.5       6.6          2.4       0.1             41   \n",
       "3        20.2     22.8      18.8          2.2       0.0             41   \n",
       "4        19.7     25.7      77.4          4.8       0.0             41   \n",
       "...       ...      ...       ...          ...       ...            ...   \n",
       "3266      8.6     19.6       0.0          2.0       7.8             37   \n",
       "3267      9.3     19.2       0.0          2.0       9.2             30   \n",
       "3268      9.4     17.7       0.0          2.4       2.7             24   \n",
       "3269     10.1     19.3       0.0          1.4       9.3             43   \n",
       "3270      7.6     19.3       0.0          3.4       9.4             35   \n",
       "\n",
       "      WindSpeed9am  WindSpeed3pm  Humidity9am  Humidity3pm  ...  \\\n",
       "0               17            20           92           84  ...   \n",
       "1                9            13           83           73  ...   \n",
       "2               17             2           88           86  ...   \n",
       "3               22            20           83           90  ...   \n",
       "4               11             6           88           74  ...   \n",
       "...            ...           ...          ...          ...  ...   \n",
       "3266            22            20           73           52  ...   \n",
       "3267            20             7           78           53  ...   \n",
       "3268            15            13           85           56  ...   \n",
       "3269            17            19           56           35  ...   \n",
       "3270            13            13           73           32  ...   \n",
       "\n",
       "      WindDir3pm_NNW  WindDir3pm_NW  WindDir3pm_S  WindDir3pm_SE  \\\n",
       "0                  0              0             0              0   \n",
       "1                  0              0             0              0   \n",
       "2                  0              0             0              0   \n",
       "3                  0              0             0              0   \n",
       "4                  0              0             0              0   \n",
       "...              ...            ...           ...            ...   \n",
       "3266               0              0             0              0   \n",
       "3267               0              0             0              0   \n",
       "3268               0              0             0              0   \n",
       "3269               0              0             0              0   \n",
       "3270               0              0             0              0   \n",
       "\n",
       "      WindDir3pm_SSE  WindDir3pm_SSW  WindDir3pm_SW  WindDir3pm_W  \\\n",
       "0                  0               1              0             0   \n",
       "1                  0               0              0             0   \n",
       "2                  0               0              0             0   \n",
       "3                  0               0              0             0   \n",
       "4                  0               0              0             1   \n",
       "...              ...             ...            ...           ...   \n",
       "3266               1               0              0             0   \n",
       "3267               0               0              0             0   \n",
       "3268               0               0              0             0   \n",
       "3269               0               0              0             1   \n",
       "3270               0               0              0             1   \n",
       "\n",
       "      WindDir3pm_WNW  WindDir3pm_WSW  \n",
       "0                  0               0  \n",
       "1                  0               0  \n",
       "2                  0               0  \n",
       "3                  0               0  \n",
       "4                  0               0  \n",
       "...              ...             ...  \n",
       "3266               0               0  \n",
       "3267               0               0  \n",
       "3268               0               0  \n",
       "3269               0               0  \n",
       "3270               0               0  \n",
       "\n",
       "[3271 rows x 67 columns]"
      ]
     },
     "execution_count": 11,
     "metadata": {},
     "output_type": "execute_result"
    }
   ],
   "source": [
    "df_sydney_processed"
   ]
  },
  {
   "cell_type": "code",
   "execution_count": 12,
   "id": "c49f8241",
   "metadata": {
    "execution": {
     "iopub.execute_input": "2023-06-18T08:51:37.992812Z",
     "iopub.status.busy": "2023-06-18T08:51:37.992376Z",
     "iopub.status.idle": "2023-06-18T08:51:38.000315Z",
     "shell.execute_reply": "2023-06-18T08:51:37.999119Z"
    },
    "papermill": {
     "duration": 0.036892,
     "end_time": "2023-06-18T08:51:38.002950",
     "exception": false,
     "start_time": "2023-06-18T08:51:37.966058",
     "status": "completed"
    },
    "tags": []
   },
   "outputs": [],
   "source": [
    "df_sydney_processed = df_sydney_processed.astype(float)"
   ]
  },
  {
   "cell_type": "code",
   "execution_count": 13,
   "id": "58186a37",
   "metadata": {
    "execution": {
     "iopub.execute_input": "2023-06-18T08:51:38.056195Z",
     "iopub.status.busy": "2023-06-18T08:51:38.055763Z",
     "iopub.status.idle": "2023-06-18T08:51:38.064256Z",
     "shell.execute_reply": "2023-06-18T08:51:38.063111Z"
    },
    "papermill": {
     "duration": 0.038012,
     "end_time": "2023-06-18T08:51:38.066500",
     "exception": false,
     "start_time": "2023-06-18T08:51:38.028488",
     "status": "completed"
    },
    "tags": []
   },
   "outputs": [],
   "source": [
    "features = df_sydney_processed.drop(columns='RainTomorrow', axis=1)\n",
    "Y = df_sydney_processed['RainTomorrow']"
   ]
  },
  {
   "cell_type": "markdown",
   "id": "7e2f07de",
   "metadata": {
    "papermill": {
     "duration": 0.025109,
     "end_time": "2023-06-18T08:51:38.117736",
     "exception": false,
     "start_time": "2023-06-18T08:51:38.092627",
     "status": "completed"
    },
    "tags": []
   },
   "source": [
    "### Linear Regression\n"
   ]
  },
  {
   "cell_type": "markdown",
   "id": "985f6542",
   "metadata": {
    "papermill": {
     "duration": 0.024419,
     "end_time": "2023-06-18T08:51:38.167792",
     "exception": false,
     "start_time": "2023-06-18T08:51:38.143373",
     "status": "completed"
    },
    "tags": []
   },
   "source": [
    "#### Q1) Use the `train_test_split` function to split the `features` and `Y` dataframes with a `test_size` of `0.2` and the `random_state` set to `10`.\n"
   ]
  },
  {
   "cell_type": "code",
   "execution_count": 14,
   "id": "1309d21c",
   "metadata": {
    "execution": {
     "iopub.execute_input": "2023-06-18T08:51:38.218879Z",
     "iopub.status.busy": "2023-06-18T08:51:38.218462Z",
     "iopub.status.idle": "2023-06-18T08:51:38.223073Z",
     "shell.execute_reply": "2023-06-18T08:51:38.222031Z"
    },
    "papermill": {
     "duration": 0.033099,
     "end_time": "2023-06-18T08:51:38.225339",
     "exception": false,
     "start_time": "2023-06-18T08:51:38.192240",
     "status": "completed"
    },
    "tags": []
   },
   "outputs": [],
   "source": [
    "#Enter Your Code, Execute and take the Screenshot\n"
   ]
  },
  {
   "cell_type": "code",
   "execution_count": 15,
   "id": "491c9841",
   "metadata": {
    "execution": {
     "iopub.execute_input": "2023-06-18T08:51:38.277559Z",
     "iopub.status.busy": "2023-06-18T08:51:38.277131Z",
     "iopub.status.idle": "2023-06-18T08:51:38.287950Z",
     "shell.execute_reply": "2023-06-18T08:51:38.286856Z"
    },
    "papermill": {
     "duration": 0.039751,
     "end_time": "2023-06-18T08:51:38.290618",
     "exception": false,
     "start_time": "2023-06-18T08:51:38.250867",
     "status": "completed"
    },
    "tags": []
   },
   "outputs": [],
   "source": [
    "x_train, x_test, y_train, y_test = train_test_split(features, Y, test_size=0.2, random_state=10)"
   ]
  },
  {
   "cell_type": "markdown",
   "id": "41e93cc5",
   "metadata": {
    "papermill": {
     "duration": 0.024261,
     "end_time": "2023-06-18T08:51:38.339650",
     "exception": false,
     "start_time": "2023-06-18T08:51:38.315389",
     "status": "completed"
    },
    "tags": []
   },
   "source": [
    "#### Q2) Create and train a Linear Regression model called LinearReg using the training data (`x_train`, `y_train`).\n"
   ]
  },
  {
   "cell_type": "code",
   "execution_count": 16,
   "id": "36eb7904",
   "metadata": {
    "execution": {
     "iopub.execute_input": "2023-06-18T08:51:38.390489Z",
     "iopub.status.busy": "2023-06-18T08:51:38.390048Z",
     "iopub.status.idle": "2023-06-18T08:51:38.394773Z",
     "shell.execute_reply": "2023-06-18T08:51:38.393695Z"
    },
    "papermill": {
     "duration": 0.032714,
     "end_time": "2023-06-18T08:51:38.396962",
     "exception": false,
     "start_time": "2023-06-18T08:51:38.364248",
     "status": "completed"
    },
    "tags": []
   },
   "outputs": [],
   "source": [
    "#Enter Your Code, Execute and take the Screenshot"
   ]
  },
  {
   "cell_type": "code",
   "execution_count": 17,
   "id": "891c427f",
   "metadata": {
    "execution": {
     "iopub.execute_input": "2023-06-18T08:51:38.449413Z",
     "iopub.status.busy": "2023-06-18T08:51:38.448731Z",
     "iopub.status.idle": "2023-06-18T08:51:38.506692Z",
     "shell.execute_reply": "2023-06-18T08:51:38.505273Z"
    },
    "papermill": {
     "duration": 0.08888,
     "end_time": "2023-06-18T08:51:38.510604",
     "exception": false,
     "start_time": "2023-06-18T08:51:38.421724",
     "status": "completed"
    },
    "tags": []
   },
   "outputs": [
    {
     "data": {
      "text/html": [
       "<style>#sk-container-id-1 {color: black;background-color: white;}#sk-container-id-1 pre{padding: 0;}#sk-container-id-1 div.sk-toggleable {background-color: white;}#sk-container-id-1 label.sk-toggleable__label {cursor: pointer;display: block;width: 100%;margin-bottom: 0;padding: 0.3em;box-sizing: border-box;text-align: center;}#sk-container-id-1 label.sk-toggleable__label-arrow:before {content: \"▸\";float: left;margin-right: 0.25em;color: #696969;}#sk-container-id-1 label.sk-toggleable__label-arrow:hover:before {color: black;}#sk-container-id-1 div.sk-estimator:hover label.sk-toggleable__label-arrow:before {color: black;}#sk-container-id-1 div.sk-toggleable__content {max-height: 0;max-width: 0;overflow: hidden;text-align: left;background-color: #f0f8ff;}#sk-container-id-1 div.sk-toggleable__content pre {margin: 0.2em;color: black;border-radius: 0.25em;background-color: #f0f8ff;}#sk-container-id-1 input.sk-toggleable__control:checked~div.sk-toggleable__content {max-height: 200px;max-width: 100%;overflow: auto;}#sk-container-id-1 input.sk-toggleable__control:checked~label.sk-toggleable__label-arrow:before {content: \"▾\";}#sk-container-id-1 div.sk-estimator input.sk-toggleable__control:checked~label.sk-toggleable__label {background-color: #d4ebff;}#sk-container-id-1 div.sk-label input.sk-toggleable__control:checked~label.sk-toggleable__label {background-color: #d4ebff;}#sk-container-id-1 input.sk-hidden--visually {border: 0;clip: rect(1px 1px 1px 1px);clip: rect(1px, 1px, 1px, 1px);height: 1px;margin: -1px;overflow: hidden;padding: 0;position: absolute;width: 1px;}#sk-container-id-1 div.sk-estimator {font-family: monospace;background-color: #f0f8ff;border: 1px dotted black;border-radius: 0.25em;box-sizing: border-box;margin-bottom: 0.5em;}#sk-container-id-1 div.sk-estimator:hover {background-color: #d4ebff;}#sk-container-id-1 div.sk-parallel-item::after {content: \"\";width: 100%;border-bottom: 1px solid gray;flex-grow: 1;}#sk-container-id-1 div.sk-label:hover label.sk-toggleable__label {background-color: #d4ebff;}#sk-container-id-1 div.sk-serial::before {content: \"\";position: absolute;border-left: 1px solid gray;box-sizing: border-box;top: 0;bottom: 0;left: 50%;z-index: 0;}#sk-container-id-1 div.sk-serial {display: flex;flex-direction: column;align-items: center;background-color: white;padding-right: 0.2em;padding-left: 0.2em;position: relative;}#sk-container-id-1 div.sk-item {position: relative;z-index: 1;}#sk-container-id-1 div.sk-parallel {display: flex;align-items: stretch;justify-content: center;background-color: white;position: relative;}#sk-container-id-1 div.sk-item::before, #sk-container-id-1 div.sk-parallel-item::before {content: \"\";position: absolute;border-left: 1px solid gray;box-sizing: border-box;top: 0;bottom: 0;left: 50%;z-index: -1;}#sk-container-id-1 div.sk-parallel-item {display: flex;flex-direction: column;z-index: 1;position: relative;background-color: white;}#sk-container-id-1 div.sk-parallel-item:first-child::after {align-self: flex-end;width: 50%;}#sk-container-id-1 div.sk-parallel-item:last-child::after {align-self: flex-start;width: 50%;}#sk-container-id-1 div.sk-parallel-item:only-child::after {width: 0;}#sk-container-id-1 div.sk-dashed-wrapped {border: 1px dashed gray;margin: 0 0.4em 0.5em 0.4em;box-sizing: border-box;padding-bottom: 0.4em;background-color: white;}#sk-container-id-1 div.sk-label label {font-family: monospace;font-weight: bold;display: inline-block;line-height: 1.2em;}#sk-container-id-1 div.sk-label-container {text-align: center;}#sk-container-id-1 div.sk-container {/* jupyter's `normalize.less` sets `[hidden] { display: none; }` but bootstrap.min.css set `[hidden] { display: none !important; }` so we also need the `!important` here to be able to override the default hidden behavior on the sphinx rendered scikit-learn.org. See: https://github.com/scikit-learn/scikit-learn/issues/21755 */display: inline-block !important;position: relative;}#sk-container-id-1 div.sk-text-repr-fallback {display: none;}</style><div id=\"sk-container-id-1\" class=\"sk-top-container\"><div class=\"sk-text-repr-fallback\"><pre>LinearRegression()</pre><b>In a Jupyter environment, please rerun this cell to show the HTML representation or trust the notebook. <br />On GitHub, the HTML representation is unable to render, please try loading this page with nbviewer.org.</b></div><div class=\"sk-container\" hidden><div class=\"sk-item\"><div class=\"sk-estimator sk-toggleable\"><input class=\"sk-toggleable__control sk-hidden--visually\" id=\"sk-estimator-id-1\" type=\"checkbox\" checked><label for=\"sk-estimator-id-1\" class=\"sk-toggleable__label sk-toggleable__label-arrow\">LinearRegression</label><div class=\"sk-toggleable__content\"><pre>LinearRegression()</pre></div></div></div></div></div>"
      ],
      "text/plain": [
       "LinearRegression()"
      ]
     },
     "execution_count": 17,
     "metadata": {},
     "output_type": "execute_result"
    }
   ],
   "source": [
    "LinearReg = LinearRegression()\n",
    "LinearReg.fit(x_train, y_train)"
   ]
  },
  {
   "cell_type": "markdown",
   "id": "8ea40f87",
   "metadata": {
    "papermill": {
     "duration": 0.046708,
     "end_time": "2023-06-18T08:51:38.608845",
     "exception": false,
     "start_time": "2023-06-18T08:51:38.562137",
     "status": "completed"
    },
    "tags": []
   },
   "source": [
    "#### Q3) Now use the `predict` method on the testing data (`x_test`) and save it to the array `predictions`.\n"
   ]
  },
  {
   "cell_type": "code",
   "execution_count": 18,
   "id": "98dfee67",
   "metadata": {
    "execution": {
     "iopub.execute_input": "2023-06-18T08:51:38.660121Z",
     "iopub.status.busy": "2023-06-18T08:51:38.659706Z",
     "iopub.status.idle": "2023-06-18T08:51:38.664280Z",
     "shell.execute_reply": "2023-06-18T08:51:38.663203Z"
    },
    "papermill": {
     "duration": 0.033389,
     "end_time": "2023-06-18T08:51:38.666974",
     "exception": false,
     "start_time": "2023-06-18T08:51:38.633585",
     "status": "completed"
    },
    "tags": []
   },
   "outputs": [],
   "source": [
    "#Enter Your Code, Execute and take the Screenshot"
   ]
  },
  {
   "cell_type": "code",
   "execution_count": 19,
   "id": "8a247046",
   "metadata": {
    "execution": {
     "iopub.execute_input": "2023-06-18T08:51:38.721315Z",
     "iopub.status.busy": "2023-06-18T08:51:38.720650Z",
     "iopub.status.idle": "2023-06-18T08:51:38.735758Z",
     "shell.execute_reply": "2023-06-18T08:51:38.733661Z"
    },
    "papermill": {
     "duration": 0.047583,
     "end_time": "2023-06-18T08:51:38.740237",
     "exception": false,
     "start_time": "2023-06-18T08:51:38.692654",
     "status": "completed"
    },
    "tags": []
   },
   "outputs": [],
   "source": [
    "predictions = LinearReg.predict(x_test)"
   ]
  },
  {
   "cell_type": "markdown",
   "id": "4dd9e5e2",
   "metadata": {
    "papermill": {
     "duration": 0.053514,
     "end_time": "2023-06-18T08:51:38.847829",
     "exception": false,
     "start_time": "2023-06-18T08:51:38.794315",
     "status": "completed"
    },
    "tags": []
   },
   "source": [
    "#### Q4) Using the `predictions` and the `y_test` dataframe calculate the value for each metric using the appropriate function.\n"
   ]
  },
  {
   "cell_type": "code",
   "execution_count": 20,
   "id": "3a2a5522",
   "metadata": {
    "execution": {
     "iopub.execute_input": "2023-06-18T08:51:38.900503Z",
     "iopub.status.busy": "2023-06-18T08:51:38.900111Z",
     "iopub.status.idle": "2023-06-18T08:51:38.905342Z",
     "shell.execute_reply": "2023-06-18T08:51:38.903995Z"
    },
    "papermill": {
     "duration": 0.033784,
     "end_time": "2023-06-18T08:51:38.907515",
     "exception": false,
     "start_time": "2023-06-18T08:51:38.873731",
     "status": "completed"
    },
    "tags": []
   },
   "outputs": [],
   "source": [
    "#Enter Your Code, Execute and take the Screenshot"
   ]
  },
  {
   "cell_type": "code",
   "execution_count": 21,
   "id": "95034933",
   "metadata": {
    "execution": {
     "iopub.execute_input": "2023-06-18T08:51:38.960342Z",
     "iopub.status.busy": "2023-06-18T08:51:38.959708Z",
     "iopub.status.idle": "2023-06-18T08:51:38.970371Z",
     "shell.execute_reply": "2023-06-18T08:51:38.968697Z"
    },
    "papermill": {
     "duration": 0.039784,
     "end_time": "2023-06-18T08:51:38.973013",
     "exception": false,
     "start_time": "2023-06-18T08:51:38.933229",
     "status": "completed"
    },
    "tags": []
   },
   "outputs": [
    {
     "name": "stdout",
     "output_type": "stream",
     "text": [
      "MAE: 0.25631760994203806\n",
      "MSE: 0.11572058282746585\n",
      "R2: 0.4271321073623009\n"
     ]
    }
   ],
   "source": [
    "LinearRegression_MAE = metrics.mean_absolute_error(y_test, predictions)\n",
    "LinearRegression_MSE = metrics.mean_squared_error(y_test, predictions)\n",
    "LinearRegression_R2 = metrics.r2_score(y_test, predictions)\n",
    "\n",
    "print(\"MAE:\", LinearRegression_MAE)\n",
    "print(\"MSE:\", LinearRegression_MSE)\n",
    "print(\"R2:\", LinearRegression_R2)"
   ]
  },
  {
   "cell_type": "markdown",
   "id": "0217c6f4",
   "metadata": {
    "papermill": {
     "duration": 0.028694,
     "end_time": "2023-06-18T08:51:39.028656",
     "exception": false,
     "start_time": "2023-06-18T08:51:38.999962",
     "status": "completed"
    },
    "tags": []
   },
   "source": [
    "#### Q5) Show the MAE, MSE, and R2 in a tabular format using data frame for the linear model.\n"
   ]
  },
  {
   "cell_type": "code",
   "execution_count": 22,
   "id": "cf043381",
   "metadata": {
    "execution": {
     "iopub.execute_input": "2023-06-18T08:51:39.082713Z",
     "iopub.status.busy": "2023-06-18T08:51:39.082285Z",
     "iopub.status.idle": "2023-06-18T08:51:39.087158Z",
     "shell.execute_reply": "2023-06-18T08:51:39.085978Z"
    },
    "papermill": {
     "duration": 0.034695,
     "end_time": "2023-06-18T08:51:39.089487",
     "exception": false,
     "start_time": "2023-06-18T08:51:39.054792",
     "status": "completed"
    },
    "tags": []
   },
   "outputs": [],
   "source": [
    "#Enter Your Code, Execute and take the Screenshot"
   ]
  },
  {
   "cell_type": "code",
   "execution_count": 23,
   "id": "5d192cf1",
   "metadata": {
    "execution": {
     "iopub.execute_input": "2023-06-18T08:51:39.142895Z",
     "iopub.status.busy": "2023-06-18T08:51:39.142444Z",
     "iopub.status.idle": "2023-06-18T08:51:39.154073Z",
     "shell.execute_reply": "2023-06-18T08:51:39.152947Z"
    },
    "papermill": {
     "duration": 0.041032,
     "end_time": "2023-06-18T08:51:39.156342",
     "exception": false,
     "start_time": "2023-06-18T08:51:39.115310",
     "status": "completed"
    },
    "tags": []
   },
   "outputs": [
    {
     "data": {
      "text/html": [
       "<div>\n",
       "<style scoped>\n",
       "    .dataframe tbody tr th:only-of-type {\n",
       "        vertical-align: middle;\n",
       "    }\n",
       "\n",
       "    .dataframe tbody tr th {\n",
       "        vertical-align: top;\n",
       "    }\n",
       "\n",
       "    .dataframe thead th {\n",
       "        text-align: right;\n",
       "    }\n",
       "</style>\n",
       "<table border=\"1\" class=\"dataframe\">\n",
       "  <thead>\n",
       "    <tr style=\"text-align: right;\">\n",
       "      <th></th>\n",
       "      <th>Metric</th>\n",
       "      <th>Score</th>\n",
       "    </tr>\n",
       "  </thead>\n",
       "  <tbody>\n",
       "    <tr>\n",
       "      <th>0</th>\n",
       "      <td>MAE</td>\n",
       "      <td>0.256318</td>\n",
       "    </tr>\n",
       "    <tr>\n",
       "      <th>1</th>\n",
       "      <td>MSE</td>\n",
       "      <td>0.115721</td>\n",
       "    </tr>\n",
       "    <tr>\n",
       "      <th>2</th>\n",
       "      <td>R2</td>\n",
       "      <td>0.427132</td>\n",
       "    </tr>\n",
       "  </tbody>\n",
       "</table>\n",
       "</div>"
      ],
      "text/plain": [
       "  Metric     Score\n",
       "0    MAE  0.256318\n",
       "1    MSE  0.115721\n",
       "2     R2  0.427132"
      ]
     },
     "execution_count": 23,
     "metadata": {},
     "output_type": "execute_result"
    }
   ],
   "source": [
    "Report = pd.DataFrame({'Metric': ['MAE', 'MSE', 'R2'], \\\n",
    "                       'Score': [LinearRegression_MAE, LinearRegression_MSE, LinearRegression_R2]})\n",
    "Report"
   ]
  },
  {
   "cell_type": "markdown",
   "id": "4d523b87",
   "metadata": {
    "papermill": {
     "duration": 0.025122,
     "end_time": "2023-06-18T08:51:39.206937",
     "exception": false,
     "start_time": "2023-06-18T08:51:39.181815",
     "status": "completed"
    },
    "tags": []
   },
   "source": [
    "### KNN\n"
   ]
  },
  {
   "cell_type": "markdown",
   "id": "94394971",
   "metadata": {
    "papermill": {
     "duration": 0.025122,
     "end_time": "2023-06-18T08:51:39.257522",
     "exception": false,
     "start_time": "2023-06-18T08:51:39.232400",
     "status": "completed"
    },
    "tags": []
   },
   "source": [
    "#### Q6) Create and train a KNN model called KNN using the training data (`x_train`, `y_train`) with the `n_neighbors` parameter set to `4`.\n"
   ]
  },
  {
   "cell_type": "code",
   "execution_count": 24,
   "id": "c995f132",
   "metadata": {
    "execution": {
     "iopub.execute_input": "2023-06-18T08:51:39.310530Z",
     "iopub.status.busy": "2023-06-18T08:51:39.310153Z",
     "iopub.status.idle": "2023-06-18T08:51:39.314623Z",
     "shell.execute_reply": "2023-06-18T08:51:39.313321Z"
    },
    "papermill": {
     "duration": 0.033856,
     "end_time": "2023-06-18T08:51:39.317048",
     "exception": false,
     "start_time": "2023-06-18T08:51:39.283192",
     "status": "completed"
    },
    "tags": []
   },
   "outputs": [],
   "source": [
    "#Enter Your Code, Execute and take the Screenshot"
   ]
  },
  {
   "cell_type": "code",
   "execution_count": 25,
   "id": "69df3632",
   "metadata": {
    "execution": {
     "iopub.execute_input": "2023-06-18T08:51:39.371242Z",
     "iopub.status.busy": "2023-06-18T08:51:39.370852Z",
     "iopub.status.idle": "2023-06-18T08:51:39.382294Z",
     "shell.execute_reply": "2023-06-18T08:51:39.381520Z"
    },
    "papermill": {
     "duration": 0.041086,
     "end_time": "2023-06-18T08:51:39.384362",
     "exception": false,
     "start_time": "2023-06-18T08:51:39.343276",
     "status": "completed"
    },
    "tags": []
   },
   "outputs": [
    {
     "data": {
      "text/html": [
       "<style>#sk-container-id-2 {color: black;background-color: white;}#sk-container-id-2 pre{padding: 0;}#sk-container-id-2 div.sk-toggleable {background-color: white;}#sk-container-id-2 label.sk-toggleable__label {cursor: pointer;display: block;width: 100%;margin-bottom: 0;padding: 0.3em;box-sizing: border-box;text-align: center;}#sk-container-id-2 label.sk-toggleable__label-arrow:before {content: \"▸\";float: left;margin-right: 0.25em;color: #696969;}#sk-container-id-2 label.sk-toggleable__label-arrow:hover:before {color: black;}#sk-container-id-2 div.sk-estimator:hover label.sk-toggleable__label-arrow:before {color: black;}#sk-container-id-2 div.sk-toggleable__content {max-height: 0;max-width: 0;overflow: hidden;text-align: left;background-color: #f0f8ff;}#sk-container-id-2 div.sk-toggleable__content pre {margin: 0.2em;color: black;border-radius: 0.25em;background-color: #f0f8ff;}#sk-container-id-2 input.sk-toggleable__control:checked~div.sk-toggleable__content {max-height: 200px;max-width: 100%;overflow: auto;}#sk-container-id-2 input.sk-toggleable__control:checked~label.sk-toggleable__label-arrow:before {content: \"▾\";}#sk-container-id-2 div.sk-estimator input.sk-toggleable__control:checked~label.sk-toggleable__label {background-color: #d4ebff;}#sk-container-id-2 div.sk-label input.sk-toggleable__control:checked~label.sk-toggleable__label {background-color: #d4ebff;}#sk-container-id-2 input.sk-hidden--visually {border: 0;clip: rect(1px 1px 1px 1px);clip: rect(1px, 1px, 1px, 1px);height: 1px;margin: -1px;overflow: hidden;padding: 0;position: absolute;width: 1px;}#sk-container-id-2 div.sk-estimator {font-family: monospace;background-color: #f0f8ff;border: 1px dotted black;border-radius: 0.25em;box-sizing: border-box;margin-bottom: 0.5em;}#sk-container-id-2 div.sk-estimator:hover {background-color: #d4ebff;}#sk-container-id-2 div.sk-parallel-item::after {content: \"\";width: 100%;border-bottom: 1px solid gray;flex-grow: 1;}#sk-container-id-2 div.sk-label:hover label.sk-toggleable__label {background-color: #d4ebff;}#sk-container-id-2 div.sk-serial::before {content: \"\";position: absolute;border-left: 1px solid gray;box-sizing: border-box;top: 0;bottom: 0;left: 50%;z-index: 0;}#sk-container-id-2 div.sk-serial {display: flex;flex-direction: column;align-items: center;background-color: white;padding-right: 0.2em;padding-left: 0.2em;position: relative;}#sk-container-id-2 div.sk-item {position: relative;z-index: 1;}#sk-container-id-2 div.sk-parallel {display: flex;align-items: stretch;justify-content: center;background-color: white;position: relative;}#sk-container-id-2 div.sk-item::before, #sk-container-id-2 div.sk-parallel-item::before {content: \"\";position: absolute;border-left: 1px solid gray;box-sizing: border-box;top: 0;bottom: 0;left: 50%;z-index: -1;}#sk-container-id-2 div.sk-parallel-item {display: flex;flex-direction: column;z-index: 1;position: relative;background-color: white;}#sk-container-id-2 div.sk-parallel-item:first-child::after {align-self: flex-end;width: 50%;}#sk-container-id-2 div.sk-parallel-item:last-child::after {align-self: flex-start;width: 50%;}#sk-container-id-2 div.sk-parallel-item:only-child::after {width: 0;}#sk-container-id-2 div.sk-dashed-wrapped {border: 1px dashed gray;margin: 0 0.4em 0.5em 0.4em;box-sizing: border-box;padding-bottom: 0.4em;background-color: white;}#sk-container-id-2 div.sk-label label {font-family: monospace;font-weight: bold;display: inline-block;line-height: 1.2em;}#sk-container-id-2 div.sk-label-container {text-align: center;}#sk-container-id-2 div.sk-container {/* jupyter's `normalize.less` sets `[hidden] { display: none; }` but bootstrap.min.css set `[hidden] { display: none !important; }` so we also need the `!important` here to be able to override the default hidden behavior on the sphinx rendered scikit-learn.org. See: https://github.com/scikit-learn/scikit-learn/issues/21755 */display: inline-block !important;position: relative;}#sk-container-id-2 div.sk-text-repr-fallback {display: none;}</style><div id=\"sk-container-id-2\" class=\"sk-top-container\"><div class=\"sk-text-repr-fallback\"><pre>KNeighborsClassifier(n_neighbors=4)</pre><b>In a Jupyter environment, please rerun this cell to show the HTML representation or trust the notebook. <br />On GitHub, the HTML representation is unable to render, please try loading this page with nbviewer.org.</b></div><div class=\"sk-container\" hidden><div class=\"sk-item\"><div class=\"sk-estimator sk-toggleable\"><input class=\"sk-toggleable__control sk-hidden--visually\" id=\"sk-estimator-id-2\" type=\"checkbox\" checked><label for=\"sk-estimator-id-2\" class=\"sk-toggleable__label sk-toggleable__label-arrow\">KNeighborsClassifier</label><div class=\"sk-toggleable__content\"><pre>KNeighborsClassifier(n_neighbors=4)</pre></div></div></div></div></div>"
      ],
      "text/plain": [
       "KNeighborsClassifier(n_neighbors=4)"
      ]
     },
     "execution_count": 25,
     "metadata": {},
     "output_type": "execute_result"
    }
   ],
   "source": [
    "KNN = KNeighborsClassifier(n_neighbors=4)\n",
    "KNN.fit(x_train, y_train)"
   ]
  },
  {
   "cell_type": "markdown",
   "id": "2cf2d835",
   "metadata": {
    "papermill": {
     "duration": 0.025424,
     "end_time": "2023-06-18T08:51:39.435462",
     "exception": false,
     "start_time": "2023-06-18T08:51:39.410038",
     "status": "completed"
    },
    "tags": []
   },
   "source": [
    "#### Q7) Now use the `predict` method on the testing data (`x_test`) and save it to the array `predictions`.\n"
   ]
  },
  {
   "cell_type": "code",
   "execution_count": 26,
   "id": "d2055702",
   "metadata": {
    "execution": {
     "iopub.execute_input": "2023-06-18T08:51:39.489791Z",
     "iopub.status.busy": "2023-06-18T08:51:39.489425Z",
     "iopub.status.idle": "2023-06-18T08:51:39.493385Z",
     "shell.execute_reply": "2023-06-18T08:51:39.492494Z"
    },
    "papermill": {
     "duration": 0.033558,
     "end_time": "2023-06-18T08:51:39.495488",
     "exception": false,
     "start_time": "2023-06-18T08:51:39.461930",
     "status": "completed"
    },
    "tags": []
   },
   "outputs": [],
   "source": [
    "#Enter Your Code, Execute and take the Screenshot"
   ]
  },
  {
   "cell_type": "code",
   "execution_count": 27,
   "id": "b0bfbe91",
   "metadata": {
    "execution": {
     "iopub.execute_input": "2023-06-18T08:51:39.552050Z",
     "iopub.status.busy": "2023-06-18T08:51:39.551601Z",
     "iopub.status.idle": "2023-06-18T08:51:39.652017Z",
     "shell.execute_reply": "2023-06-18T08:51:39.650764Z"
    },
    "papermill": {
     "duration": 0.130614,
     "end_time": "2023-06-18T08:51:39.654852",
     "exception": false,
     "start_time": "2023-06-18T08:51:39.524238",
     "status": "completed"
    },
    "tags": []
   },
   "outputs": [],
   "source": [
    "predictions = KNN.predict(x_test)"
   ]
  },
  {
   "cell_type": "markdown",
   "id": "5b0e6021",
   "metadata": {
    "papermill": {
     "duration": 0.025568,
     "end_time": "2023-06-18T08:51:39.706364",
     "exception": false,
     "start_time": "2023-06-18T08:51:39.680796",
     "status": "completed"
    },
    "tags": []
   },
   "source": [
    "#### Q8) Using the `predictions` and the `y_test` dataframe calculate the value for each metric using the appropriate function.\n"
   ]
  },
  {
   "cell_type": "code",
   "execution_count": 28,
   "id": "69e21349",
   "metadata": {
    "execution": {
     "iopub.execute_input": "2023-06-18T08:51:39.760632Z",
     "iopub.status.busy": "2023-06-18T08:51:39.759543Z",
     "iopub.status.idle": "2023-06-18T08:51:39.764577Z",
     "shell.execute_reply": "2023-06-18T08:51:39.763757Z"
    },
    "papermill": {
     "duration": 0.034321,
     "end_time": "2023-06-18T08:51:39.766779",
     "exception": false,
     "start_time": "2023-06-18T08:51:39.732458",
     "status": "completed"
    },
    "tags": []
   },
   "outputs": [],
   "source": [
    "#Enter Your Code, Execute and take the Screenshot"
   ]
  },
  {
   "cell_type": "code",
   "execution_count": 29,
   "id": "207a648a",
   "metadata": {
    "execution": {
     "iopub.execute_input": "2023-06-18T08:51:39.820968Z",
     "iopub.status.busy": "2023-06-18T08:51:39.820208Z",
     "iopub.status.idle": "2023-06-18T08:51:39.836277Z",
     "shell.execute_reply": "2023-06-18T08:51:39.835054Z"
    },
    "papermill": {
     "duration": 0.046246,
     "end_time": "2023-06-18T08:51:39.838644",
     "exception": false,
     "start_time": "2023-06-18T08:51:39.792398",
     "status": "completed"
    },
    "tags": []
   },
   "outputs": [
    {
     "name": "stdout",
     "output_type": "stream",
     "text": [
      "MAE: 0.8183206106870229\n",
      "MSE: 0.4251207729468599\n",
      "R2: 0.5966101694915255\n"
     ]
    }
   ],
   "source": [
    "KNN_Accuracy_Score = accuracy_score(y_test, predictions)\n",
    "KNN_JaccardIndex = jaccard_score(y_test, predictions)\n",
    "KNN_F1_Score = f1_score(y_test, predictions)\n",
    "\n",
    "print(\"MAE:\", KNN_Accuracy_Score)\n",
    "print(\"MSE:\", KNN_JaccardIndex)\n",
    "print(\"R2:\", KNN_F1_Score)"
   ]
  },
  {
   "cell_type": "markdown",
   "id": "0cbbd6a3",
   "metadata": {
    "papermill": {
     "duration": 0.025794,
     "end_time": "2023-06-18T08:51:39.890581",
     "exception": false,
     "start_time": "2023-06-18T08:51:39.864787",
     "status": "completed"
    },
    "tags": []
   },
   "source": [
    "### Decision Tree\n"
   ]
  },
  {
   "cell_type": "markdown",
   "id": "b25440b8",
   "metadata": {
    "papermill": {
     "duration": 0.026119,
     "end_time": "2023-06-18T08:51:39.943159",
     "exception": false,
     "start_time": "2023-06-18T08:51:39.917040",
     "status": "completed"
    },
    "tags": []
   },
   "source": [
    "#### Q9) Create and train a Decision Tree model called Tree using the training data (`x_train`, `y_train`).\n"
   ]
  },
  {
   "cell_type": "code",
   "execution_count": 30,
   "id": "4f842045",
   "metadata": {
    "execution": {
     "iopub.execute_input": "2023-06-18T08:51:39.998200Z",
     "iopub.status.busy": "2023-06-18T08:51:39.997471Z",
     "iopub.status.idle": "2023-06-18T08:51:40.001732Z",
     "shell.execute_reply": "2023-06-18T08:51:40.000862Z"
    },
    "papermill": {
     "duration": 0.034303,
     "end_time": "2023-06-18T08:51:40.003875",
     "exception": false,
     "start_time": "2023-06-18T08:51:39.969572",
     "status": "completed"
    },
    "tags": []
   },
   "outputs": [],
   "source": [
    "#Enter Your Code, Execute and take the Screenshot"
   ]
  },
  {
   "cell_type": "code",
   "execution_count": 31,
   "id": "2fe0e073",
   "metadata": {
    "execution": {
     "iopub.execute_input": "2023-06-18T08:51:40.058754Z",
     "iopub.status.busy": "2023-06-18T08:51:40.058006Z",
     "iopub.status.idle": "2023-06-18T08:51:40.109941Z",
     "shell.execute_reply": "2023-06-18T08:51:40.108745Z"
    },
    "papermill": {
     "duration": 0.082237,
     "end_time": "2023-06-18T08:51:40.112311",
     "exception": false,
     "start_time": "2023-06-18T08:51:40.030074",
     "status": "completed"
    },
    "tags": []
   },
   "outputs": [
    {
     "data": {
      "text/html": [
       "<style>#sk-container-id-3 {color: black;background-color: white;}#sk-container-id-3 pre{padding: 0;}#sk-container-id-3 div.sk-toggleable {background-color: white;}#sk-container-id-3 label.sk-toggleable__label {cursor: pointer;display: block;width: 100%;margin-bottom: 0;padding: 0.3em;box-sizing: border-box;text-align: center;}#sk-container-id-3 label.sk-toggleable__label-arrow:before {content: \"▸\";float: left;margin-right: 0.25em;color: #696969;}#sk-container-id-3 label.sk-toggleable__label-arrow:hover:before {color: black;}#sk-container-id-3 div.sk-estimator:hover label.sk-toggleable__label-arrow:before {color: black;}#sk-container-id-3 div.sk-toggleable__content {max-height: 0;max-width: 0;overflow: hidden;text-align: left;background-color: #f0f8ff;}#sk-container-id-3 div.sk-toggleable__content pre {margin: 0.2em;color: black;border-radius: 0.25em;background-color: #f0f8ff;}#sk-container-id-3 input.sk-toggleable__control:checked~div.sk-toggleable__content {max-height: 200px;max-width: 100%;overflow: auto;}#sk-container-id-3 input.sk-toggleable__control:checked~label.sk-toggleable__label-arrow:before {content: \"▾\";}#sk-container-id-3 div.sk-estimator input.sk-toggleable__control:checked~label.sk-toggleable__label {background-color: #d4ebff;}#sk-container-id-3 div.sk-label input.sk-toggleable__control:checked~label.sk-toggleable__label {background-color: #d4ebff;}#sk-container-id-3 input.sk-hidden--visually {border: 0;clip: rect(1px 1px 1px 1px);clip: rect(1px, 1px, 1px, 1px);height: 1px;margin: -1px;overflow: hidden;padding: 0;position: absolute;width: 1px;}#sk-container-id-3 div.sk-estimator {font-family: monospace;background-color: #f0f8ff;border: 1px dotted black;border-radius: 0.25em;box-sizing: border-box;margin-bottom: 0.5em;}#sk-container-id-3 div.sk-estimator:hover {background-color: #d4ebff;}#sk-container-id-3 div.sk-parallel-item::after {content: \"\";width: 100%;border-bottom: 1px solid gray;flex-grow: 1;}#sk-container-id-3 div.sk-label:hover label.sk-toggleable__label {background-color: #d4ebff;}#sk-container-id-3 div.sk-serial::before {content: \"\";position: absolute;border-left: 1px solid gray;box-sizing: border-box;top: 0;bottom: 0;left: 50%;z-index: 0;}#sk-container-id-3 div.sk-serial {display: flex;flex-direction: column;align-items: center;background-color: white;padding-right: 0.2em;padding-left: 0.2em;position: relative;}#sk-container-id-3 div.sk-item {position: relative;z-index: 1;}#sk-container-id-3 div.sk-parallel {display: flex;align-items: stretch;justify-content: center;background-color: white;position: relative;}#sk-container-id-3 div.sk-item::before, #sk-container-id-3 div.sk-parallel-item::before {content: \"\";position: absolute;border-left: 1px solid gray;box-sizing: border-box;top: 0;bottom: 0;left: 50%;z-index: -1;}#sk-container-id-3 div.sk-parallel-item {display: flex;flex-direction: column;z-index: 1;position: relative;background-color: white;}#sk-container-id-3 div.sk-parallel-item:first-child::after {align-self: flex-end;width: 50%;}#sk-container-id-3 div.sk-parallel-item:last-child::after {align-self: flex-start;width: 50%;}#sk-container-id-3 div.sk-parallel-item:only-child::after {width: 0;}#sk-container-id-3 div.sk-dashed-wrapped {border: 1px dashed gray;margin: 0 0.4em 0.5em 0.4em;box-sizing: border-box;padding-bottom: 0.4em;background-color: white;}#sk-container-id-3 div.sk-label label {font-family: monospace;font-weight: bold;display: inline-block;line-height: 1.2em;}#sk-container-id-3 div.sk-label-container {text-align: center;}#sk-container-id-3 div.sk-container {/* jupyter's `normalize.less` sets `[hidden] { display: none; }` but bootstrap.min.css set `[hidden] { display: none !important; }` so we also need the `!important` here to be able to override the default hidden behavior on the sphinx rendered scikit-learn.org. See: https://github.com/scikit-learn/scikit-learn/issues/21755 */display: inline-block !important;position: relative;}#sk-container-id-3 div.sk-text-repr-fallback {display: none;}</style><div id=\"sk-container-id-3\" class=\"sk-top-container\"><div class=\"sk-text-repr-fallback\"><pre>DecisionTreeClassifier()</pre><b>In a Jupyter environment, please rerun this cell to show the HTML representation or trust the notebook. <br />On GitHub, the HTML representation is unable to render, please try loading this page with nbviewer.org.</b></div><div class=\"sk-container\" hidden><div class=\"sk-item\"><div class=\"sk-estimator sk-toggleable\"><input class=\"sk-toggleable__control sk-hidden--visually\" id=\"sk-estimator-id-3\" type=\"checkbox\" checked><label for=\"sk-estimator-id-3\" class=\"sk-toggleable__label sk-toggleable__label-arrow\">DecisionTreeClassifier</label><div class=\"sk-toggleable__content\"><pre>DecisionTreeClassifier()</pre></div></div></div></div></div>"
      ],
      "text/plain": [
       "DecisionTreeClassifier()"
      ]
     },
     "execution_count": 31,
     "metadata": {},
     "output_type": "execute_result"
    }
   ],
   "source": [
    "Tree = DecisionTreeClassifier()\n",
    "Tree.fit(x_train, y_train)"
   ]
  },
  {
   "cell_type": "markdown",
   "id": "6adda777",
   "metadata": {
    "papermill": {
     "duration": 0.026249,
     "end_time": "2023-06-18T08:51:40.164862",
     "exception": false,
     "start_time": "2023-06-18T08:51:40.138613",
     "status": "completed"
    },
    "tags": []
   },
   "source": [
    "#### Q10) Now use the `predict` method on the testing data (`x_test`) and save it to the array `predictions`.\n"
   ]
  },
  {
   "cell_type": "code",
   "execution_count": 32,
   "id": "bee1dbe0",
   "metadata": {
    "execution": {
     "iopub.execute_input": "2023-06-18T08:51:40.219208Z",
     "iopub.status.busy": "2023-06-18T08:51:40.218050Z",
     "iopub.status.idle": "2023-06-18T08:51:40.222571Z",
     "shell.execute_reply": "2023-06-18T08:51:40.221801Z"
    },
    "papermill": {
     "duration": 0.033796,
     "end_time": "2023-06-18T08:51:40.224636",
     "exception": false,
     "start_time": "2023-06-18T08:51:40.190840",
     "status": "completed"
    },
    "tags": []
   },
   "outputs": [],
   "source": [
    "#Enter Your Code, Execute and take the Screenshot"
   ]
  },
  {
   "cell_type": "code",
   "execution_count": 33,
   "id": "0e3aeac6",
   "metadata": {
    "execution": {
     "iopub.execute_input": "2023-06-18T08:51:40.280024Z",
     "iopub.status.busy": "2023-06-18T08:51:40.278673Z",
     "iopub.status.idle": "2023-06-18T08:51:40.286434Z",
     "shell.execute_reply": "2023-06-18T08:51:40.285579Z"
    },
    "papermill": {
     "duration": 0.037912,
     "end_time": "2023-06-18T08:51:40.288756",
     "exception": false,
     "start_time": "2023-06-18T08:51:40.250844",
     "status": "completed"
    },
    "tags": []
   },
   "outputs": [],
   "source": [
    "predictions = Tree.predict(x_test)"
   ]
  },
  {
   "cell_type": "markdown",
   "id": "db4e00ea",
   "metadata": {
    "papermill": {
     "duration": 0.026071,
     "end_time": "2023-06-18T08:51:40.341552",
     "exception": false,
     "start_time": "2023-06-18T08:51:40.315481",
     "status": "completed"
    },
    "tags": []
   },
   "source": [
    "#### Q11) Using the `predictions` and the `y_test` dataframe calculate the value for each metric using the appropriate function.\n"
   ]
  },
  {
   "cell_type": "code",
   "execution_count": 34,
   "id": "c5732be3",
   "metadata": {
    "execution": {
     "iopub.execute_input": "2023-06-18T08:51:40.396527Z",
     "iopub.status.busy": "2023-06-18T08:51:40.395532Z",
     "iopub.status.idle": "2023-06-18T08:51:40.399800Z",
     "shell.execute_reply": "2023-06-18T08:51:40.399007Z"
    },
    "papermill": {
     "duration": 0.034394,
     "end_time": "2023-06-18T08:51:40.402086",
     "exception": false,
     "start_time": "2023-06-18T08:51:40.367692",
     "status": "completed"
    },
    "tags": []
   },
   "outputs": [],
   "source": [
    "#Enter Your Code, Execute and take the Screenshot"
   ]
  },
  {
   "cell_type": "code",
   "execution_count": 35,
   "id": "e7e64218",
   "metadata": {
    "execution": {
     "iopub.execute_input": "2023-06-18T08:51:40.459297Z",
     "iopub.status.busy": "2023-06-18T08:51:40.458857Z",
     "iopub.status.idle": "2023-06-18T08:51:40.473128Z",
     "shell.execute_reply": "2023-06-18T08:51:40.471989Z"
    },
    "papermill": {
     "duration": 0.045036,
     "end_time": "2023-06-18T08:51:40.475800",
     "exception": false,
     "start_time": "2023-06-18T08:51:40.430764",
     "status": "completed"
    },
    "tags": []
   },
   "outputs": [
    {
     "name": "stdout",
     "output_type": "stream",
     "text": [
      "MAE: 0.7603053435114504\n",
      "MSE: 0.4163568773234201\n",
      "R2: 0.5879265091863518\n"
     ]
    }
   ],
   "source": [
    "Tree_Accuracy_Score = accuracy_score(y_test, predictions)\n",
    "Tree_JaccardIndex = jaccard_score(y_test, predictions)\n",
    "Tree_F1_Score = f1_score(y_test, predictions)\n",
    "\n",
    "print(\"MAE:\", Tree_Accuracy_Score)\n",
    "print(\"MSE:\", Tree_JaccardIndex)\n",
    "print(\"R2:\", Tree_F1_Score)"
   ]
  },
  {
   "cell_type": "markdown",
   "id": "8d981824",
   "metadata": {
    "papermill": {
     "duration": 0.028249,
     "end_time": "2023-06-18T08:51:40.531595",
     "exception": false,
     "start_time": "2023-06-18T08:51:40.503346",
     "status": "completed"
    },
    "tags": []
   },
   "source": [
    "### Logistic Regression\n"
   ]
  },
  {
   "cell_type": "markdown",
   "id": "e1be3936",
   "metadata": {
    "papermill": {
     "duration": 0.029992,
     "end_time": "2023-06-18T08:51:40.588032",
     "exception": false,
     "start_time": "2023-06-18T08:51:40.558040",
     "status": "completed"
    },
    "tags": []
   },
   "source": [
    "#### Q12) Use the `train_test_split` function to split the `features` and `Y` dataframes with a `test_size` of `0.2` and the `random_state` set to `1`.\n"
   ]
  },
  {
   "cell_type": "code",
   "execution_count": 36,
   "id": "ea4134b1",
   "metadata": {
    "execution": {
     "iopub.execute_input": "2023-06-18T08:51:40.657383Z",
     "iopub.status.busy": "2023-06-18T08:51:40.656607Z",
     "iopub.status.idle": "2023-06-18T08:51:40.661331Z",
     "shell.execute_reply": "2023-06-18T08:51:40.660313Z"
    },
    "papermill": {
     "duration": 0.042007,
     "end_time": "2023-06-18T08:51:40.663604",
     "exception": false,
     "start_time": "2023-06-18T08:51:40.621597",
     "status": "completed"
    },
    "tags": []
   },
   "outputs": [],
   "source": [
    "#Enter Your Code, Execute and take the Screenshot"
   ]
  },
  {
   "cell_type": "code",
   "execution_count": 37,
   "id": "3abf09ac",
   "metadata": {
    "execution": {
     "iopub.execute_input": "2023-06-18T08:51:40.719091Z",
     "iopub.status.busy": "2023-06-18T08:51:40.718280Z",
     "iopub.status.idle": "2023-06-18T08:51:40.726925Z",
     "shell.execute_reply": "2023-06-18T08:51:40.725918Z"
    },
    "papermill": {
     "duration": 0.039035,
     "end_time": "2023-06-18T08:51:40.729446",
     "exception": false,
     "start_time": "2023-06-18T08:51:40.690411",
     "status": "completed"
    },
    "tags": []
   },
   "outputs": [],
   "source": [
    "x_train, x_test, y_train, y_test = train_test_split(features, Y, test_size=0.2, random_state = 1)"
   ]
  },
  {
   "cell_type": "code",
   "execution_count": 38,
   "id": "d98c5880",
   "metadata": {
    "execution": {
     "iopub.execute_input": "2023-06-18T08:51:40.785071Z",
     "iopub.status.busy": "2023-06-18T08:51:40.784629Z",
     "iopub.status.idle": "2023-06-18T08:51:40.835285Z",
     "shell.execute_reply": "2023-06-18T08:51:40.833942Z"
    },
    "papermill": {
     "duration": 0.081429,
     "end_time": "2023-06-18T08:51:40.837846",
     "exception": false,
     "start_time": "2023-06-18T08:51:40.756417",
     "status": "completed"
    },
    "tags": []
   },
   "outputs": [
    {
     "data": {
      "text/html": [
       "<div>\n",
       "<style scoped>\n",
       "    .dataframe tbody tr th:only-of-type {\n",
       "        vertical-align: middle;\n",
       "    }\n",
       "\n",
       "    .dataframe tbody tr th {\n",
       "        vertical-align: top;\n",
       "    }\n",
       "\n",
       "    .dataframe thead th {\n",
       "        text-align: right;\n",
       "    }\n",
       "</style>\n",
       "<table border=\"1\" class=\"dataframe\">\n",
       "  <thead>\n",
       "    <tr style=\"text-align: right;\">\n",
       "      <th></th>\n",
       "      <th>MinTemp</th>\n",
       "      <th>MaxTemp</th>\n",
       "      <th>Rainfall</th>\n",
       "      <th>Evaporation</th>\n",
       "      <th>Sunshine</th>\n",
       "      <th>WindGustSpeed</th>\n",
       "      <th>WindSpeed9am</th>\n",
       "      <th>WindSpeed3pm</th>\n",
       "      <th>Humidity9am</th>\n",
       "      <th>Humidity3pm</th>\n",
       "      <th>...</th>\n",
       "      <th>WindDir3pm_NNW</th>\n",
       "      <th>WindDir3pm_NW</th>\n",
       "      <th>WindDir3pm_S</th>\n",
       "      <th>WindDir3pm_SE</th>\n",
       "      <th>WindDir3pm_SSE</th>\n",
       "      <th>WindDir3pm_SSW</th>\n",
       "      <th>WindDir3pm_SW</th>\n",
       "      <th>WindDir3pm_W</th>\n",
       "      <th>WindDir3pm_WNW</th>\n",
       "      <th>WindDir3pm_WSW</th>\n",
       "    </tr>\n",
       "  </thead>\n",
       "  <tbody>\n",
       "    <tr>\n",
       "      <th>1264</th>\n",
       "      <td>12.3</td>\n",
       "      <td>19.7</td>\n",
       "      <td>30.0</td>\n",
       "      <td>4.0</td>\n",
       "      <td>7.2</td>\n",
       "      <td>44.0</td>\n",
       "      <td>24.0</td>\n",
       "      <td>17.0</td>\n",
       "      <td>52.0</td>\n",
       "      <td>45.0</td>\n",
       "      <td>...</td>\n",
       "      <td>0.0</td>\n",
       "      <td>0.0</td>\n",
       "      <td>0.0</td>\n",
       "      <td>0.0</td>\n",
       "      <td>0.0</td>\n",
       "      <td>0.0</td>\n",
       "      <td>0.0</td>\n",
       "      <td>0.0</td>\n",
       "      <td>0.0</td>\n",
       "      <td>0.0</td>\n",
       "    </tr>\n",
       "    <tr>\n",
       "      <th>3113</th>\n",
       "      <td>25.1</td>\n",
       "      <td>38.1</td>\n",
       "      <td>0.0</td>\n",
       "      <td>13.8</td>\n",
       "      <td>11.1</td>\n",
       "      <td>59.0</td>\n",
       "      <td>20.0</td>\n",
       "      <td>31.0</td>\n",
       "      <td>26.0</td>\n",
       "      <td>52.0</td>\n",
       "      <td>...</td>\n",
       "      <td>0.0</td>\n",
       "      <td>0.0</td>\n",
       "      <td>0.0</td>\n",
       "      <td>0.0</td>\n",
       "      <td>1.0</td>\n",
       "      <td>0.0</td>\n",
       "      <td>0.0</td>\n",
       "      <td>0.0</td>\n",
       "      <td>0.0</td>\n",
       "      <td>0.0</td>\n",
       "    </tr>\n",
       "    <tr>\n",
       "      <th>1230</th>\n",
       "      <td>12.2</td>\n",
       "      <td>17.5</td>\n",
       "      <td>0.0</td>\n",
       "      <td>2.8</td>\n",
       "      <td>3.0</td>\n",
       "      <td>41.0</td>\n",
       "      <td>17.0</td>\n",
       "      <td>11.0</td>\n",
       "      <td>86.0</td>\n",
       "      <td>69.0</td>\n",
       "      <td>...</td>\n",
       "      <td>0.0</td>\n",
       "      <td>0.0</td>\n",
       "      <td>0.0</td>\n",
       "      <td>0.0</td>\n",
       "      <td>0.0</td>\n",
       "      <td>0.0</td>\n",
       "      <td>0.0</td>\n",
       "      <td>0.0</td>\n",
       "      <td>0.0</td>\n",
       "      <td>0.0</td>\n",
       "    </tr>\n",
       "    <tr>\n",
       "      <th>1221</th>\n",
       "      <td>10.3</td>\n",
       "      <td>16.5</td>\n",
       "      <td>1.0</td>\n",
       "      <td>2.2</td>\n",
       "      <td>0.8</td>\n",
       "      <td>24.0</td>\n",
       "      <td>7.0</td>\n",
       "      <td>11.0</td>\n",
       "      <td>89.0</td>\n",
       "      <td>71.0</td>\n",
       "      <td>...</td>\n",
       "      <td>0.0</td>\n",
       "      <td>0.0</td>\n",
       "      <td>0.0</td>\n",
       "      <td>0.0</td>\n",
       "      <td>0.0</td>\n",
       "      <td>0.0</td>\n",
       "      <td>0.0</td>\n",
       "      <td>0.0</td>\n",
       "      <td>0.0</td>\n",
       "      <td>0.0</td>\n",
       "    </tr>\n",
       "    <tr>\n",
       "      <th>3070</th>\n",
       "      <td>20.4</td>\n",
       "      <td>23.6</td>\n",
       "      <td>3.2</td>\n",
       "      <td>7.0</td>\n",
       "      <td>0.0</td>\n",
       "      <td>33.0</td>\n",
       "      <td>15.0</td>\n",
       "      <td>7.0</td>\n",
       "      <td>86.0</td>\n",
       "      <td>83.0</td>\n",
       "      <td>...</td>\n",
       "      <td>0.0</td>\n",
       "      <td>0.0</td>\n",
       "      <td>0.0</td>\n",
       "      <td>0.0</td>\n",
       "      <td>0.0</td>\n",
       "      <td>0.0</td>\n",
       "      <td>0.0</td>\n",
       "      <td>0.0</td>\n",
       "      <td>0.0</td>\n",
       "      <td>0.0</td>\n",
       "    </tr>\n",
       "    <tr>\n",
       "      <th>...</th>\n",
       "      <td>...</td>\n",
       "      <td>...</td>\n",
       "      <td>...</td>\n",
       "      <td>...</td>\n",
       "      <td>...</td>\n",
       "      <td>...</td>\n",
       "      <td>...</td>\n",
       "      <td>...</td>\n",
       "      <td>...</td>\n",
       "      <td>...</td>\n",
       "      <td>...</td>\n",
       "      <td>...</td>\n",
       "      <td>...</td>\n",
       "      <td>...</td>\n",
       "      <td>...</td>\n",
       "      <td>...</td>\n",
       "      <td>...</td>\n",
       "      <td>...</td>\n",
       "      <td>...</td>\n",
       "      <td>...</td>\n",
       "      <td>...</td>\n",
       "    </tr>\n",
       "    <tr>\n",
       "      <th>2763</th>\n",
       "      <td>19.5</td>\n",
       "      <td>28.7</td>\n",
       "      <td>9.0</td>\n",
       "      <td>3.0</td>\n",
       "      <td>3.0</td>\n",
       "      <td>70.0</td>\n",
       "      <td>17.0</td>\n",
       "      <td>17.0</td>\n",
       "      <td>84.0</td>\n",
       "      <td>62.0</td>\n",
       "      <td>...</td>\n",
       "      <td>0.0</td>\n",
       "      <td>0.0</td>\n",
       "      <td>0.0</td>\n",
       "      <td>0.0</td>\n",
       "      <td>0.0</td>\n",
       "      <td>0.0</td>\n",
       "      <td>0.0</td>\n",
       "      <td>0.0</td>\n",
       "      <td>0.0</td>\n",
       "      <td>0.0</td>\n",
       "    </tr>\n",
       "    <tr>\n",
       "      <th>905</th>\n",
       "      <td>6.8</td>\n",
       "      <td>16.1</td>\n",
       "      <td>0.0</td>\n",
       "      <td>4.2</td>\n",
       "      <td>10.2</td>\n",
       "      <td>41.0</td>\n",
       "      <td>26.0</td>\n",
       "      <td>20.0</td>\n",
       "      <td>58.0</td>\n",
       "      <td>50.0</td>\n",
       "      <td>...</td>\n",
       "      <td>0.0</td>\n",
       "      <td>0.0</td>\n",
       "      <td>1.0</td>\n",
       "      <td>0.0</td>\n",
       "      <td>0.0</td>\n",
       "      <td>0.0</td>\n",
       "      <td>0.0</td>\n",
       "      <td>0.0</td>\n",
       "      <td>0.0</td>\n",
       "      <td>0.0</td>\n",
       "    </tr>\n",
       "    <tr>\n",
       "      <th>1096</th>\n",
       "      <td>20.6</td>\n",
       "      <td>28.1</td>\n",
       "      <td>1.0</td>\n",
       "      <td>3.2</td>\n",
       "      <td>9.8</td>\n",
       "      <td>41.0</td>\n",
       "      <td>4.0</td>\n",
       "      <td>20.0</td>\n",
       "      <td>82.0</td>\n",
       "      <td>69.0</td>\n",
       "      <td>...</td>\n",
       "      <td>0.0</td>\n",
       "      <td>0.0</td>\n",
       "      <td>0.0</td>\n",
       "      <td>0.0</td>\n",
       "      <td>0.0</td>\n",
       "      <td>0.0</td>\n",
       "      <td>0.0</td>\n",
       "      <td>0.0</td>\n",
       "      <td>0.0</td>\n",
       "      <td>0.0</td>\n",
       "    </tr>\n",
       "    <tr>\n",
       "      <th>235</th>\n",
       "      <td>10.3</td>\n",
       "      <td>18.6</td>\n",
       "      <td>0.0</td>\n",
       "      <td>4.0</td>\n",
       "      <td>10.9</td>\n",
       "      <td>41.0</td>\n",
       "      <td>6.0</td>\n",
       "      <td>19.0</td>\n",
       "      <td>67.0</td>\n",
       "      <td>54.0</td>\n",
       "      <td>...</td>\n",
       "      <td>0.0</td>\n",
       "      <td>0.0</td>\n",
       "      <td>0.0</td>\n",
       "      <td>0.0</td>\n",
       "      <td>0.0</td>\n",
       "      <td>0.0</td>\n",
       "      <td>0.0</td>\n",
       "      <td>0.0</td>\n",
       "      <td>0.0</td>\n",
       "      <td>0.0</td>\n",
       "    </tr>\n",
       "    <tr>\n",
       "      <th>1061</th>\n",
       "      <td>24.2</td>\n",
       "      <td>41.5</td>\n",
       "      <td>0.0</td>\n",
       "      <td>8.4</td>\n",
       "      <td>12.4</td>\n",
       "      <td>56.0</td>\n",
       "      <td>24.0</td>\n",
       "      <td>33.0</td>\n",
       "      <td>46.0</td>\n",
       "      <td>22.0</td>\n",
       "      <td>...</td>\n",
       "      <td>1.0</td>\n",
       "      <td>0.0</td>\n",
       "      <td>0.0</td>\n",
       "      <td>0.0</td>\n",
       "      <td>0.0</td>\n",
       "      <td>0.0</td>\n",
       "      <td>0.0</td>\n",
       "      <td>0.0</td>\n",
       "      <td>0.0</td>\n",
       "      <td>0.0</td>\n",
       "    </tr>\n",
       "  </tbody>\n",
       "</table>\n",
       "<p>2616 rows × 66 columns</p>\n",
       "</div>"
      ],
      "text/plain": [
       "      MinTemp  MaxTemp  Rainfall  Evaporation  Sunshine  WindGustSpeed  \\\n",
       "1264     12.3     19.7      30.0          4.0       7.2           44.0   \n",
       "3113     25.1     38.1       0.0         13.8      11.1           59.0   \n",
       "1230     12.2     17.5       0.0          2.8       3.0           41.0   \n",
       "1221     10.3     16.5       1.0          2.2       0.8           24.0   \n",
       "3070     20.4     23.6       3.2          7.0       0.0           33.0   \n",
       "...       ...      ...       ...          ...       ...            ...   \n",
       "2763     19.5     28.7       9.0          3.0       3.0           70.0   \n",
       "905       6.8     16.1       0.0          4.2      10.2           41.0   \n",
       "1096     20.6     28.1       1.0          3.2       9.8           41.0   \n",
       "235      10.3     18.6       0.0          4.0      10.9           41.0   \n",
       "1061     24.2     41.5       0.0          8.4      12.4           56.0   \n",
       "\n",
       "      WindSpeed9am  WindSpeed3pm  Humidity9am  Humidity3pm  ...  \\\n",
       "1264          24.0          17.0         52.0         45.0  ...   \n",
       "3113          20.0          31.0         26.0         52.0  ...   \n",
       "1230          17.0          11.0         86.0         69.0  ...   \n",
       "1221           7.0          11.0         89.0         71.0  ...   \n",
       "3070          15.0           7.0         86.0         83.0  ...   \n",
       "...            ...           ...          ...          ...  ...   \n",
       "2763          17.0          17.0         84.0         62.0  ...   \n",
       "905           26.0          20.0         58.0         50.0  ...   \n",
       "1096           4.0          20.0         82.0         69.0  ...   \n",
       "235            6.0          19.0         67.0         54.0  ...   \n",
       "1061          24.0          33.0         46.0         22.0  ...   \n",
       "\n",
       "      WindDir3pm_NNW  WindDir3pm_NW  WindDir3pm_S  WindDir3pm_SE  \\\n",
       "1264             0.0            0.0           0.0            0.0   \n",
       "3113             0.0            0.0           0.0            0.0   \n",
       "1230             0.0            0.0           0.0            0.0   \n",
       "1221             0.0            0.0           0.0            0.0   \n",
       "3070             0.0            0.0           0.0            0.0   \n",
       "...              ...            ...           ...            ...   \n",
       "2763             0.0            0.0           0.0            0.0   \n",
       "905              0.0            0.0           1.0            0.0   \n",
       "1096             0.0            0.0           0.0            0.0   \n",
       "235              0.0            0.0           0.0            0.0   \n",
       "1061             1.0            0.0           0.0            0.0   \n",
       "\n",
       "      WindDir3pm_SSE  WindDir3pm_SSW  WindDir3pm_SW  WindDir3pm_W  \\\n",
       "1264             0.0             0.0            0.0           0.0   \n",
       "3113             1.0             0.0            0.0           0.0   \n",
       "1230             0.0             0.0            0.0           0.0   \n",
       "1221             0.0             0.0            0.0           0.0   \n",
       "3070             0.0             0.0            0.0           0.0   \n",
       "...              ...             ...            ...           ...   \n",
       "2763             0.0             0.0            0.0           0.0   \n",
       "905              0.0             0.0            0.0           0.0   \n",
       "1096             0.0             0.0            0.0           0.0   \n",
       "235              0.0             0.0            0.0           0.0   \n",
       "1061             0.0             0.0            0.0           0.0   \n",
       "\n",
       "      WindDir3pm_WNW  WindDir3pm_WSW  \n",
       "1264             0.0             0.0  \n",
       "3113             0.0             0.0  \n",
       "1230             0.0             0.0  \n",
       "1221             0.0             0.0  \n",
       "3070             0.0             0.0  \n",
       "...              ...             ...  \n",
       "2763             0.0             0.0  \n",
       "905              0.0             0.0  \n",
       "1096             0.0             0.0  \n",
       "235              0.0             0.0  \n",
       "1061             0.0             0.0  \n",
       "\n",
       "[2616 rows x 66 columns]"
      ]
     },
     "execution_count": 38,
     "metadata": {},
     "output_type": "execute_result"
    }
   ],
   "source": [
    "x_train"
   ]
  },
  {
   "cell_type": "markdown",
   "id": "1822aeaf",
   "metadata": {
    "papermill": {
     "duration": 0.026705,
     "end_time": "2023-06-18T08:51:40.891647",
     "exception": false,
     "start_time": "2023-06-18T08:51:40.864942",
     "status": "completed"
    },
    "tags": []
   },
   "source": [
    "#### Q13) Create and train a LogisticRegression model called LR using the training data (`x_train`, `y_train`) with the `solver` parameter set to `liblinear`.\n"
   ]
  },
  {
   "cell_type": "code",
   "execution_count": 39,
   "id": "de87c5b8",
   "metadata": {
    "execution": {
     "iopub.execute_input": "2023-06-18T08:51:40.948560Z",
     "iopub.status.busy": "2023-06-18T08:51:40.948172Z",
     "iopub.status.idle": "2023-06-18T08:51:40.952839Z",
     "shell.execute_reply": "2023-06-18T08:51:40.951768Z"
    },
    "papermill": {
     "duration": 0.036381,
     "end_time": "2023-06-18T08:51:40.955126",
     "exception": false,
     "start_time": "2023-06-18T08:51:40.918745",
     "status": "completed"
    },
    "tags": []
   },
   "outputs": [],
   "source": [
    "#Enter Your Code, Execute and take the Screenshot"
   ]
  },
  {
   "cell_type": "code",
   "execution_count": 40,
   "id": "e2c38b96",
   "metadata": {
    "execution": {
     "iopub.execute_input": "2023-06-18T08:51:41.011800Z",
     "iopub.status.busy": "2023-06-18T08:51:41.011408Z",
     "iopub.status.idle": "2023-06-18T08:51:41.142030Z",
     "shell.execute_reply": "2023-06-18T08:51:41.140495Z"
    },
    "papermill": {
     "duration": 0.163863,
     "end_time": "2023-06-18T08:51:41.146267",
     "exception": false,
     "start_time": "2023-06-18T08:51:40.982404",
     "status": "completed"
    },
    "tags": []
   },
   "outputs": [
    {
     "data": {
      "text/html": [
       "<style>#sk-container-id-4 {color: black;background-color: white;}#sk-container-id-4 pre{padding: 0;}#sk-container-id-4 div.sk-toggleable {background-color: white;}#sk-container-id-4 label.sk-toggleable__label {cursor: pointer;display: block;width: 100%;margin-bottom: 0;padding: 0.3em;box-sizing: border-box;text-align: center;}#sk-container-id-4 label.sk-toggleable__label-arrow:before {content: \"▸\";float: left;margin-right: 0.25em;color: #696969;}#sk-container-id-4 label.sk-toggleable__label-arrow:hover:before {color: black;}#sk-container-id-4 div.sk-estimator:hover label.sk-toggleable__label-arrow:before {color: black;}#sk-container-id-4 div.sk-toggleable__content {max-height: 0;max-width: 0;overflow: hidden;text-align: left;background-color: #f0f8ff;}#sk-container-id-4 div.sk-toggleable__content pre {margin: 0.2em;color: black;border-radius: 0.25em;background-color: #f0f8ff;}#sk-container-id-4 input.sk-toggleable__control:checked~div.sk-toggleable__content {max-height: 200px;max-width: 100%;overflow: auto;}#sk-container-id-4 input.sk-toggleable__control:checked~label.sk-toggleable__label-arrow:before {content: \"▾\";}#sk-container-id-4 div.sk-estimator input.sk-toggleable__control:checked~label.sk-toggleable__label {background-color: #d4ebff;}#sk-container-id-4 div.sk-label input.sk-toggleable__control:checked~label.sk-toggleable__label {background-color: #d4ebff;}#sk-container-id-4 input.sk-hidden--visually {border: 0;clip: rect(1px 1px 1px 1px);clip: rect(1px, 1px, 1px, 1px);height: 1px;margin: -1px;overflow: hidden;padding: 0;position: absolute;width: 1px;}#sk-container-id-4 div.sk-estimator {font-family: monospace;background-color: #f0f8ff;border: 1px dotted black;border-radius: 0.25em;box-sizing: border-box;margin-bottom: 0.5em;}#sk-container-id-4 div.sk-estimator:hover {background-color: #d4ebff;}#sk-container-id-4 div.sk-parallel-item::after {content: \"\";width: 100%;border-bottom: 1px solid gray;flex-grow: 1;}#sk-container-id-4 div.sk-label:hover label.sk-toggleable__label {background-color: #d4ebff;}#sk-container-id-4 div.sk-serial::before {content: \"\";position: absolute;border-left: 1px solid gray;box-sizing: border-box;top: 0;bottom: 0;left: 50%;z-index: 0;}#sk-container-id-4 div.sk-serial {display: flex;flex-direction: column;align-items: center;background-color: white;padding-right: 0.2em;padding-left: 0.2em;position: relative;}#sk-container-id-4 div.sk-item {position: relative;z-index: 1;}#sk-container-id-4 div.sk-parallel {display: flex;align-items: stretch;justify-content: center;background-color: white;position: relative;}#sk-container-id-4 div.sk-item::before, #sk-container-id-4 div.sk-parallel-item::before {content: \"\";position: absolute;border-left: 1px solid gray;box-sizing: border-box;top: 0;bottom: 0;left: 50%;z-index: -1;}#sk-container-id-4 div.sk-parallel-item {display: flex;flex-direction: column;z-index: 1;position: relative;background-color: white;}#sk-container-id-4 div.sk-parallel-item:first-child::after {align-self: flex-end;width: 50%;}#sk-container-id-4 div.sk-parallel-item:last-child::after {align-self: flex-start;width: 50%;}#sk-container-id-4 div.sk-parallel-item:only-child::after {width: 0;}#sk-container-id-4 div.sk-dashed-wrapped {border: 1px dashed gray;margin: 0 0.4em 0.5em 0.4em;box-sizing: border-box;padding-bottom: 0.4em;background-color: white;}#sk-container-id-4 div.sk-label label {font-family: monospace;font-weight: bold;display: inline-block;line-height: 1.2em;}#sk-container-id-4 div.sk-label-container {text-align: center;}#sk-container-id-4 div.sk-container {/* jupyter's `normalize.less` sets `[hidden] { display: none; }` but bootstrap.min.css set `[hidden] { display: none !important; }` so we also need the `!important` here to be able to override the default hidden behavior on the sphinx rendered scikit-learn.org. See: https://github.com/scikit-learn/scikit-learn/issues/21755 */display: inline-block !important;position: relative;}#sk-container-id-4 div.sk-text-repr-fallback {display: none;}</style><div id=\"sk-container-id-4\" class=\"sk-top-container\"><div class=\"sk-text-repr-fallback\"><pre>LogisticRegression()</pre><b>In a Jupyter environment, please rerun this cell to show the HTML representation or trust the notebook. <br />On GitHub, the HTML representation is unable to render, please try loading this page with nbviewer.org.</b></div><div class=\"sk-container\" hidden><div class=\"sk-item\"><div class=\"sk-estimator sk-toggleable\"><input class=\"sk-toggleable__control sk-hidden--visually\" id=\"sk-estimator-id-4\" type=\"checkbox\" checked><label for=\"sk-estimator-id-4\" class=\"sk-toggleable__label sk-toggleable__label-arrow\">LogisticRegression</label><div class=\"sk-toggleable__content\"><pre>LogisticRegression()</pre></div></div></div></div></div>"
      ],
      "text/plain": [
       "LogisticRegression()"
      ]
     },
     "execution_count": 40,
     "metadata": {},
     "output_type": "execute_result"
    }
   ],
   "source": [
    "LR = LogisticRegression()\n",
    "LR.fit(x_train, y_train)"
   ]
  },
  {
   "cell_type": "markdown",
   "id": "7d53181d",
   "metadata": {
    "papermill": {
     "duration": 0.052808,
     "end_time": "2023-06-18T08:51:41.258549",
     "exception": false,
     "start_time": "2023-06-18T08:51:41.205741",
     "status": "completed"
    },
    "tags": []
   },
   "source": [
    "#### Q14) Now, use the `predict` method on the testing data (`x_test`) and save it to the array `predictions`.\n"
   ]
  },
  {
   "cell_type": "code",
   "execution_count": 41,
   "id": "98d773b9",
   "metadata": {
    "execution": {
     "iopub.execute_input": "2023-06-18T08:51:41.315986Z",
     "iopub.status.busy": "2023-06-18T08:51:41.315525Z",
     "iopub.status.idle": "2023-06-18T08:51:41.320052Z",
     "shell.execute_reply": "2023-06-18T08:51:41.319136Z"
    },
    "papermill": {
     "duration": 0.035873,
     "end_time": "2023-06-18T08:51:41.322155",
     "exception": false,
     "start_time": "2023-06-18T08:51:41.286282",
     "status": "completed"
    },
    "tags": []
   },
   "outputs": [],
   "source": [
    "#Enter Your Code, Execute and take the Screenshot"
   ]
  },
  {
   "cell_type": "code",
   "execution_count": 42,
   "id": "2654fa48",
   "metadata": {
    "execution": {
     "iopub.execute_input": "2023-06-18T08:51:41.380841Z",
     "iopub.status.busy": "2023-06-18T08:51:41.379762Z",
     "iopub.status.idle": "2023-06-18T08:51:41.389804Z",
     "shell.execute_reply": "2023-06-18T08:51:41.388003Z"
    },
    "papermill": {
     "duration": 0.044589,
     "end_time": "2023-06-18T08:51:41.395339",
     "exception": false,
     "start_time": "2023-06-18T08:51:41.350750",
     "status": "completed"
    },
    "tags": []
   },
   "outputs": [],
   "source": [
    "predictions = LR.predict(x_test)"
   ]
  },
  {
   "cell_type": "markdown",
   "id": "1e59d085",
   "metadata": {
    "papermill": {
     "duration": 0.055351,
     "end_time": "2023-06-18T08:51:41.510476",
     "exception": false,
     "start_time": "2023-06-18T08:51:41.455125",
     "status": "completed"
    },
    "tags": []
   },
   "source": [
    "#### Q15) Using the `predictions` and the `y_test` dataframe calculate the value for each metric using the appropriate function.\n"
   ]
  },
  {
   "cell_type": "code",
   "execution_count": 43,
   "id": "d120ad71",
   "metadata": {
    "execution": {
     "iopub.execute_input": "2023-06-18T08:51:41.569303Z",
     "iopub.status.busy": "2023-06-18T08:51:41.568847Z",
     "iopub.status.idle": "2023-06-18T08:51:41.573854Z",
     "shell.execute_reply": "2023-06-18T08:51:41.572603Z"
    },
    "papermill": {
     "duration": 0.03622,
     "end_time": "2023-06-18T08:51:41.576190",
     "exception": false,
     "start_time": "2023-06-18T08:51:41.539970",
     "status": "completed"
    },
    "tags": []
   },
   "outputs": [],
   "source": [
    "#Enter Your Code, Execute and take the Screenshot"
   ]
  },
  {
   "cell_type": "code",
   "execution_count": 44,
   "id": "58d80cbd",
   "metadata": {
    "execution": {
     "iopub.execute_input": "2023-06-18T08:51:41.634256Z",
     "iopub.status.busy": "2023-06-18T08:51:41.633488Z",
     "iopub.status.idle": "2023-06-18T08:51:41.654777Z",
     "shell.execute_reply": "2023-06-18T08:51:41.653684Z"
    },
    "papermill": {
     "duration": 0.054831,
     "end_time": "2023-06-18T08:51:41.658965",
     "exception": false,
     "start_time": "2023-06-18T08:51:41.604134",
     "status": "completed"
    },
    "tags": []
   },
   "outputs": [
    {
     "name": "stdout",
     "output_type": "stream",
     "text": [
      "Accuracy: 0.8244274809160306\n",
      "Jaccard Index: 0.4675925925925926\n",
      "F1 Score: 0.6372239747634069\n",
      "Log Loss: 0.38461494609949615\n"
     ]
    }
   ],
   "source": [
    "LR_Accuracy_Score = accuracy_score(y_test, predictions)\n",
    "LR_JaccardIndex = jaccard_score(y_test, predictions)\n",
    "LR_F1_Score = f1_score(y_test, predictions)\n",
    "\n",
    "y_pred_proba = LR.predict_proba(x_test)\n",
    "LR_Log_Loss = log_loss(y_test, y_pred_proba)\n",
    "\n",
    "print(\"Accuracy:\", LR_Accuracy_Score)\n",
    "print(\"Jaccard Index:\", LR_JaccardIndex)\n",
    "print(\"F1 Score:\", LR_F1_Score)\n",
    "print(\"Log Loss:\", LR_Log_Loss)"
   ]
  },
  {
   "cell_type": "markdown",
   "id": "a34f8925",
   "metadata": {
    "papermill": {
     "duration": 0.054294,
     "end_time": "2023-06-18T08:51:41.771036",
     "exception": false,
     "start_time": "2023-06-18T08:51:41.716742",
     "status": "completed"
    },
    "tags": []
   },
   "source": [
    "### SVM\n"
   ]
  },
  {
   "cell_type": "markdown",
   "id": "b4a29d8a",
   "metadata": {
    "papermill": {
     "duration": 0.027142,
     "end_time": "2023-06-18T08:51:41.825772",
     "exception": false,
     "start_time": "2023-06-18T08:51:41.798630",
     "status": "completed"
    },
    "tags": []
   },
   "source": [
    "#### Q16) Create and train a SVM model called SVM using the training data (`x_train`, `y_train`).\n"
   ]
  },
  {
   "cell_type": "code",
   "execution_count": 45,
   "id": "f27812ba",
   "metadata": {
    "execution": {
     "iopub.execute_input": "2023-06-18T08:51:41.884809Z",
     "iopub.status.busy": "2023-06-18T08:51:41.884423Z",
     "iopub.status.idle": "2023-06-18T08:51:41.889141Z",
     "shell.execute_reply": "2023-06-18T08:51:41.887993Z"
    },
    "papermill": {
     "duration": 0.036375,
     "end_time": "2023-06-18T08:51:41.891655",
     "exception": false,
     "start_time": "2023-06-18T08:51:41.855280",
     "status": "completed"
    },
    "tags": []
   },
   "outputs": [],
   "source": [
    "#Enter Your Code, Execute and take the Screenshot"
   ]
  },
  {
   "cell_type": "code",
   "execution_count": 46,
   "id": "7a2aedae",
   "metadata": {
    "execution": {
     "iopub.execute_input": "2023-06-18T08:51:41.951722Z",
     "iopub.status.busy": "2023-06-18T08:51:41.951314Z",
     "iopub.status.idle": "2023-06-18T08:51:42.339053Z",
     "shell.execute_reply": "2023-06-18T08:51:42.337985Z"
    },
    "papermill": {
     "duration": 0.420902,
     "end_time": "2023-06-18T08:51:42.341364",
     "exception": false,
     "start_time": "2023-06-18T08:51:41.920462",
     "status": "completed"
    },
    "tags": []
   },
   "outputs": [
    {
     "data": {
      "text/html": [
       "<style>#sk-container-id-5 {color: black;background-color: white;}#sk-container-id-5 pre{padding: 0;}#sk-container-id-5 div.sk-toggleable {background-color: white;}#sk-container-id-5 label.sk-toggleable__label {cursor: pointer;display: block;width: 100%;margin-bottom: 0;padding: 0.3em;box-sizing: border-box;text-align: center;}#sk-container-id-5 label.sk-toggleable__label-arrow:before {content: \"▸\";float: left;margin-right: 0.25em;color: #696969;}#sk-container-id-5 label.sk-toggleable__label-arrow:hover:before {color: black;}#sk-container-id-5 div.sk-estimator:hover label.sk-toggleable__label-arrow:before {color: black;}#sk-container-id-5 div.sk-toggleable__content {max-height: 0;max-width: 0;overflow: hidden;text-align: left;background-color: #f0f8ff;}#sk-container-id-5 div.sk-toggleable__content pre {margin: 0.2em;color: black;border-radius: 0.25em;background-color: #f0f8ff;}#sk-container-id-5 input.sk-toggleable__control:checked~div.sk-toggleable__content {max-height: 200px;max-width: 100%;overflow: auto;}#sk-container-id-5 input.sk-toggleable__control:checked~label.sk-toggleable__label-arrow:before {content: \"▾\";}#sk-container-id-5 div.sk-estimator input.sk-toggleable__control:checked~label.sk-toggleable__label {background-color: #d4ebff;}#sk-container-id-5 div.sk-label input.sk-toggleable__control:checked~label.sk-toggleable__label {background-color: #d4ebff;}#sk-container-id-5 input.sk-hidden--visually {border: 0;clip: rect(1px 1px 1px 1px);clip: rect(1px, 1px, 1px, 1px);height: 1px;margin: -1px;overflow: hidden;padding: 0;position: absolute;width: 1px;}#sk-container-id-5 div.sk-estimator {font-family: monospace;background-color: #f0f8ff;border: 1px dotted black;border-radius: 0.25em;box-sizing: border-box;margin-bottom: 0.5em;}#sk-container-id-5 div.sk-estimator:hover {background-color: #d4ebff;}#sk-container-id-5 div.sk-parallel-item::after {content: \"\";width: 100%;border-bottom: 1px solid gray;flex-grow: 1;}#sk-container-id-5 div.sk-label:hover label.sk-toggleable__label {background-color: #d4ebff;}#sk-container-id-5 div.sk-serial::before {content: \"\";position: absolute;border-left: 1px solid gray;box-sizing: border-box;top: 0;bottom: 0;left: 50%;z-index: 0;}#sk-container-id-5 div.sk-serial {display: flex;flex-direction: column;align-items: center;background-color: white;padding-right: 0.2em;padding-left: 0.2em;position: relative;}#sk-container-id-5 div.sk-item {position: relative;z-index: 1;}#sk-container-id-5 div.sk-parallel {display: flex;align-items: stretch;justify-content: center;background-color: white;position: relative;}#sk-container-id-5 div.sk-item::before, #sk-container-id-5 div.sk-parallel-item::before {content: \"\";position: absolute;border-left: 1px solid gray;box-sizing: border-box;top: 0;bottom: 0;left: 50%;z-index: -1;}#sk-container-id-5 div.sk-parallel-item {display: flex;flex-direction: column;z-index: 1;position: relative;background-color: white;}#sk-container-id-5 div.sk-parallel-item:first-child::after {align-self: flex-end;width: 50%;}#sk-container-id-5 div.sk-parallel-item:last-child::after {align-self: flex-start;width: 50%;}#sk-container-id-5 div.sk-parallel-item:only-child::after {width: 0;}#sk-container-id-5 div.sk-dashed-wrapped {border: 1px dashed gray;margin: 0 0.4em 0.5em 0.4em;box-sizing: border-box;padding-bottom: 0.4em;background-color: white;}#sk-container-id-5 div.sk-label label {font-family: monospace;font-weight: bold;display: inline-block;line-height: 1.2em;}#sk-container-id-5 div.sk-label-container {text-align: center;}#sk-container-id-5 div.sk-container {/* jupyter's `normalize.less` sets `[hidden] { display: none; }` but bootstrap.min.css set `[hidden] { display: none !important; }` so we also need the `!important` here to be able to override the default hidden behavior on the sphinx rendered scikit-learn.org. See: https://github.com/scikit-learn/scikit-learn/issues/21755 */display: inline-block !important;position: relative;}#sk-container-id-5 div.sk-text-repr-fallback {display: none;}</style><div id=\"sk-container-id-5\" class=\"sk-top-container\"><div class=\"sk-text-repr-fallback\"><pre>SVC(kernel=&#x27;sigmoid&#x27;)</pre><b>In a Jupyter environment, please rerun this cell to show the HTML representation or trust the notebook. <br />On GitHub, the HTML representation is unable to render, please try loading this page with nbviewer.org.</b></div><div class=\"sk-container\" hidden><div class=\"sk-item\"><div class=\"sk-estimator sk-toggleable\"><input class=\"sk-toggleable__control sk-hidden--visually\" id=\"sk-estimator-id-5\" type=\"checkbox\" checked><label for=\"sk-estimator-id-5\" class=\"sk-toggleable__label sk-toggleable__label-arrow\">SVC</label><div class=\"sk-toggleable__content\"><pre>SVC(kernel=&#x27;sigmoid&#x27;)</pre></div></div></div></div></div>"
      ],
      "text/plain": [
       "SVC(kernel='sigmoid')"
      ]
     },
     "execution_count": 46,
     "metadata": {},
     "output_type": "execute_result"
    }
   ],
   "source": [
    "from sklearn.svm import SVC\n",
    "\n",
    "SVM = SVC(kernel='sigmoid')\n",
    "SVM.fit(x_train, y_train)"
   ]
  },
  {
   "cell_type": "markdown",
   "id": "50c82fc9",
   "metadata": {
    "papermill": {
     "duration": 0.027586,
     "end_time": "2023-06-18T08:51:42.397356",
     "exception": false,
     "start_time": "2023-06-18T08:51:42.369770",
     "status": "completed"
    },
    "tags": []
   },
   "source": [
    "#### Q17) Now use the `predict` method on the testing data (`x_test`) and save it to the array `predictions`.\n"
   ]
  },
  {
   "cell_type": "code",
   "execution_count": 47,
   "id": "9afadad0",
   "metadata": {
    "execution": {
     "iopub.execute_input": "2023-06-18T08:51:42.455439Z",
     "iopub.status.busy": "2023-06-18T08:51:42.454786Z",
     "iopub.status.idle": "2023-06-18T08:51:42.459244Z",
     "shell.execute_reply": "2023-06-18T08:51:42.458416Z"
    },
    "papermill": {
     "duration": 0.03607,
     "end_time": "2023-06-18T08:51:42.461463",
     "exception": false,
     "start_time": "2023-06-18T08:51:42.425393",
     "status": "completed"
    },
    "tags": []
   },
   "outputs": [],
   "source": [
    "#Enter Your Code, Execute and take the Screenshot"
   ]
  },
  {
   "cell_type": "code",
   "execution_count": 48,
   "id": "4cef9150",
   "metadata": {
    "execution": {
     "iopub.execute_input": "2023-06-18T08:51:42.520969Z",
     "iopub.status.busy": "2023-06-18T08:51:42.520543Z",
     "iopub.status.idle": "2023-06-18T08:51:42.607430Z",
     "shell.execute_reply": "2023-06-18T08:51:42.606137Z"
    },
    "papermill": {
     "duration": 0.120065,
     "end_time": "2023-06-18T08:51:42.610235",
     "exception": false,
     "start_time": "2023-06-18T08:51:42.490170",
     "status": "completed"
    },
    "tags": []
   },
   "outputs": [],
   "source": [
    "predictions = SVM.predict(x_test)"
   ]
  },
  {
   "cell_type": "markdown",
   "id": "cec7cbfd",
   "metadata": {
    "papermill": {
     "duration": 0.027646,
     "end_time": "2023-06-18T08:51:42.666798",
     "exception": false,
     "start_time": "2023-06-18T08:51:42.639152",
     "status": "completed"
    },
    "tags": []
   },
   "source": [
    "#### Q18) Using the `predictions` and the `y_test` dataframe calculate the value for each metric using the appropriate function.\n"
   ]
  },
  {
   "cell_type": "code",
   "execution_count": 49,
   "id": "ad1281eb",
   "metadata": {
    "execution": {
     "iopub.execute_input": "2023-06-18T08:51:42.725229Z",
     "iopub.status.busy": "2023-06-18T08:51:42.724827Z",
     "iopub.status.idle": "2023-06-18T08:51:42.737847Z",
     "shell.execute_reply": "2023-06-18T08:51:42.736477Z"
    },
    "papermill": {
     "duration": 0.045249,
     "end_time": "2023-06-18T08:51:42.740352",
     "exception": false,
     "start_time": "2023-06-18T08:51:42.695103",
     "status": "completed"
    },
    "tags": []
   },
   "outputs": [
    {
     "name": "stdout",
     "output_type": "stream",
     "text": [
      "Accuracy: 0.7221374045801526\n",
      "Jaccard Index: 0.0\n",
      "F1 Score: 0.0\n"
     ]
    }
   ],
   "source": [
    "SVM_Accuracy_Score = accuracy_score(y_test, predictions)\n",
    "SVM_JaccardIndex = jaccard_score(y_test, predictions)\n",
    "SVM_F1_Score = f1_score(y_test, predictions)\n",
    "\n",
    "print(\"Accuracy:\", SVM_Accuracy_Score)\n",
    "print(\"Jaccard Index:\", SVM_JaccardIndex)\n",
    "print(\"F1 Score:\", SVM_F1_Score)"
   ]
  },
  {
   "cell_type": "markdown",
   "id": "45789ddf",
   "metadata": {
    "papermill": {
     "duration": 0.028563,
     "end_time": "2023-06-18T08:51:42.798247",
     "exception": false,
     "start_time": "2023-06-18T08:51:42.769684",
     "status": "completed"
    },
    "tags": []
   },
   "source": [
    "### Report\n"
   ]
  },
  {
   "cell_type": "markdown",
   "id": "6d1b77c7",
   "metadata": {
    "papermill": {
     "duration": 0.028615,
     "end_time": "2023-06-18T08:51:42.855680",
     "exception": false,
     "start_time": "2023-06-18T08:51:42.827065",
     "status": "completed"
    },
    "tags": []
   },
   "source": [
    "#### Q19) Show the Accuracy,Jaccard Index,F1-Score and LogLoss in a tabular format using data frame for all of the above models.\n",
    "\n",
    "\\*LogLoss is only for Logistic Regression Model\n"
   ]
  },
  {
   "cell_type": "code",
   "execution_count": 50,
   "id": "eb278806",
   "metadata": {
    "execution": {
     "iopub.execute_input": "2023-06-18T08:51:42.915646Z",
     "iopub.status.busy": "2023-06-18T08:51:42.914847Z",
     "iopub.status.idle": "2023-06-18T08:51:42.918959Z",
     "shell.execute_reply": "2023-06-18T08:51:42.918169Z"
    },
    "papermill": {
     "duration": 0.037115,
     "end_time": "2023-06-18T08:51:42.921160",
     "exception": false,
     "start_time": "2023-06-18T08:51:42.884045",
     "status": "completed"
    },
    "tags": []
   },
   "outputs": [],
   "source": [
    "#Enter Your Code, Execute and take the Screenshot"
   ]
  },
  {
   "cell_type": "code",
   "execution_count": 51,
   "id": "65771664",
   "metadata": {
    "execution": {
     "iopub.execute_input": "2023-06-18T08:51:42.981782Z",
     "iopub.status.busy": "2023-06-18T08:51:42.980586Z",
     "iopub.status.idle": "2023-06-18T08:51:42.992433Z",
     "shell.execute_reply": "2023-06-18T08:51:42.991309Z"
    },
    "papermill": {
     "duration": 0.044586,
     "end_time": "2023-06-18T08:51:42.995159",
     "exception": false,
     "start_time": "2023-06-18T08:51:42.950573",
     "status": "completed"
    },
    "tags": []
   },
   "outputs": [
    {
     "data": {
      "text/html": [
       "<div>\n",
       "<style scoped>\n",
       "    .dataframe tbody tr th:only-of-type {\n",
       "        vertical-align: middle;\n",
       "    }\n",
       "\n",
       "    .dataframe tbody tr th {\n",
       "        vertical-align: top;\n",
       "    }\n",
       "\n",
       "    .dataframe thead th {\n",
       "        text-align: right;\n",
       "    }\n",
       "</style>\n",
       "<table border=\"1\" class=\"dataframe\">\n",
       "  <thead>\n",
       "    <tr style=\"text-align: right;\">\n",
       "      <th></th>\n",
       "      <th>Metrics</th>\n",
       "      <th>Values</th>\n",
       "    </tr>\n",
       "  </thead>\n",
       "  <tbody>\n",
       "    <tr>\n",
       "      <th>0</th>\n",
       "      <td>Accuracy</td>\n",
       "      <td>0.722137</td>\n",
       "    </tr>\n",
       "    <tr>\n",
       "      <th>1</th>\n",
       "      <td>Jaccard Index</td>\n",
       "      <td>0.000000</td>\n",
       "    </tr>\n",
       "    <tr>\n",
       "      <th>2</th>\n",
       "      <td>F1 Score</td>\n",
       "      <td>0.000000</td>\n",
       "    </tr>\n",
       "  </tbody>\n",
       "</table>\n",
       "</div>"
      ],
      "text/plain": [
       "         Metrics    Values\n",
       "0       Accuracy  0.722137\n",
       "1  Jaccard Index  0.000000\n",
       "2       F1 Score  0.000000"
      ]
     },
     "execution_count": 51,
     "metadata": {},
     "output_type": "execute_result"
    }
   ],
   "source": [
    "Report = pd.DataFrame({'Metrics': ['Accuracy', 'Jaccard Index', 'F1 Score'], \\\n",
    "                      'Values': [SVM_Accuracy_Score, SVM_JaccardIndex, SVM_F1_Score]})\n",
    "Report"
   ]
  },
  {
   "cell_type": "markdown",
   "id": "f99e0e0a",
   "metadata": {
    "papermill": {
     "duration": 0.028659,
     "end_time": "2023-06-18T08:51:43.052283",
     "exception": false,
     "start_time": "2023-06-18T08:51:43.023624",
     "status": "completed"
    },
    "tags": []
   },
   "source": [
    "Jaccard Index: 0.0\n",
    "F1 Score: 0.0\n",
    "\n",
    "----- seems the model training isn't good?"
   ]
  },
  {
   "cell_type": "markdown",
   "id": "c0d7d289",
   "metadata": {
    "papermill": {
     "duration": 0.028609,
     "end_time": "2023-06-18T08:51:43.110569",
     "exception": false,
     "start_time": "2023-06-18T08:51:43.081960",
     "status": "completed"
    },
    "tags": []
   },
   "source": [
    "<h2 id=\"Section_5\">  How to submit </h2>\n",
    "\n",
    "<p>Once you complete your notebook you will have to share it. You can download the notebook by navigating to \"File\" and clicking on \"Download\" button.\n",
    "\n",
    "<p>This will save the (.ipynb) file on your computer. Once saved, you can upload this file in the \"My Submission\" tab, of the \"Peer-graded Assignment\" section.  \n"
   ]
  },
  {
   "cell_type": "markdown",
   "id": "b9d591fc",
   "metadata": {
    "papermill": {
     "duration": 0.028094,
     "end_time": "2023-06-18T08:51:43.166943",
     "exception": false,
     "start_time": "2023-06-18T08:51:43.138849",
     "status": "completed"
    },
    "tags": []
   },
   "source": [
    "<h2>About the Authors:</h2> \n",
    "\n",
    "<a href=\"https://www.linkedin.com/in/joseph-s-50398b136/?utm_medium=Exinfluencer&utm_source=Exinfluencer&utm_content=000026UJ&utm_term=10006555&utm_id=NA-SkillsNetwork-Channel-SkillsNetworkCoursesIBMDeveloperSkillsNetworkML0101ENSkillsNetwork20718538-2022-01-01\">Joseph Santarcangelo</a> has a PhD in Electrical Engineering, his research focused on using machine learning, signal processing, and computer vision to determine how videos impact human cognition. Joseph has been working for IBM since he completed his PhD.\n",
    "\n",
    "### Other Contributors\n",
    "\n",
    "<a href=\"https://www.linkedin.com/in/birlahimanshu/?utm_medium=Exinfluencer&utm_source=Exinfluencer&utm_content=000026UJ&utm_term=10006555&utm_id=NA-SkillsNetwork-Channel-SkillsNetworkCoursesIBMDeveloperSkillsNetworkML0101ENSkillsNetwork20718538-2022-01-01\">Himanshu Birla</a>\n"
   ]
  },
  {
   "cell_type": "markdown",
   "id": "03ea7709",
   "metadata": {
    "papermill": {
     "duration": 0.028319,
     "end_time": "2023-06-18T08:51:43.223566",
     "exception": false,
     "start_time": "2023-06-18T08:51:43.195247",
     "status": "completed"
    },
    "tags": []
   },
   "source": [
    "## Change Log\n",
    "\n",
    "| Date (YYYY-MM-DD) | Version | Changed By    | Change Description          |\n",
    "| ----------------- | ------- | ------------- | --------------------------- |\n",
    "| 2020-08-27        | 1.0     | Malika Singla | Added lab to GitLab         |\n",
    "| 2022-06-22        | 2.0     | Lana K.       | Deleted GridSearch and Mock |\n",
    "| <hr>              |         |               |                             |\n",
    "\n",
    "## <h3 align=\"center\"> © IBM Corporation 2020. All rights reserved. <h3/>\n"
   ]
  }
 ],
 "metadata": {
  "kernelspec": {
   "display_name": "Python 3",
   "language": "python",
   "name": "python3"
  },
  "language_info": {
   "codemirror_mode": {
    "name": "ipython",
    "version": 3
   },
   "file_extension": ".py",
   "mimetype": "text/x-python",
   "name": "python",
   "nbconvert_exporter": "python",
   "pygments_lexer": "ipython3",
   "version": "3.10.10"
  },
  "papermill": {
   "default_parameters": {},
   "duration": 22.556264,
   "end_time": "2023-06-18T08:51:44.274635",
   "environment_variables": {},
   "exception": null,
   "input_path": "__notebook__.ipynb",
   "output_path": "__notebook__.ipynb",
   "parameters": {},
   "start_time": "2023-06-18T08:51:21.718371",
   "version": "2.4.0"
  }
 },
 "nbformat": 4,
 "nbformat_minor": 5
}
