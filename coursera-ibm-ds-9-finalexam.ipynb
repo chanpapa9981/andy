{
 "cells": [
  {
   "cell_type": "markdown",
   "id": "eab98435",
   "metadata": {
    "papermill": {
     "duration": 0.022941,
     "end_time": "2023-06-18T08:38:59.049283",
     "exception": false,
     "start_time": "2023-06-18T08:38:59.026342",
     "status": "completed"
    },
    "tags": []
   },
   "source": [
    "<p style=\"text-align:center\">\n",
    "    <a href=\"https://skills.network/?utm_medium=Exinfluencer&utm_source=Exinfluencer&utm_content=000026UJ&utm_term=10006555&utm_id=NA-SkillsNetwork-Channel-SkillsNetworkCoursesIBMDeveloperSkillsNetworkML0101ENSkillsNetwork20718538-2022-01-01\">\n",
    "    <img src=\"https://cf-courses-data.s3.us.cloud-object-storage.appdomain.cloud/assets/logos/SN_web_lightmode.png\" width=\"200\" alt=\"Skills Network Logo\"  />\n",
    "    </a>\n",
    "</p>\n",
    "\n",
    "<h1 align=\"center\"><font size=\"5\">Final Project: Classification with Python</font></h1>\n"
   ]
  },
  {
   "cell_type": "markdown",
   "id": "d42c4bf1",
   "metadata": {
    "papermill": {
     "duration": 0.022077,
     "end_time": "2023-06-18T08:38:59.094422",
     "exception": false,
     "start_time": "2023-06-18T08:38:59.072345",
     "status": "completed"
    },
    "tags": []
   },
   "source": [
    "<h2>Table of Contents</h2>\n",
    "<div class=\"alert alert-block alert-info\" style=\"margin-top: 20px\">\n",
    "    <ul>\n",
    "    <li><a href=\"https://#Section_1\">Instructions</a></li>\n",
    "    <li><a href=\"https://#Section_2\">About the Data</a></li>\n",
    "    <li><a href=\"https://#Section_3\">Importing Data </a></li>\n",
    "    <li><a href=\"https://#Section_4\">Data Preprocessing</a> </li>\n",
    "    <li><a href=\"https://#Section_5\">Transforming Categorical Variables </a></li>\n",
    "    <li><a href=\"https://#Section_6\">Train and Test Data Split </a></li>\n",
    "    <li><a href=\"https://#Section_7\">Train Linear Regression, KNN, Decision Tree, Logistic Regression, and SVM models and return their appropriate accuracy scores</a></li>\n",
    "</a></li>\n",
    "</div>\n",
    "<p>Estimated Time Needed: <strong>180 min</strong></p>\n",
    "</div>\n",
    "\n",
    "<hr>\n"
   ]
  },
  {
   "cell_type": "markdown",
   "id": "5b14f60b",
   "metadata": {
    "papermill": {
     "duration": 0.022294,
     "end_time": "2023-06-18T08:38:59.139182",
     "exception": false,
     "start_time": "2023-06-18T08:38:59.116888",
     "status": "completed"
    },
    "tags": []
   },
   "source": [
    "# Instructions\n"
   ]
  },
  {
   "cell_type": "markdown",
   "id": "0106791f",
   "metadata": {
    "papermill": {
     "duration": 0.022395,
     "end_time": "2023-06-18T08:38:59.183882",
     "exception": false,
     "start_time": "2023-06-18T08:38:59.161487",
     "status": "completed"
    },
    "tags": []
   },
   "source": [
    "In this notebook, you will  practice all the classification algorithms that we learned in this course.\n",
    "\n",
    "After completing this notebook, you will need to upload it to the \"Submit Your Work and Review Your Peers\" section of the Final Project module.\n",
    "\n",
    "Below, is where we are going to use the classification algorithms to create a model based on our training data and evaluate our testing data using evaluation metrics learned in the course.\n",
    "\n",
    "We will use some of the algorithms taught in the course, specifically:\n",
    "\n",
    "1.  Linear Regression\n",
    "2.  KNN\n",
    "3.  Decision Trees\n",
    "4.  Logistic Regression\n",
    "5.  SVM\n",
    "\n",
    "We will evaluate our models using:\n",
    "\n",
    "1.  Accuracy Score\n",
    "2.  Jaccard Index\n",
    "3.  F1-Score\n",
    "4.  LogLoss\n",
    "5.  Mean Absolute Error\n",
    "6.  Mean Squared Error\n",
    "7.  R2-Score\n",
    "\n",
    "Finally, you will use your models to generate the report displaying the accuracy scores.\n"
   ]
  },
  {
   "cell_type": "markdown",
   "id": "437edab2",
   "metadata": {
    "papermill": {
     "duration": 0.021955,
     "end_time": "2023-06-18T08:38:59.228162",
     "exception": false,
     "start_time": "2023-06-18T08:38:59.206207",
     "status": "completed"
    },
    "tags": []
   },
   "source": [
    "# About The Dataset\n"
   ]
  },
  {
   "cell_type": "markdown",
   "id": "44d4adb0",
   "metadata": {
    "papermill": {
     "duration": 0.022261,
     "end_time": "2023-06-18T08:38:59.273767",
     "exception": false,
     "start_time": "2023-06-18T08:38:59.251506",
     "status": "completed"
    },
    "tags": []
   },
   "source": [
    "The original source of the data is Australian Government's Bureau of Meteorology and the latest data can be gathered from [http://www.bom.gov.au/climate/dwo/](http://www.bom.gov.au/climate/dwo/?utm_medium=Exinfluencer&utm_source=Exinfluencer&utm_content=000026UJ&utm_term=10006555&utm_id=NA-SkillsNetwork-Channel-SkillsNetworkCoursesIBMDeveloperSkillsNetworkML0101ENSkillsNetwork20718538-2022-01-01).\n",
    "\n",
    "The dataset to be used has extra columns like 'RainToday' and our target is 'RainTomorrow', which was gathered from the Rattle at [https://bitbucket.org/kayontoga/rattle/src/master/data/weatherAUS.RData](https://bitbucket.org/kayontoga/rattle/src/master/data/weatherAUS.RData?utm_medium=Exinfluencer&utm_source=Exinfluencer&utm_content=000026UJ&utm_term=10006555&utm_id=NA-SkillsNetwork-Channel-SkillsNetworkCoursesIBMDeveloperSkillsNetworkML0101ENSkillsNetwork20718538-2022-01-01)\n",
    "\n"
   ]
  },
  {
   "cell_type": "markdown",
   "id": "17c74415",
   "metadata": {
    "papermill": {
     "duration": 0.022558,
     "end_time": "2023-06-18T08:38:59.318601",
     "exception": false,
     "start_time": "2023-06-18T08:38:59.296043",
     "status": "completed"
    },
    "tags": []
   },
   "source": [
    "This dataset contains observations of weather metrics for each day from 2008 to 2017. The **weatherAUS.csv** dataset includes the following fields:\n",
    "\n",
    "| Field         | Description                                           | Unit            | Type   |\n",
    "| ------------- | ----------------------------------------------------- | --------------- | ------ |\n",
    "| Date          | Date of the Observation in YYYY-MM-DD                 | Date            | object |\n",
    "| Location      | Location of the Observation                           | Location        | object |\n",
    "| MinTemp       | Minimum temperature                                   | Celsius         | float  |\n",
    "| MaxTemp       | Maximum temperature                                   | Celsius         | float  |\n",
    "| Rainfall      | Amount of rainfall                                    | Millimeters     | float  |\n",
    "| Evaporation   | Amount of evaporation                                 | Millimeters     | float  |\n",
    "| Sunshine      | Amount of bright sunshine                             | hours           | float  |\n",
    "| WindGustDir   | Direction of the strongest gust                       | Compass Points  | object |\n",
    "| WindGustSpeed | Speed of the strongest gust                           | Kilometers/Hour | object |\n",
    "| WindDir9am    | Wind direction averaged of 10 minutes prior to 9am    | Compass Points  | object |\n",
    "| WindDir3pm    | Wind direction averaged of 10 minutes prior to 3pm    | Compass Points  | object |\n",
    "| WindSpeed9am  | Wind speed averaged of 10 minutes prior to 9am        | Kilometers/Hour | float  |\n",
    "| WindSpeed3pm  | Wind speed averaged of 10 minutes prior to 3pm        | Kilometers/Hour | float  |\n",
    "| Humidity9am   | Humidity at 9am                                       | Percent         | float  |\n",
    "| Humidity3pm   | Humidity at 3pm                                       | Percent         | float  |\n",
    "| Pressure9am   | Atmospheric pressure reduced to mean sea level at 9am | Hectopascal     | float  |\n",
    "| Pressure3pm   | Atmospheric pressure reduced to mean sea level at 3pm | Hectopascal     | float  |\n",
    "| Cloud9am      | Fraction of the sky obscured by cloud at 9am          | Eights          | float  |\n",
    "| Cloud3pm      | Fraction of the sky obscured by cloud at 3pm          | Eights          | float  |\n",
    "| Temp9am       | Temperature at 9am                                    | Celsius         | float  |\n",
    "| Temp3pm       | Temperature at 3pm                                    | Celsius         | float  |\n",
    "| RainToday     | If there was rain today                               | Yes/No          | object |\n",
    "| RISK_MM       | Amount of rain tomorrow                               | Millimeters     | float  |\n",
    "| RainTomorrow  | If there is rain tomorrow                             | Yes/No          | float  |\n",
    "\n",
    "Column definitions were gathered from [http://www.bom.gov.au/climate/dwo/IDCJDW0000.shtml](http://www.bom.gov.au/climate/dwo/IDCJDW0000.shtml?utm_medium=Exinfluencer&utm_source=Exinfluencer&utm_content=000026UJ&utm_term=10006555&utm_id=NA-SkillsNetwork-Channel-SkillsNetworkCoursesIBMDeveloperSkillsNetworkML0101ENSkillsNetwork20718538-2022-01-01)\n",
    "\n"
   ]
  },
  {
   "cell_type": "markdown",
   "id": "3153629d",
   "metadata": {
    "papermill": {
     "duration": 0.025332,
     "end_time": "2023-06-18T08:38:59.367158",
     "exception": false,
     "start_time": "2023-06-18T08:38:59.341826",
     "status": "completed"
    },
    "tags": []
   },
   "source": [
    "## **Import the required libraries**\n"
   ]
  },
  {
   "cell_type": "code",
   "execution_count": 1,
   "id": "d6713bc2",
   "metadata": {
    "execution": {
     "iopub.execute_input": "2023-06-18T08:38:59.414684Z",
     "iopub.status.busy": "2023-06-18T08:38:59.413988Z",
     "iopub.status.idle": "2023-06-18T08:38:59.418951Z",
     "shell.execute_reply": "2023-06-18T08:38:59.418042Z"
    },
    "papermill": {
     "duration": 0.034879,
     "end_time": "2023-06-18T08:38:59.424365",
     "exception": false,
     "start_time": "2023-06-18T08:38:59.389486",
     "status": "completed"
    },
    "tags": []
   },
   "outputs": [],
   "source": [
    "# All Libraries required for this lab are listed below. The libraries pre-installed on Skills Network Labs are commented.\n",
    "# !mamba install -qy pandas==1.3.4 numpy==1.21.4 seaborn==0.9.0 matplotlib==3.5.0 scikit-learn==0.20.1\n",
    "# Note: If your environment doesn't support \"!mamba install\", use \"!pip install\""
   ]
  },
  {
   "cell_type": "code",
   "execution_count": 2,
   "id": "02ae85a6",
   "metadata": {
    "execution": {
     "iopub.execute_input": "2023-06-18T08:38:59.471345Z",
     "iopub.status.busy": "2023-06-18T08:38:59.470938Z",
     "iopub.status.idle": "2023-06-18T08:38:59.481751Z",
     "shell.execute_reply": "2023-06-18T08:38:59.480882Z"
    },
    "papermill": {
     "duration": 0.036975,
     "end_time": "2023-06-18T08:38:59.484100",
     "exception": false,
     "start_time": "2023-06-18T08:38:59.447125",
     "status": "completed"
    },
    "tags": []
   },
   "outputs": [],
   "source": [
    "# Surpress warnings:\n",
    "def warn(*args, **kwargs):\n",
    "    pass\n",
    "import warnings\n",
    "warnings.warn = warn"
   ]
  },
  {
   "cell_type": "code",
   "execution_count": 3,
   "id": "14c698d8",
   "metadata": {
    "execution": {
     "iopub.execute_input": "2023-06-18T08:38:59.532349Z",
     "iopub.status.busy": "2023-06-18T08:38:59.531684Z",
     "iopub.status.idle": "2023-06-18T08:39:01.280815Z",
     "shell.execute_reply": "2023-06-18T08:39:01.279870Z"
    },
    "papermill": {
     "duration": 1.776364,
     "end_time": "2023-06-18T08:39:01.283445",
     "exception": false,
     "start_time": "2023-06-18T08:38:59.507081",
     "status": "completed"
    },
    "tags": []
   },
   "outputs": [],
   "source": [
    "import pandas as pd\n",
    "from sklearn.linear_model import LogisticRegression\n",
    "from sklearn.linear_model import LinearRegression\n",
    "from sklearn import preprocessing\n",
    "import numpy as np\n",
    "from sklearn.neighbors import KNeighborsClassifier\n",
    "from sklearn.model_selection import GridSearchCV\n",
    "from sklearn.model_selection import train_test_split\n",
    "from sklearn.neighbors import KNeighborsClassifier\n",
    "from sklearn.tree import DecisionTreeClassifier\n",
    "from sklearn import svm\n",
    "from sklearn.metrics import jaccard_score\n",
    "from sklearn.metrics import f1_score\n",
    "from sklearn.metrics import log_loss\n",
    "import matplotlib.pyplot as plt\n",
    "from sklearn.metrics import confusion_matrix, accuracy_score\n",
    "import sklearn.metrics as metrics"
   ]
  },
  {
   "cell_type": "markdown",
   "id": "a5af4258",
   "metadata": {
    "papermill": {
     "duration": 0.022721,
     "end_time": "2023-06-18T08:39:01.329199",
     "exception": false,
     "start_time": "2023-06-18T08:39:01.306478",
     "status": "completed"
    },
    "tags": []
   },
   "source": [
    "### Importing the Dataset\n"
   ]
  },
  {
   "cell_type": "code",
   "execution_count": 4,
   "id": "5a23631c",
   "metadata": {
    "execution": {
     "iopub.execute_input": "2023-06-18T08:39:01.379455Z",
     "iopub.status.busy": "2023-06-18T08:39:01.378757Z",
     "iopub.status.idle": "2023-06-18T08:39:03.148805Z",
     "shell.execute_reply": "2023-06-18T08:39:03.147596Z"
    },
    "papermill": {
     "duration": 1.799653,
     "end_time": "2023-06-18T08:39:03.151596",
     "exception": false,
     "start_time": "2023-06-18T08:39:01.351943",
     "status": "completed"
    },
    "tags": []
   },
   "outputs": [
    {
     "data": {
      "text/html": [
       "<div>\n",
       "<style scoped>\n",
       "    .dataframe tbody tr th:only-of-type {\n",
       "        vertical-align: middle;\n",
       "    }\n",
       "\n",
       "    .dataframe tbody tr th {\n",
       "        vertical-align: top;\n",
       "    }\n",
       "\n",
       "    .dataframe thead th {\n",
       "        text-align: right;\n",
       "    }\n",
       "</style>\n",
       "<table border=\"1\" class=\"dataframe\">\n",
       "  <thead>\n",
       "    <tr style=\"text-align: right;\">\n",
       "      <th></th>\n",
       "      <th>Date</th>\n",
       "      <th>MinTemp</th>\n",
       "      <th>MaxTemp</th>\n",
       "      <th>Rainfall</th>\n",
       "      <th>Evaporation</th>\n",
       "      <th>Sunshine</th>\n",
       "      <th>WindGustDir</th>\n",
       "      <th>WindGustSpeed</th>\n",
       "      <th>WindDir9am</th>\n",
       "      <th>WindDir3pm</th>\n",
       "      <th>...</th>\n",
       "      <th>Humidity9am</th>\n",
       "      <th>Humidity3pm</th>\n",
       "      <th>Pressure9am</th>\n",
       "      <th>Pressure3pm</th>\n",
       "      <th>Cloud9am</th>\n",
       "      <th>Cloud3pm</th>\n",
       "      <th>Temp9am</th>\n",
       "      <th>Temp3pm</th>\n",
       "      <th>RainToday</th>\n",
       "      <th>RainTomorrow</th>\n",
       "    </tr>\n",
       "  </thead>\n",
       "  <tbody>\n",
       "    <tr>\n",
       "      <th>0</th>\n",
       "      <td>2/1/2008</td>\n",
       "      <td>19.5</td>\n",
       "      <td>22.4</td>\n",
       "      <td>15.6</td>\n",
       "      <td>6.2</td>\n",
       "      <td>0.0</td>\n",
       "      <td>W</td>\n",
       "      <td>41</td>\n",
       "      <td>S</td>\n",
       "      <td>SSW</td>\n",
       "      <td>...</td>\n",
       "      <td>92</td>\n",
       "      <td>84</td>\n",
       "      <td>1017.6</td>\n",
       "      <td>1017.4</td>\n",
       "      <td>8</td>\n",
       "      <td>8</td>\n",
       "      <td>20.7</td>\n",
       "      <td>20.9</td>\n",
       "      <td>Yes</td>\n",
       "      <td>Yes</td>\n",
       "    </tr>\n",
       "    <tr>\n",
       "      <th>1</th>\n",
       "      <td>2/2/2008</td>\n",
       "      <td>19.5</td>\n",
       "      <td>25.6</td>\n",
       "      <td>6.0</td>\n",
       "      <td>3.4</td>\n",
       "      <td>2.7</td>\n",
       "      <td>W</td>\n",
       "      <td>41</td>\n",
       "      <td>W</td>\n",
       "      <td>E</td>\n",
       "      <td>...</td>\n",
       "      <td>83</td>\n",
       "      <td>73</td>\n",
       "      <td>1017.9</td>\n",
       "      <td>1016.4</td>\n",
       "      <td>7</td>\n",
       "      <td>7</td>\n",
       "      <td>22.4</td>\n",
       "      <td>24.8</td>\n",
       "      <td>Yes</td>\n",
       "      <td>Yes</td>\n",
       "    </tr>\n",
       "    <tr>\n",
       "      <th>2</th>\n",
       "      <td>2/3/2008</td>\n",
       "      <td>21.6</td>\n",
       "      <td>24.5</td>\n",
       "      <td>6.6</td>\n",
       "      <td>2.4</td>\n",
       "      <td>0.1</td>\n",
       "      <td>W</td>\n",
       "      <td>41</td>\n",
       "      <td>ESE</td>\n",
       "      <td>ESE</td>\n",
       "      <td>...</td>\n",
       "      <td>88</td>\n",
       "      <td>86</td>\n",
       "      <td>1016.7</td>\n",
       "      <td>1015.6</td>\n",
       "      <td>7</td>\n",
       "      <td>8</td>\n",
       "      <td>23.5</td>\n",
       "      <td>23.0</td>\n",
       "      <td>Yes</td>\n",
       "      <td>Yes</td>\n",
       "    </tr>\n",
       "    <tr>\n",
       "      <th>3</th>\n",
       "      <td>2/4/2008</td>\n",
       "      <td>20.2</td>\n",
       "      <td>22.8</td>\n",
       "      <td>18.8</td>\n",
       "      <td>2.2</td>\n",
       "      <td>0.0</td>\n",
       "      <td>W</td>\n",
       "      <td>41</td>\n",
       "      <td>NNE</td>\n",
       "      <td>E</td>\n",
       "      <td>...</td>\n",
       "      <td>83</td>\n",
       "      <td>90</td>\n",
       "      <td>1014.2</td>\n",
       "      <td>1011.8</td>\n",
       "      <td>8</td>\n",
       "      <td>8</td>\n",
       "      <td>21.4</td>\n",
       "      <td>20.9</td>\n",
       "      <td>Yes</td>\n",
       "      <td>Yes</td>\n",
       "    </tr>\n",
       "    <tr>\n",
       "      <th>4</th>\n",
       "      <td>2/5/2008</td>\n",
       "      <td>19.7</td>\n",
       "      <td>25.7</td>\n",
       "      <td>77.4</td>\n",
       "      <td>4.8</td>\n",
       "      <td>0.0</td>\n",
       "      <td>W</td>\n",
       "      <td>41</td>\n",
       "      <td>NNE</td>\n",
       "      <td>W</td>\n",
       "      <td>...</td>\n",
       "      <td>88</td>\n",
       "      <td>74</td>\n",
       "      <td>1008.3</td>\n",
       "      <td>1004.8</td>\n",
       "      <td>8</td>\n",
       "      <td>8</td>\n",
       "      <td>22.5</td>\n",
       "      <td>25.5</td>\n",
       "      <td>Yes</td>\n",
       "      <td>Yes</td>\n",
       "    </tr>\n",
       "  </tbody>\n",
       "</table>\n",
       "<p>5 rows × 22 columns</p>\n",
       "</div>"
      ],
      "text/plain": [
       "       Date  MinTemp  MaxTemp  Rainfall  Evaporation  Sunshine WindGustDir  \\\n",
       "0  2/1/2008     19.5     22.4      15.6          6.2       0.0           W   \n",
       "1  2/2/2008     19.5     25.6       6.0          3.4       2.7           W   \n",
       "2  2/3/2008     21.6     24.5       6.6          2.4       0.1           W   \n",
       "3  2/4/2008     20.2     22.8      18.8          2.2       0.0           W   \n",
       "4  2/5/2008     19.7     25.7      77.4          4.8       0.0           W   \n",
       "\n",
       "   WindGustSpeed WindDir9am WindDir3pm  ...  Humidity9am  Humidity3pm  \\\n",
       "0             41          S        SSW  ...           92           84   \n",
       "1             41          W          E  ...           83           73   \n",
       "2             41        ESE        ESE  ...           88           86   \n",
       "3             41        NNE          E  ...           83           90   \n",
       "4             41        NNE          W  ...           88           74   \n",
       "\n",
       "   Pressure9am  Pressure3pm  Cloud9am  Cloud3pm  Temp9am  Temp3pm  RainToday  \\\n",
       "0       1017.6       1017.4         8         8     20.7     20.9        Yes   \n",
       "1       1017.9       1016.4         7         7     22.4     24.8        Yes   \n",
       "2       1016.7       1015.6         7         8     23.5     23.0        Yes   \n",
       "3       1014.2       1011.8         8         8     21.4     20.9        Yes   \n",
       "4       1008.3       1004.8         8         8     22.5     25.5        Yes   \n",
       "\n",
       "   RainTomorrow  \n",
       "0           Yes  \n",
       "1           Yes  \n",
       "2           Yes  \n",
       "3           Yes  \n",
       "4           Yes  \n",
       "\n",
       "[5 rows x 22 columns]"
      ]
     },
     "execution_count": 4,
     "metadata": {},
     "output_type": "execute_result"
    }
   ],
   "source": [
    "df = pd.read_csv('https://cf-courses-data.s3.us.cloud-object-storage.appdomain.cloud/IBMDeveloperSkillsNetwork-ML0101EN-SkillUp/labs/ML-FinalAssignment/Weather_Data.csv')\n",
    "\n",
    "df.head()"
   ]
  },
  {
   "cell_type": "code",
   "execution_count": 5,
   "id": "127243cd",
   "metadata": {
    "execution": {
     "iopub.execute_input": "2023-06-18T08:39:03.200229Z",
     "iopub.status.busy": "2023-06-18T08:39:03.199784Z",
     "iopub.status.idle": "2023-06-18T08:39:03.208442Z",
     "shell.execute_reply": "2023-06-18T08:39:03.207029Z"
    },
    "papermill": {
     "duration": 0.035538,
     "end_time": "2023-06-18T08:39:03.211065",
     "exception": false,
     "start_time": "2023-06-18T08:39:03.175527",
     "status": "completed"
    },
    "tags": []
   },
   "outputs": [
    {
     "data": {
      "text/plain": [
       "Index(['Date', 'MinTemp', 'MaxTemp', 'Rainfall', 'Evaporation', 'Sunshine',\n",
       "       'WindGustDir', 'WindGustSpeed', 'WindDir9am', 'WindDir3pm',\n",
       "       'WindSpeed9am', 'WindSpeed3pm', 'Humidity9am', 'Humidity3pm',\n",
       "       'Pressure9am', 'Pressure3pm', 'Cloud9am', 'Cloud3pm', 'Temp9am',\n",
       "       'Temp3pm', 'RainToday', 'RainTomorrow'],\n",
       "      dtype='object')"
      ]
     },
     "execution_count": 5,
     "metadata": {},
     "output_type": "execute_result"
    }
   ],
   "source": [
    "df.columns"
   ]
  },
  {
   "cell_type": "code",
   "execution_count": 6,
   "id": "efd3325a",
   "metadata": {
    "collapsed": true,
    "execution": {
     "iopub.execute_input": "2023-06-18T08:39:03.259286Z",
     "iopub.status.busy": "2023-06-18T08:39:03.258890Z",
     "iopub.status.idle": "2023-06-18T08:39:03.282148Z",
     "shell.execute_reply": "2023-06-18T08:39:03.280895Z"
    },
    "jupyter": {
     "outputs_hidden": true
    },
    "papermill": {
     "duration": 0.050289,
     "end_time": "2023-06-18T08:39:03.284503",
     "exception": false,
     "start_time": "2023-06-18T08:39:03.234214",
     "status": "completed"
    },
    "tags": []
   },
   "outputs": [
    {
     "data": {
      "text/plain": [
       "<bound method DataFrame.info of            Date  MinTemp  MaxTemp  Rainfall  Evaporation  Sunshine  \\\n",
       "0      2/1/2008     19.5     22.4      15.6          6.2       0.0   \n",
       "1      2/2/2008     19.5     25.6       6.0          3.4       2.7   \n",
       "2      2/3/2008     21.6     24.5       6.6          2.4       0.1   \n",
       "3      2/4/2008     20.2     22.8      18.8          2.2       0.0   \n",
       "4      2/5/2008     19.7     25.7      77.4          4.8       0.0   \n",
       "...         ...      ...      ...       ...          ...       ...   \n",
       "3266  6/21/2017      8.6     19.6       0.0          2.0       7.8   \n",
       "3267  6/22/2017      9.3     19.2       0.0          2.0       9.2   \n",
       "3268  6/23/2017      9.4     17.7       0.0          2.4       2.7   \n",
       "3269  6/24/2017     10.1     19.3       0.0          1.4       9.3   \n",
       "3270  6/25/2017      7.6     19.3       0.0          3.4       9.4   \n",
       "\n",
       "     WindGustDir  WindGustSpeed WindDir9am WindDir3pm  ...  Humidity9am  \\\n",
       "0              W             41          S        SSW  ...           92   \n",
       "1              W             41          W          E  ...           83   \n",
       "2              W             41        ESE        ESE  ...           88   \n",
       "3              W             41        NNE          E  ...           83   \n",
       "4              W             41        NNE          W  ...           88   \n",
       "...          ...            ...        ...        ...  ...          ...   \n",
       "3266         SSE             37          W        SSE  ...           73   \n",
       "3267           W             30          W        ESE  ...           78   \n",
       "3268           W             24        WNW          N  ...           85   \n",
       "3269           W             43          W          W  ...           56   \n",
       "3270           W             35          W          W  ...           73   \n",
       "\n",
       "      Humidity3pm  Pressure9am  Pressure3pm  Cloud9am  Cloud3pm  Temp9am  \\\n",
       "0              84       1017.6       1017.4         8         8     20.7   \n",
       "1              73       1017.9       1016.4         7         7     22.4   \n",
       "2              86       1016.7       1015.6         7         8     23.5   \n",
       "3              90       1014.2       1011.8         8         8     21.4   \n",
       "4              74       1008.3       1004.8         8         8     22.5   \n",
       "...           ...          ...          ...       ...       ...      ...   \n",
       "3266           52       1025.9       1025.3         2         2     10.5   \n",
       "3267           53       1028.5       1024.6         2         2     11.0   \n",
       "3268           56       1020.8       1015.0         6         6     10.2   \n",
       "3269           35       1017.3       1015.1         5         2     12.4   \n",
       "3270           32       1018.6       1015.4         1         1      9.4   \n",
       "\n",
       "      Temp3pm  RainToday  RainTomorrow  \n",
       "0        20.9        Yes           Yes  \n",
       "1        24.8        Yes           Yes  \n",
       "2        23.0        Yes           Yes  \n",
       "3        20.9        Yes           Yes  \n",
       "4        25.5        Yes           Yes  \n",
       "...       ...        ...           ...  \n",
       "3266     17.9         No            No  \n",
       "3267     18.7         No            No  \n",
       "3268     17.3         No            No  \n",
       "3269     19.0         No            No  \n",
       "3270     18.8         No            No  \n",
       "\n",
       "[3271 rows x 22 columns]>"
      ]
     },
     "execution_count": 6,
     "metadata": {},
     "output_type": "execute_result"
    }
   ],
   "source": [
    "df.info"
   ]
  },
  {
   "cell_type": "markdown",
   "id": "db587f52",
   "metadata": {
    "papermill": {
     "duration": 0.024604,
     "end_time": "2023-06-18T08:39:03.333053",
     "exception": false,
     "start_time": "2023-06-18T08:39:03.308449",
     "status": "completed"
    },
    "tags": []
   },
   "source": [
    "### Data Preprocessing\n"
   ]
  },
  {
   "cell_type": "markdown",
   "id": "8794b408",
   "metadata": {
    "papermill": {
     "duration": 0.025882,
     "end_time": "2023-06-18T08:39:03.383693",
     "exception": false,
     "start_time": "2023-06-18T08:39:03.357811",
     "status": "completed"
    },
    "tags": []
   },
   "source": [
    "#### Transforming Categorical Variables\n"
   ]
  },
  {
   "cell_type": "markdown",
   "id": "c47df5c7",
   "metadata": {
    "papermill": {
     "duration": 0.023646,
     "end_time": "2023-06-18T08:39:03.431642",
     "exception": false,
     "start_time": "2023-06-18T08:39:03.407996",
     "status": "completed"
    },
    "tags": []
   },
   "source": [
    "First, we need to convert categorical variables to binary variables. We will use pandas `get_dummies()` method for this.\n"
   ]
  },
  {
   "cell_type": "code",
   "execution_count": 7,
   "id": "3026cf28",
   "metadata": {
    "execution": {
     "iopub.execute_input": "2023-06-18T08:39:03.481267Z",
     "iopub.status.busy": "2023-06-18T08:39:03.480383Z",
     "iopub.status.idle": "2023-06-18T08:39:03.497963Z",
     "shell.execute_reply": "2023-06-18T08:39:03.496872Z"
    },
    "papermill": {
     "duration": 0.045083,
     "end_time": "2023-06-18T08:39:03.500711",
     "exception": false,
     "start_time": "2023-06-18T08:39:03.455628",
     "status": "completed"
    },
    "tags": []
   },
   "outputs": [],
   "source": [
    "df_sydney_processed = pd.get_dummies(data=df, columns=['RainToday', 'WindGustDir', 'WindDir9am', 'WindDir3pm'])"
   ]
  },
  {
   "cell_type": "code",
   "execution_count": 8,
   "id": "32b9228e",
   "metadata": {
    "execution": {
     "iopub.execute_input": "2023-06-18T08:39:03.550017Z",
     "iopub.status.busy": "2023-06-18T08:39:03.549608Z",
     "iopub.status.idle": "2023-06-18T08:39:03.580324Z",
     "shell.execute_reply": "2023-06-18T08:39:03.579125Z"
    },
    "papermill": {
     "duration": 0.058237,
     "end_time": "2023-06-18T08:39:03.582690",
     "exception": false,
     "start_time": "2023-06-18T08:39:03.524453",
     "status": "completed"
    },
    "tags": []
   },
   "outputs": [
    {
     "data": {
      "text/html": [
       "<div>\n",
       "<style scoped>\n",
       "    .dataframe tbody tr th:only-of-type {\n",
       "        vertical-align: middle;\n",
       "    }\n",
       "\n",
       "    .dataframe tbody tr th {\n",
       "        vertical-align: top;\n",
       "    }\n",
       "\n",
       "    .dataframe thead th {\n",
       "        text-align: right;\n",
       "    }\n",
       "</style>\n",
       "<table border=\"1\" class=\"dataframe\">\n",
       "  <thead>\n",
       "    <tr style=\"text-align: right;\">\n",
       "      <th></th>\n",
       "      <th>Date</th>\n",
       "      <th>MinTemp</th>\n",
       "      <th>MaxTemp</th>\n",
       "      <th>Rainfall</th>\n",
       "      <th>Evaporation</th>\n",
       "      <th>Sunshine</th>\n",
       "      <th>WindGustSpeed</th>\n",
       "      <th>WindSpeed9am</th>\n",
       "      <th>WindSpeed3pm</th>\n",
       "      <th>Humidity9am</th>\n",
       "      <th>...</th>\n",
       "      <th>WindDir3pm_NNW</th>\n",
       "      <th>WindDir3pm_NW</th>\n",
       "      <th>WindDir3pm_S</th>\n",
       "      <th>WindDir3pm_SE</th>\n",
       "      <th>WindDir3pm_SSE</th>\n",
       "      <th>WindDir3pm_SSW</th>\n",
       "      <th>WindDir3pm_SW</th>\n",
       "      <th>WindDir3pm_W</th>\n",
       "      <th>WindDir3pm_WNW</th>\n",
       "      <th>WindDir3pm_WSW</th>\n",
       "    </tr>\n",
       "  </thead>\n",
       "  <tbody>\n",
       "    <tr>\n",
       "      <th>0</th>\n",
       "      <td>2/1/2008</td>\n",
       "      <td>19.5</td>\n",
       "      <td>22.4</td>\n",
       "      <td>15.6</td>\n",
       "      <td>6.2</td>\n",
       "      <td>0.0</td>\n",
       "      <td>41</td>\n",
       "      <td>17</td>\n",
       "      <td>20</td>\n",
       "      <td>92</td>\n",
       "      <td>...</td>\n",
       "      <td>0</td>\n",
       "      <td>0</td>\n",
       "      <td>0</td>\n",
       "      <td>0</td>\n",
       "      <td>0</td>\n",
       "      <td>1</td>\n",
       "      <td>0</td>\n",
       "      <td>0</td>\n",
       "      <td>0</td>\n",
       "      <td>0</td>\n",
       "    </tr>\n",
       "    <tr>\n",
       "      <th>1</th>\n",
       "      <td>2/2/2008</td>\n",
       "      <td>19.5</td>\n",
       "      <td>25.6</td>\n",
       "      <td>6.0</td>\n",
       "      <td>3.4</td>\n",
       "      <td>2.7</td>\n",
       "      <td>41</td>\n",
       "      <td>9</td>\n",
       "      <td>13</td>\n",
       "      <td>83</td>\n",
       "      <td>...</td>\n",
       "      <td>0</td>\n",
       "      <td>0</td>\n",
       "      <td>0</td>\n",
       "      <td>0</td>\n",
       "      <td>0</td>\n",
       "      <td>0</td>\n",
       "      <td>0</td>\n",
       "      <td>0</td>\n",
       "      <td>0</td>\n",
       "      <td>0</td>\n",
       "    </tr>\n",
       "    <tr>\n",
       "      <th>2</th>\n",
       "      <td>2/3/2008</td>\n",
       "      <td>21.6</td>\n",
       "      <td>24.5</td>\n",
       "      <td>6.6</td>\n",
       "      <td>2.4</td>\n",
       "      <td>0.1</td>\n",
       "      <td>41</td>\n",
       "      <td>17</td>\n",
       "      <td>2</td>\n",
       "      <td>88</td>\n",
       "      <td>...</td>\n",
       "      <td>0</td>\n",
       "      <td>0</td>\n",
       "      <td>0</td>\n",
       "      <td>0</td>\n",
       "      <td>0</td>\n",
       "      <td>0</td>\n",
       "      <td>0</td>\n",
       "      <td>0</td>\n",
       "      <td>0</td>\n",
       "      <td>0</td>\n",
       "    </tr>\n",
       "    <tr>\n",
       "      <th>3</th>\n",
       "      <td>2/4/2008</td>\n",
       "      <td>20.2</td>\n",
       "      <td>22.8</td>\n",
       "      <td>18.8</td>\n",
       "      <td>2.2</td>\n",
       "      <td>0.0</td>\n",
       "      <td>41</td>\n",
       "      <td>22</td>\n",
       "      <td>20</td>\n",
       "      <td>83</td>\n",
       "      <td>...</td>\n",
       "      <td>0</td>\n",
       "      <td>0</td>\n",
       "      <td>0</td>\n",
       "      <td>0</td>\n",
       "      <td>0</td>\n",
       "      <td>0</td>\n",
       "      <td>0</td>\n",
       "      <td>0</td>\n",
       "      <td>0</td>\n",
       "      <td>0</td>\n",
       "    </tr>\n",
       "    <tr>\n",
       "      <th>4</th>\n",
       "      <td>2/5/2008</td>\n",
       "      <td>19.7</td>\n",
       "      <td>25.7</td>\n",
       "      <td>77.4</td>\n",
       "      <td>4.8</td>\n",
       "      <td>0.0</td>\n",
       "      <td>41</td>\n",
       "      <td>11</td>\n",
       "      <td>6</td>\n",
       "      <td>88</td>\n",
       "      <td>...</td>\n",
       "      <td>0</td>\n",
       "      <td>0</td>\n",
       "      <td>0</td>\n",
       "      <td>0</td>\n",
       "      <td>0</td>\n",
       "      <td>0</td>\n",
       "      <td>0</td>\n",
       "      <td>1</td>\n",
       "      <td>0</td>\n",
       "      <td>0</td>\n",
       "    </tr>\n",
       "    <tr>\n",
       "      <th>...</th>\n",
       "      <td>...</td>\n",
       "      <td>...</td>\n",
       "      <td>...</td>\n",
       "      <td>...</td>\n",
       "      <td>...</td>\n",
       "      <td>...</td>\n",
       "      <td>...</td>\n",
       "      <td>...</td>\n",
       "      <td>...</td>\n",
       "      <td>...</td>\n",
       "      <td>...</td>\n",
       "      <td>...</td>\n",
       "      <td>...</td>\n",
       "      <td>...</td>\n",
       "      <td>...</td>\n",
       "      <td>...</td>\n",
       "      <td>...</td>\n",
       "      <td>...</td>\n",
       "      <td>...</td>\n",
       "      <td>...</td>\n",
       "      <td>...</td>\n",
       "    </tr>\n",
       "    <tr>\n",
       "      <th>3266</th>\n",
       "      <td>6/21/2017</td>\n",
       "      <td>8.6</td>\n",
       "      <td>19.6</td>\n",
       "      <td>0.0</td>\n",
       "      <td>2.0</td>\n",
       "      <td>7.8</td>\n",
       "      <td>37</td>\n",
       "      <td>22</td>\n",
       "      <td>20</td>\n",
       "      <td>73</td>\n",
       "      <td>...</td>\n",
       "      <td>0</td>\n",
       "      <td>0</td>\n",
       "      <td>0</td>\n",
       "      <td>0</td>\n",
       "      <td>1</td>\n",
       "      <td>0</td>\n",
       "      <td>0</td>\n",
       "      <td>0</td>\n",
       "      <td>0</td>\n",
       "      <td>0</td>\n",
       "    </tr>\n",
       "    <tr>\n",
       "      <th>3267</th>\n",
       "      <td>6/22/2017</td>\n",
       "      <td>9.3</td>\n",
       "      <td>19.2</td>\n",
       "      <td>0.0</td>\n",
       "      <td>2.0</td>\n",
       "      <td>9.2</td>\n",
       "      <td>30</td>\n",
       "      <td>20</td>\n",
       "      <td>7</td>\n",
       "      <td>78</td>\n",
       "      <td>...</td>\n",
       "      <td>0</td>\n",
       "      <td>0</td>\n",
       "      <td>0</td>\n",
       "      <td>0</td>\n",
       "      <td>0</td>\n",
       "      <td>0</td>\n",
       "      <td>0</td>\n",
       "      <td>0</td>\n",
       "      <td>0</td>\n",
       "      <td>0</td>\n",
       "    </tr>\n",
       "    <tr>\n",
       "      <th>3268</th>\n",
       "      <td>6/23/2017</td>\n",
       "      <td>9.4</td>\n",
       "      <td>17.7</td>\n",
       "      <td>0.0</td>\n",
       "      <td>2.4</td>\n",
       "      <td>2.7</td>\n",
       "      <td>24</td>\n",
       "      <td>15</td>\n",
       "      <td>13</td>\n",
       "      <td>85</td>\n",
       "      <td>...</td>\n",
       "      <td>0</td>\n",
       "      <td>0</td>\n",
       "      <td>0</td>\n",
       "      <td>0</td>\n",
       "      <td>0</td>\n",
       "      <td>0</td>\n",
       "      <td>0</td>\n",
       "      <td>0</td>\n",
       "      <td>0</td>\n",
       "      <td>0</td>\n",
       "    </tr>\n",
       "    <tr>\n",
       "      <th>3269</th>\n",
       "      <td>6/24/2017</td>\n",
       "      <td>10.1</td>\n",
       "      <td>19.3</td>\n",
       "      <td>0.0</td>\n",
       "      <td>1.4</td>\n",
       "      <td>9.3</td>\n",
       "      <td>43</td>\n",
       "      <td>17</td>\n",
       "      <td>19</td>\n",
       "      <td>56</td>\n",
       "      <td>...</td>\n",
       "      <td>0</td>\n",
       "      <td>0</td>\n",
       "      <td>0</td>\n",
       "      <td>0</td>\n",
       "      <td>0</td>\n",
       "      <td>0</td>\n",
       "      <td>0</td>\n",
       "      <td>1</td>\n",
       "      <td>0</td>\n",
       "      <td>0</td>\n",
       "    </tr>\n",
       "    <tr>\n",
       "      <th>3270</th>\n",
       "      <td>6/25/2017</td>\n",
       "      <td>7.6</td>\n",
       "      <td>19.3</td>\n",
       "      <td>0.0</td>\n",
       "      <td>3.4</td>\n",
       "      <td>9.4</td>\n",
       "      <td>35</td>\n",
       "      <td>13</td>\n",
       "      <td>13</td>\n",
       "      <td>73</td>\n",
       "      <td>...</td>\n",
       "      <td>0</td>\n",
       "      <td>0</td>\n",
       "      <td>0</td>\n",
       "      <td>0</td>\n",
       "      <td>0</td>\n",
       "      <td>0</td>\n",
       "      <td>0</td>\n",
       "      <td>1</td>\n",
       "      <td>0</td>\n",
       "      <td>0</td>\n",
       "    </tr>\n",
       "  </tbody>\n",
       "</table>\n",
       "<p>3271 rows × 68 columns</p>\n",
       "</div>"
      ],
      "text/plain": [
       "           Date  MinTemp  MaxTemp  Rainfall  Evaporation  Sunshine  \\\n",
       "0      2/1/2008     19.5     22.4      15.6          6.2       0.0   \n",
       "1      2/2/2008     19.5     25.6       6.0          3.4       2.7   \n",
       "2      2/3/2008     21.6     24.5       6.6          2.4       0.1   \n",
       "3      2/4/2008     20.2     22.8      18.8          2.2       0.0   \n",
       "4      2/5/2008     19.7     25.7      77.4          4.8       0.0   \n",
       "...         ...      ...      ...       ...          ...       ...   \n",
       "3266  6/21/2017      8.6     19.6       0.0          2.0       7.8   \n",
       "3267  6/22/2017      9.3     19.2       0.0          2.0       9.2   \n",
       "3268  6/23/2017      9.4     17.7       0.0          2.4       2.7   \n",
       "3269  6/24/2017     10.1     19.3       0.0          1.4       9.3   \n",
       "3270  6/25/2017      7.6     19.3       0.0          3.4       9.4   \n",
       "\n",
       "      WindGustSpeed  WindSpeed9am  WindSpeed3pm  Humidity9am  ...  \\\n",
       "0                41            17            20           92  ...   \n",
       "1                41             9            13           83  ...   \n",
       "2                41            17             2           88  ...   \n",
       "3                41            22            20           83  ...   \n",
       "4                41            11             6           88  ...   \n",
       "...             ...           ...           ...          ...  ...   \n",
       "3266             37            22            20           73  ...   \n",
       "3267             30            20             7           78  ...   \n",
       "3268             24            15            13           85  ...   \n",
       "3269             43            17            19           56  ...   \n",
       "3270             35            13            13           73  ...   \n",
       "\n",
       "      WindDir3pm_NNW  WindDir3pm_NW  WindDir3pm_S  WindDir3pm_SE  \\\n",
       "0                  0              0             0              0   \n",
       "1                  0              0             0              0   \n",
       "2                  0              0             0              0   \n",
       "3                  0              0             0              0   \n",
       "4                  0              0             0              0   \n",
       "...              ...            ...           ...            ...   \n",
       "3266               0              0             0              0   \n",
       "3267               0              0             0              0   \n",
       "3268               0              0             0              0   \n",
       "3269               0              0             0              0   \n",
       "3270               0              0             0              0   \n",
       "\n",
       "      WindDir3pm_SSE  WindDir3pm_SSW  WindDir3pm_SW WindDir3pm_W  \\\n",
       "0                  0               1              0            0   \n",
       "1                  0               0              0            0   \n",
       "2                  0               0              0            0   \n",
       "3                  0               0              0            0   \n",
       "4                  0               0              0            1   \n",
       "...              ...             ...            ...          ...   \n",
       "3266               1               0              0            0   \n",
       "3267               0               0              0            0   \n",
       "3268               0               0              0            0   \n",
       "3269               0               0              0            1   \n",
       "3270               0               0              0            1   \n",
       "\n",
       "      WindDir3pm_WNW  WindDir3pm_WSW  \n",
       "0                  0               0  \n",
       "1                  0               0  \n",
       "2                  0               0  \n",
       "3                  0               0  \n",
       "4                  0               0  \n",
       "...              ...             ...  \n",
       "3266               0               0  \n",
       "3267               0               0  \n",
       "3268               0               0  \n",
       "3269               0               0  \n",
       "3270               0               0  \n",
       "\n",
       "[3271 rows x 68 columns]"
      ]
     },
     "execution_count": 8,
     "metadata": {},
     "output_type": "execute_result"
    }
   ],
   "source": [
    "df_sydney_processed"
   ]
  },
  {
   "cell_type": "markdown",
   "id": "6369cb86",
   "metadata": {
    "papermill": {
     "duration": 0.023853,
     "end_time": "2023-06-18T08:39:03.630226",
     "exception": false,
     "start_time": "2023-06-18T08:39:03.606373",
     "status": "completed"
    },
    "tags": []
   },
   "source": [
    "Next, we replace the values of the 'RainTomorrow' column changing them from a categorical column to a binary column. We do not use the `get_dummies` method because we would end up with two columns for 'RainTomorrow' and we do not want, since 'RainTomorrow' is our target.\n"
   ]
  },
  {
   "cell_type": "code",
   "execution_count": 9,
   "id": "f67d8fb0",
   "metadata": {
    "execution": {
     "iopub.execute_input": "2023-06-18T08:39:03.679787Z",
     "iopub.status.busy": "2023-06-18T08:39:03.679106Z",
     "iopub.status.idle": "2023-06-18T08:39:03.692169Z",
     "shell.execute_reply": "2023-06-18T08:39:03.691093Z"
    },
    "papermill": {
     "duration": 0.04085,
     "end_time": "2023-06-18T08:39:03.694890",
     "exception": false,
     "start_time": "2023-06-18T08:39:03.654040",
     "status": "completed"
    },
    "tags": []
   },
   "outputs": [],
   "source": [
    "df_sydney_processed.replace(['No', 'Yes'], [0,1], inplace=True)"
   ]
  },
  {
   "cell_type": "markdown",
   "id": "48326980",
   "metadata": {
    "papermill": {
     "duration": 0.023877,
     "end_time": "2023-06-18T08:39:03.742920",
     "exception": false,
     "start_time": "2023-06-18T08:39:03.719043",
     "status": "completed"
    },
    "tags": []
   },
   "source": [
    "### Training Data and Test Data\n"
   ]
  },
  {
   "cell_type": "markdown",
   "id": "3b8a8d72",
   "metadata": {
    "papermill": {
     "duration": 0.023949,
     "end_time": "2023-06-18T08:39:03.791100",
     "exception": false,
     "start_time": "2023-06-18T08:39:03.767151",
     "status": "completed"
    },
    "tags": []
   },
   "source": [
    "Now, we set our 'features' or x values and our Y or target variable.\n"
   ]
  },
  {
   "cell_type": "code",
   "execution_count": 10,
   "id": "543096a6",
   "metadata": {
    "execution": {
     "iopub.execute_input": "2023-06-18T08:39:03.840981Z",
     "iopub.status.busy": "2023-06-18T08:39:03.840593Z",
     "iopub.status.idle": "2023-06-18T08:39:03.847081Z",
     "shell.execute_reply": "2023-06-18T08:39:03.846223Z"
    },
    "papermill": {
     "duration": 0.034052,
     "end_time": "2023-06-18T08:39:03.849269",
     "exception": false,
     "start_time": "2023-06-18T08:39:03.815217",
     "status": "completed"
    },
    "tags": []
   },
   "outputs": [],
   "source": [
    "df_sydney_processed.drop('Date',axis=1,inplace=True)"
   ]
  },
  {
   "cell_type": "code",
   "execution_count": 11,
   "id": "39dca6a0",
   "metadata": {
    "execution": {
     "iopub.execute_input": "2023-06-18T08:39:03.899349Z",
     "iopub.status.busy": "2023-06-18T08:39:03.898725Z",
     "iopub.status.idle": "2023-06-18T08:39:03.927601Z",
     "shell.execute_reply": "2023-06-18T08:39:03.926504Z"
    },
    "papermill": {
     "duration": 0.056863,
     "end_time": "2023-06-18T08:39:03.930022",
     "exception": false,
     "start_time": "2023-06-18T08:39:03.873159",
     "status": "completed"
    },
    "tags": []
   },
   "outputs": [
    {
     "data": {
      "text/html": [
       "<div>\n",
       "<style scoped>\n",
       "    .dataframe tbody tr th:only-of-type {\n",
       "        vertical-align: middle;\n",
       "    }\n",
       "\n",
       "    .dataframe tbody tr th {\n",
       "        vertical-align: top;\n",
       "    }\n",
       "\n",
       "    .dataframe thead th {\n",
       "        text-align: right;\n",
       "    }\n",
       "</style>\n",
       "<table border=\"1\" class=\"dataframe\">\n",
       "  <thead>\n",
       "    <tr style=\"text-align: right;\">\n",
       "      <th></th>\n",
       "      <th>MinTemp</th>\n",
       "      <th>MaxTemp</th>\n",
       "      <th>Rainfall</th>\n",
       "      <th>Evaporation</th>\n",
       "      <th>Sunshine</th>\n",
       "      <th>WindGustSpeed</th>\n",
       "      <th>WindSpeed9am</th>\n",
       "      <th>WindSpeed3pm</th>\n",
       "      <th>Humidity9am</th>\n",
       "      <th>Humidity3pm</th>\n",
       "      <th>...</th>\n",
       "      <th>WindDir3pm_NNW</th>\n",
       "      <th>WindDir3pm_NW</th>\n",
       "      <th>WindDir3pm_S</th>\n",
       "      <th>WindDir3pm_SE</th>\n",
       "      <th>WindDir3pm_SSE</th>\n",
       "      <th>WindDir3pm_SSW</th>\n",
       "      <th>WindDir3pm_SW</th>\n",
       "      <th>WindDir3pm_W</th>\n",
       "      <th>WindDir3pm_WNW</th>\n",
       "      <th>WindDir3pm_WSW</th>\n",
       "    </tr>\n",
       "  </thead>\n",
       "  <tbody>\n",
       "    <tr>\n",
       "      <th>0</th>\n",
       "      <td>19.5</td>\n",
       "      <td>22.4</td>\n",
       "      <td>15.6</td>\n",
       "      <td>6.2</td>\n",
       "      <td>0.0</td>\n",
       "      <td>41</td>\n",
       "      <td>17</td>\n",
       "      <td>20</td>\n",
       "      <td>92</td>\n",
       "      <td>84</td>\n",
       "      <td>...</td>\n",
       "      <td>0</td>\n",
       "      <td>0</td>\n",
       "      <td>0</td>\n",
       "      <td>0</td>\n",
       "      <td>0</td>\n",
       "      <td>1</td>\n",
       "      <td>0</td>\n",
       "      <td>0</td>\n",
       "      <td>0</td>\n",
       "      <td>0</td>\n",
       "    </tr>\n",
       "    <tr>\n",
       "      <th>1</th>\n",
       "      <td>19.5</td>\n",
       "      <td>25.6</td>\n",
       "      <td>6.0</td>\n",
       "      <td>3.4</td>\n",
       "      <td>2.7</td>\n",
       "      <td>41</td>\n",
       "      <td>9</td>\n",
       "      <td>13</td>\n",
       "      <td>83</td>\n",
       "      <td>73</td>\n",
       "      <td>...</td>\n",
       "      <td>0</td>\n",
       "      <td>0</td>\n",
       "      <td>0</td>\n",
       "      <td>0</td>\n",
       "      <td>0</td>\n",
       "      <td>0</td>\n",
       "      <td>0</td>\n",
       "      <td>0</td>\n",
       "      <td>0</td>\n",
       "      <td>0</td>\n",
       "    </tr>\n",
       "    <tr>\n",
       "      <th>2</th>\n",
       "      <td>21.6</td>\n",
       "      <td>24.5</td>\n",
       "      <td>6.6</td>\n",
       "      <td>2.4</td>\n",
       "      <td>0.1</td>\n",
       "      <td>41</td>\n",
       "      <td>17</td>\n",
       "      <td>2</td>\n",
       "      <td>88</td>\n",
       "      <td>86</td>\n",
       "      <td>...</td>\n",
       "      <td>0</td>\n",
       "      <td>0</td>\n",
       "      <td>0</td>\n",
       "      <td>0</td>\n",
       "      <td>0</td>\n",
       "      <td>0</td>\n",
       "      <td>0</td>\n",
       "      <td>0</td>\n",
       "      <td>0</td>\n",
       "      <td>0</td>\n",
       "    </tr>\n",
       "    <tr>\n",
       "      <th>3</th>\n",
       "      <td>20.2</td>\n",
       "      <td>22.8</td>\n",
       "      <td>18.8</td>\n",
       "      <td>2.2</td>\n",
       "      <td>0.0</td>\n",
       "      <td>41</td>\n",
       "      <td>22</td>\n",
       "      <td>20</td>\n",
       "      <td>83</td>\n",
       "      <td>90</td>\n",
       "      <td>...</td>\n",
       "      <td>0</td>\n",
       "      <td>0</td>\n",
       "      <td>0</td>\n",
       "      <td>0</td>\n",
       "      <td>0</td>\n",
       "      <td>0</td>\n",
       "      <td>0</td>\n",
       "      <td>0</td>\n",
       "      <td>0</td>\n",
       "      <td>0</td>\n",
       "    </tr>\n",
       "    <tr>\n",
       "      <th>4</th>\n",
       "      <td>19.7</td>\n",
       "      <td>25.7</td>\n",
       "      <td>77.4</td>\n",
       "      <td>4.8</td>\n",
       "      <td>0.0</td>\n",
       "      <td>41</td>\n",
       "      <td>11</td>\n",
       "      <td>6</td>\n",
       "      <td>88</td>\n",
       "      <td>74</td>\n",
       "      <td>...</td>\n",
       "      <td>0</td>\n",
       "      <td>0</td>\n",
       "      <td>0</td>\n",
       "      <td>0</td>\n",
       "      <td>0</td>\n",
       "      <td>0</td>\n",
       "      <td>0</td>\n",
       "      <td>1</td>\n",
       "      <td>0</td>\n",
       "      <td>0</td>\n",
       "    </tr>\n",
       "    <tr>\n",
       "      <th>...</th>\n",
       "      <td>...</td>\n",
       "      <td>...</td>\n",
       "      <td>...</td>\n",
       "      <td>...</td>\n",
       "      <td>...</td>\n",
       "      <td>...</td>\n",
       "      <td>...</td>\n",
       "      <td>...</td>\n",
       "      <td>...</td>\n",
       "      <td>...</td>\n",
       "      <td>...</td>\n",
       "      <td>...</td>\n",
       "      <td>...</td>\n",
       "      <td>...</td>\n",
       "      <td>...</td>\n",
       "      <td>...</td>\n",
       "      <td>...</td>\n",
       "      <td>...</td>\n",
       "      <td>...</td>\n",
       "      <td>...</td>\n",
       "      <td>...</td>\n",
       "    </tr>\n",
       "    <tr>\n",
       "      <th>3266</th>\n",
       "      <td>8.6</td>\n",
       "      <td>19.6</td>\n",
       "      <td>0.0</td>\n",
       "      <td>2.0</td>\n",
       "      <td>7.8</td>\n",
       "      <td>37</td>\n",
       "      <td>22</td>\n",
       "      <td>20</td>\n",
       "      <td>73</td>\n",
       "      <td>52</td>\n",
       "      <td>...</td>\n",
       "      <td>0</td>\n",
       "      <td>0</td>\n",
       "      <td>0</td>\n",
       "      <td>0</td>\n",
       "      <td>1</td>\n",
       "      <td>0</td>\n",
       "      <td>0</td>\n",
       "      <td>0</td>\n",
       "      <td>0</td>\n",
       "      <td>0</td>\n",
       "    </tr>\n",
       "    <tr>\n",
       "      <th>3267</th>\n",
       "      <td>9.3</td>\n",
       "      <td>19.2</td>\n",
       "      <td>0.0</td>\n",
       "      <td>2.0</td>\n",
       "      <td>9.2</td>\n",
       "      <td>30</td>\n",
       "      <td>20</td>\n",
       "      <td>7</td>\n",
       "      <td>78</td>\n",
       "      <td>53</td>\n",
       "      <td>...</td>\n",
       "      <td>0</td>\n",
       "      <td>0</td>\n",
       "      <td>0</td>\n",
       "      <td>0</td>\n",
       "      <td>0</td>\n",
       "      <td>0</td>\n",
       "      <td>0</td>\n",
       "      <td>0</td>\n",
       "      <td>0</td>\n",
       "      <td>0</td>\n",
       "    </tr>\n",
       "    <tr>\n",
       "      <th>3268</th>\n",
       "      <td>9.4</td>\n",
       "      <td>17.7</td>\n",
       "      <td>0.0</td>\n",
       "      <td>2.4</td>\n",
       "      <td>2.7</td>\n",
       "      <td>24</td>\n",
       "      <td>15</td>\n",
       "      <td>13</td>\n",
       "      <td>85</td>\n",
       "      <td>56</td>\n",
       "      <td>...</td>\n",
       "      <td>0</td>\n",
       "      <td>0</td>\n",
       "      <td>0</td>\n",
       "      <td>0</td>\n",
       "      <td>0</td>\n",
       "      <td>0</td>\n",
       "      <td>0</td>\n",
       "      <td>0</td>\n",
       "      <td>0</td>\n",
       "      <td>0</td>\n",
       "    </tr>\n",
       "    <tr>\n",
       "      <th>3269</th>\n",
       "      <td>10.1</td>\n",
       "      <td>19.3</td>\n",
       "      <td>0.0</td>\n",
       "      <td>1.4</td>\n",
       "      <td>9.3</td>\n",
       "      <td>43</td>\n",
       "      <td>17</td>\n",
       "      <td>19</td>\n",
       "      <td>56</td>\n",
       "      <td>35</td>\n",
       "      <td>...</td>\n",
       "      <td>0</td>\n",
       "      <td>0</td>\n",
       "      <td>0</td>\n",
       "      <td>0</td>\n",
       "      <td>0</td>\n",
       "      <td>0</td>\n",
       "      <td>0</td>\n",
       "      <td>1</td>\n",
       "      <td>0</td>\n",
       "      <td>0</td>\n",
       "    </tr>\n",
       "    <tr>\n",
       "      <th>3270</th>\n",
       "      <td>7.6</td>\n",
       "      <td>19.3</td>\n",
       "      <td>0.0</td>\n",
       "      <td>3.4</td>\n",
       "      <td>9.4</td>\n",
       "      <td>35</td>\n",
       "      <td>13</td>\n",
       "      <td>13</td>\n",
       "      <td>73</td>\n",
       "      <td>32</td>\n",
       "      <td>...</td>\n",
       "      <td>0</td>\n",
       "      <td>0</td>\n",
       "      <td>0</td>\n",
       "      <td>0</td>\n",
       "      <td>0</td>\n",
       "      <td>0</td>\n",
       "      <td>0</td>\n",
       "      <td>1</td>\n",
       "      <td>0</td>\n",
       "      <td>0</td>\n",
       "    </tr>\n",
       "  </tbody>\n",
       "</table>\n",
       "<p>3271 rows × 67 columns</p>\n",
       "</div>"
      ],
      "text/plain": [
       "      MinTemp  MaxTemp  Rainfall  Evaporation  Sunshine  WindGustSpeed  \\\n",
       "0        19.5     22.4      15.6          6.2       0.0             41   \n",
       "1        19.5     25.6       6.0          3.4       2.7             41   \n",
       "2        21.6     24.5       6.6          2.4       0.1             41   \n",
       "3        20.2     22.8      18.8          2.2       0.0             41   \n",
       "4        19.7     25.7      77.4          4.8       0.0             41   \n",
       "...       ...      ...       ...          ...       ...            ...   \n",
       "3266      8.6     19.6       0.0          2.0       7.8             37   \n",
       "3267      9.3     19.2       0.0          2.0       9.2             30   \n",
       "3268      9.4     17.7       0.0          2.4       2.7             24   \n",
       "3269     10.1     19.3       0.0          1.4       9.3             43   \n",
       "3270      7.6     19.3       0.0          3.4       9.4             35   \n",
       "\n",
       "      WindSpeed9am  WindSpeed3pm  Humidity9am  Humidity3pm  ...  \\\n",
       "0               17            20           92           84  ...   \n",
       "1                9            13           83           73  ...   \n",
       "2               17             2           88           86  ...   \n",
       "3               22            20           83           90  ...   \n",
       "4               11             6           88           74  ...   \n",
       "...            ...           ...          ...          ...  ...   \n",
       "3266            22            20           73           52  ...   \n",
       "3267            20             7           78           53  ...   \n",
       "3268            15            13           85           56  ...   \n",
       "3269            17            19           56           35  ...   \n",
       "3270            13            13           73           32  ...   \n",
       "\n",
       "      WindDir3pm_NNW  WindDir3pm_NW  WindDir3pm_S  WindDir3pm_SE  \\\n",
       "0                  0              0             0              0   \n",
       "1                  0              0             0              0   \n",
       "2                  0              0             0              0   \n",
       "3                  0              0             0              0   \n",
       "4                  0              0             0              0   \n",
       "...              ...            ...           ...            ...   \n",
       "3266               0              0             0              0   \n",
       "3267               0              0             0              0   \n",
       "3268               0              0             0              0   \n",
       "3269               0              0             0              0   \n",
       "3270               0              0             0              0   \n",
       "\n",
       "      WindDir3pm_SSE  WindDir3pm_SSW  WindDir3pm_SW  WindDir3pm_W  \\\n",
       "0                  0               1              0             0   \n",
       "1                  0               0              0             0   \n",
       "2                  0               0              0             0   \n",
       "3                  0               0              0             0   \n",
       "4                  0               0              0             1   \n",
       "...              ...             ...            ...           ...   \n",
       "3266               1               0              0             0   \n",
       "3267               0               0              0             0   \n",
       "3268               0               0              0             0   \n",
       "3269               0               0              0             1   \n",
       "3270               0               0              0             1   \n",
       "\n",
       "      WindDir3pm_WNW  WindDir3pm_WSW  \n",
       "0                  0               0  \n",
       "1                  0               0  \n",
       "2                  0               0  \n",
       "3                  0               0  \n",
       "4                  0               0  \n",
       "...              ...             ...  \n",
       "3266               0               0  \n",
       "3267               0               0  \n",
       "3268               0               0  \n",
       "3269               0               0  \n",
       "3270               0               0  \n",
       "\n",
       "[3271 rows x 67 columns]"
      ]
     },
     "execution_count": 11,
     "metadata": {},
     "output_type": "execute_result"
    }
   ],
   "source": [
    "df_sydney_processed"
   ]
  },
  {
   "cell_type": "code",
   "execution_count": 12,
   "id": "ed14c3d6",
   "metadata": {
    "execution": {
     "iopub.execute_input": "2023-06-18T08:39:03.981030Z",
     "iopub.status.busy": "2023-06-18T08:39:03.980394Z",
     "iopub.status.idle": "2023-06-18T08:39:03.986905Z",
     "shell.execute_reply": "2023-06-18T08:39:03.986134Z"
    },
    "papermill": {
     "duration": 0.034666,
     "end_time": "2023-06-18T08:39:03.989146",
     "exception": false,
     "start_time": "2023-06-18T08:39:03.954480",
     "status": "completed"
    },
    "tags": []
   },
   "outputs": [],
   "source": [
    "df_sydney_processed = df_sydney_processed.astype(float)"
   ]
  },
  {
   "cell_type": "code",
   "execution_count": 13,
   "id": "4a2a7284",
   "metadata": {
    "execution": {
     "iopub.execute_input": "2023-06-18T08:39:04.045291Z",
     "iopub.status.busy": "2023-06-18T08:39:04.044480Z",
     "iopub.status.idle": "2023-06-18T08:39:04.055073Z",
     "shell.execute_reply": "2023-06-18T08:39:04.054168Z"
    },
    "papermill": {
     "duration": 0.044426,
     "end_time": "2023-06-18T08:39:04.057910",
     "exception": false,
     "start_time": "2023-06-18T08:39:04.013484",
     "status": "completed"
    },
    "tags": []
   },
   "outputs": [],
   "source": [
    "features = df_sydney_processed.drop(columns='RainTomorrow', axis=1)\n",
    "Y = df_sydney_processed['RainTomorrow']"
   ]
  },
  {
   "cell_type": "markdown",
   "id": "33ab7115",
   "metadata": {
    "papermill": {
     "duration": 0.026642,
     "end_time": "2023-06-18T08:39:04.113899",
     "exception": false,
     "start_time": "2023-06-18T08:39:04.087257",
     "status": "completed"
    },
    "tags": []
   },
   "source": [
    "### Linear Regression\n"
   ]
  },
  {
   "cell_type": "markdown",
   "id": "1fb2be79",
   "metadata": {
    "papermill": {
     "duration": 0.025036,
     "end_time": "2023-06-18T08:39:04.170742",
     "exception": false,
     "start_time": "2023-06-18T08:39:04.145706",
     "status": "completed"
    },
    "tags": []
   },
   "source": [
    "#### Q1) Use the `train_test_split` function to split the `features` and `Y` dataframes with a `test_size` of `0.2` and the `random_state` set to `10`.\n"
   ]
  },
  {
   "cell_type": "code",
   "execution_count": 14,
   "id": "98eab59e",
   "metadata": {
    "execution": {
     "iopub.execute_input": "2023-06-18T08:39:04.223341Z",
     "iopub.status.busy": "2023-06-18T08:39:04.222459Z",
     "iopub.status.idle": "2023-06-18T08:39:04.227512Z",
     "shell.execute_reply": "2023-06-18T08:39:04.226651Z"
    },
    "papermill": {
     "duration": 0.034327,
     "end_time": "2023-06-18T08:39:04.230040",
     "exception": false,
     "start_time": "2023-06-18T08:39:04.195713",
     "status": "completed"
    },
    "tags": []
   },
   "outputs": [],
   "source": [
    "#Enter Your Code, Execute and take the Screenshot\n"
   ]
  },
  {
   "cell_type": "code",
   "execution_count": 15,
   "id": "ad9f0d8f",
   "metadata": {
    "execution": {
     "iopub.execute_input": "2023-06-18T08:39:04.285765Z",
     "iopub.status.busy": "2023-06-18T08:39:04.284966Z",
     "iopub.status.idle": "2023-06-18T08:39:04.296716Z",
     "shell.execute_reply": "2023-06-18T08:39:04.295863Z"
    },
    "papermill": {
     "duration": 0.040712,
     "end_time": "2023-06-18T08:39:04.299331",
     "exception": false,
     "start_time": "2023-06-18T08:39:04.258619",
     "status": "completed"
    },
    "tags": []
   },
   "outputs": [],
   "source": [
    "x_train, x_test, y_train, y_test = train_test_split(features, Y, test_size=0.2, random_state=10)"
   ]
  },
  {
   "cell_type": "markdown",
   "id": "dbd37814",
   "metadata": {
    "papermill": {
     "duration": 0.024548,
     "end_time": "2023-06-18T08:39:04.348646",
     "exception": false,
     "start_time": "2023-06-18T08:39:04.324098",
     "status": "completed"
    },
    "tags": []
   },
   "source": [
    "#### Q2) Create and train a Linear Regression model called LinearReg using the training data (`x_train`, `y_train`).\n"
   ]
  },
  {
   "cell_type": "code",
   "execution_count": 16,
   "id": "78e1b1ce",
   "metadata": {
    "execution": {
     "iopub.execute_input": "2023-06-18T08:39:04.401879Z",
     "iopub.status.busy": "2023-06-18T08:39:04.401091Z",
     "iopub.status.idle": "2023-06-18T08:39:04.413042Z",
     "shell.execute_reply": "2023-06-18T08:39:04.411665Z"
    },
    "papermill": {
     "duration": 0.043104,
     "end_time": "2023-06-18T08:39:04.416429",
     "exception": false,
     "start_time": "2023-06-18T08:39:04.373325",
     "status": "completed"
    },
    "tags": []
   },
   "outputs": [],
   "source": [
    "#Enter Your Code, Execute and take the Screenshot"
   ]
  },
  {
   "cell_type": "code",
   "execution_count": 17,
   "id": "9a81bb2f",
   "metadata": {
    "execution": {
     "iopub.execute_input": "2023-06-18T08:39:04.478105Z",
     "iopub.status.busy": "2023-06-18T08:39:04.477715Z",
     "iopub.status.idle": "2023-06-18T08:39:04.544218Z",
     "shell.execute_reply": "2023-06-18T08:39:04.542514Z"
    },
    "papermill": {
     "duration": 0.102348,
     "end_time": "2023-06-18T08:39:04.548787",
     "exception": false,
     "start_time": "2023-06-18T08:39:04.446439",
     "status": "completed"
    },
    "tags": []
   },
   "outputs": [
    {
     "data": {
      "text/html": [
       "<style>#sk-container-id-1 {color: black;background-color: white;}#sk-container-id-1 pre{padding: 0;}#sk-container-id-1 div.sk-toggleable {background-color: white;}#sk-container-id-1 label.sk-toggleable__label {cursor: pointer;display: block;width: 100%;margin-bottom: 0;padding: 0.3em;box-sizing: border-box;text-align: center;}#sk-container-id-1 label.sk-toggleable__label-arrow:before {content: \"▸\";float: left;margin-right: 0.25em;color: #696969;}#sk-container-id-1 label.sk-toggleable__label-arrow:hover:before {color: black;}#sk-container-id-1 div.sk-estimator:hover label.sk-toggleable__label-arrow:before {color: black;}#sk-container-id-1 div.sk-toggleable__content {max-height: 0;max-width: 0;overflow: hidden;text-align: left;background-color: #f0f8ff;}#sk-container-id-1 div.sk-toggleable__content pre {margin: 0.2em;color: black;border-radius: 0.25em;background-color: #f0f8ff;}#sk-container-id-1 input.sk-toggleable__control:checked~div.sk-toggleable__content {max-height: 200px;max-width: 100%;overflow: auto;}#sk-container-id-1 input.sk-toggleable__control:checked~label.sk-toggleable__label-arrow:before {content: \"▾\";}#sk-container-id-1 div.sk-estimator input.sk-toggleable__control:checked~label.sk-toggleable__label {background-color: #d4ebff;}#sk-container-id-1 div.sk-label input.sk-toggleable__control:checked~label.sk-toggleable__label {background-color: #d4ebff;}#sk-container-id-1 input.sk-hidden--visually {border: 0;clip: rect(1px 1px 1px 1px);clip: rect(1px, 1px, 1px, 1px);height: 1px;margin: -1px;overflow: hidden;padding: 0;position: absolute;width: 1px;}#sk-container-id-1 div.sk-estimator {font-family: monospace;background-color: #f0f8ff;border: 1px dotted black;border-radius: 0.25em;box-sizing: border-box;margin-bottom: 0.5em;}#sk-container-id-1 div.sk-estimator:hover {background-color: #d4ebff;}#sk-container-id-1 div.sk-parallel-item::after {content: \"\";width: 100%;border-bottom: 1px solid gray;flex-grow: 1;}#sk-container-id-1 div.sk-label:hover label.sk-toggleable__label {background-color: #d4ebff;}#sk-container-id-1 div.sk-serial::before {content: \"\";position: absolute;border-left: 1px solid gray;box-sizing: border-box;top: 0;bottom: 0;left: 50%;z-index: 0;}#sk-container-id-1 div.sk-serial {display: flex;flex-direction: column;align-items: center;background-color: white;padding-right: 0.2em;padding-left: 0.2em;position: relative;}#sk-container-id-1 div.sk-item {position: relative;z-index: 1;}#sk-container-id-1 div.sk-parallel {display: flex;align-items: stretch;justify-content: center;background-color: white;position: relative;}#sk-container-id-1 div.sk-item::before, #sk-container-id-1 div.sk-parallel-item::before {content: \"\";position: absolute;border-left: 1px solid gray;box-sizing: border-box;top: 0;bottom: 0;left: 50%;z-index: -1;}#sk-container-id-1 div.sk-parallel-item {display: flex;flex-direction: column;z-index: 1;position: relative;background-color: white;}#sk-container-id-1 div.sk-parallel-item:first-child::after {align-self: flex-end;width: 50%;}#sk-container-id-1 div.sk-parallel-item:last-child::after {align-self: flex-start;width: 50%;}#sk-container-id-1 div.sk-parallel-item:only-child::after {width: 0;}#sk-container-id-1 div.sk-dashed-wrapped {border: 1px dashed gray;margin: 0 0.4em 0.5em 0.4em;box-sizing: border-box;padding-bottom: 0.4em;background-color: white;}#sk-container-id-1 div.sk-label label {font-family: monospace;font-weight: bold;display: inline-block;line-height: 1.2em;}#sk-container-id-1 div.sk-label-container {text-align: center;}#sk-container-id-1 div.sk-container {/* jupyter's `normalize.less` sets `[hidden] { display: none; }` but bootstrap.min.css set `[hidden] { display: none !important; }` so we also need the `!important` here to be able to override the default hidden behavior on the sphinx rendered scikit-learn.org. See: https://github.com/scikit-learn/scikit-learn/issues/21755 */display: inline-block !important;position: relative;}#sk-container-id-1 div.sk-text-repr-fallback {display: none;}</style><div id=\"sk-container-id-1\" class=\"sk-top-container\"><div class=\"sk-text-repr-fallback\"><pre>LinearRegression()</pre><b>In a Jupyter environment, please rerun this cell to show the HTML representation or trust the notebook. <br />On GitHub, the HTML representation is unable to render, please try loading this page with nbviewer.org.</b></div><div class=\"sk-container\" hidden><div class=\"sk-item\"><div class=\"sk-estimator sk-toggleable\"><input class=\"sk-toggleable__control sk-hidden--visually\" id=\"sk-estimator-id-1\" type=\"checkbox\" checked><label for=\"sk-estimator-id-1\" class=\"sk-toggleable__label sk-toggleable__label-arrow\">LinearRegression</label><div class=\"sk-toggleable__content\"><pre>LinearRegression()</pre></div></div></div></div></div>"
      ],
      "text/plain": [
       "LinearRegression()"
      ]
     },
     "execution_count": 17,
     "metadata": {},
     "output_type": "execute_result"
    }
   ],
   "source": [
    "LinearReg = LinearRegression()\n",
    "LinearReg.fit(x_train, y_train)"
   ]
  },
  {
   "cell_type": "markdown",
   "id": "8ed908ee",
   "metadata": {
    "papermill": {
     "duration": 0.025678,
     "end_time": "2023-06-18T08:39:04.664715",
     "exception": false,
     "start_time": "2023-06-18T08:39:04.639037",
     "status": "completed"
    },
    "tags": []
   },
   "source": [
    "#### Q3) Now use the `predict` method on the testing data (`x_test`) and save it to the array `predictions`.\n"
   ]
  },
  {
   "cell_type": "code",
   "execution_count": 18,
   "id": "838db1f5",
   "metadata": {
    "execution": {
     "iopub.execute_input": "2023-06-18T08:39:04.716925Z",
     "iopub.status.busy": "2023-06-18T08:39:04.716492Z",
     "iopub.status.idle": "2023-06-18T08:39:04.721280Z",
     "shell.execute_reply": "2023-06-18T08:39:04.720004Z"
    },
    "papermill": {
     "duration": 0.033709,
     "end_time": "2023-06-18T08:39:04.723602",
     "exception": false,
     "start_time": "2023-06-18T08:39:04.689893",
     "status": "completed"
    },
    "tags": []
   },
   "outputs": [],
   "source": [
    "#Enter Your Code, Execute and take the Screenshot"
   ]
  },
  {
   "cell_type": "code",
   "execution_count": 19,
   "id": "b2e88983",
   "metadata": {
    "execution": {
     "iopub.execute_input": "2023-06-18T08:39:04.777774Z",
     "iopub.status.busy": "2023-06-18T08:39:04.777003Z",
     "iopub.status.idle": "2023-06-18T08:39:04.798414Z",
     "shell.execute_reply": "2023-06-18T08:39:04.796916Z"
    },
    "papermill": {
     "duration": 0.053663,
     "end_time": "2023-06-18T08:39:04.802994",
     "exception": false,
     "start_time": "2023-06-18T08:39:04.749331",
     "status": "completed"
    },
    "tags": []
   },
   "outputs": [],
   "source": [
    "predictions = LinearReg.predict(x_test)"
   ]
  },
  {
   "cell_type": "markdown",
   "id": "2fe2f542",
   "metadata": {
    "papermill": {
     "duration": 0.025259,
     "end_time": "2023-06-18T08:39:04.931222",
     "exception": false,
     "start_time": "2023-06-18T08:39:04.905963",
     "status": "completed"
    },
    "tags": []
   },
   "source": [
    "#### Q4) Using the `predictions` and the `y_test` dataframe calculate the value for each metric using the appropriate function.\n"
   ]
  },
  {
   "cell_type": "code",
   "execution_count": 20,
   "id": "83d9ba3f",
   "metadata": {
    "execution": {
     "iopub.execute_input": "2023-06-18T08:39:04.984190Z",
     "iopub.status.busy": "2023-06-18T08:39:04.983684Z",
     "iopub.status.idle": "2023-06-18T08:39:04.988703Z",
     "shell.execute_reply": "2023-06-18T08:39:04.987652Z"
    },
    "papermill": {
     "duration": 0.034591,
     "end_time": "2023-06-18T08:39:04.990946",
     "exception": false,
     "start_time": "2023-06-18T08:39:04.956355",
     "status": "completed"
    },
    "tags": []
   },
   "outputs": [],
   "source": [
    "#Enter Your Code, Execute and take the Screenshot"
   ]
  },
  {
   "cell_type": "code",
   "execution_count": 21,
   "id": "fae9ff97",
   "metadata": {
    "execution": {
     "iopub.execute_input": "2023-06-18T08:39:05.045131Z",
     "iopub.status.busy": "2023-06-18T08:39:05.044207Z",
     "iopub.status.idle": "2023-06-18T08:39:05.055043Z",
     "shell.execute_reply": "2023-06-18T08:39:05.053561Z"
    },
    "papermill": {
     "duration": 0.040954,
     "end_time": "2023-06-18T08:39:05.057641",
     "exception": false,
     "start_time": "2023-06-18T08:39:05.016687",
     "status": "completed"
    },
    "tags": []
   },
   "outputs": [
    {
     "name": "stdout",
     "output_type": "stream",
     "text": [
      "MAE: 0.25631760994203806\n",
      "MSE: 0.11572058282746585\n",
      "R2: 0.4271321073623009\n"
     ]
    }
   ],
   "source": [
    "LinearRegression_MAE = metrics.mean_absolute_error(y_test, predictions)\n",
    "LinearRegression_MSE = metrics.mean_squared_error(y_test, predictions)\n",
    "LinearRegression_R2 = metrics.r2_score(y_test, predictions)\n",
    "\n",
    "print(\"MAE:\", LinearRegression_MAE)\n",
    "print(\"MSE:\", LinearRegression_MSE)\n",
    "print(\"R2:\", LinearRegression_R2)"
   ]
  },
  {
   "cell_type": "markdown",
   "id": "40190048",
   "metadata": {
    "papermill": {
     "duration": 0.026373,
     "end_time": "2023-06-18T08:39:05.111142",
     "exception": false,
     "start_time": "2023-06-18T08:39:05.084769",
     "status": "completed"
    },
    "tags": []
   },
   "source": [
    "#### Q5) Show the MAE, MSE, and R2 in a tabular format using data frame for the linear model.\n"
   ]
  },
  {
   "cell_type": "code",
   "execution_count": 22,
   "id": "baef0b75",
   "metadata": {
    "execution": {
     "iopub.execute_input": "2023-06-18T08:39:05.166460Z",
     "iopub.status.busy": "2023-06-18T08:39:05.165682Z",
     "iopub.status.idle": "2023-06-18T08:39:05.170292Z",
     "shell.execute_reply": "2023-06-18T08:39:05.169432Z"
    },
    "papermill": {
     "duration": 0.03528,
     "end_time": "2023-06-18T08:39:05.172550",
     "exception": false,
     "start_time": "2023-06-18T08:39:05.137270",
     "status": "completed"
    },
    "tags": []
   },
   "outputs": [],
   "source": [
    "#Enter Your Code, Execute and take the Screenshot"
   ]
  },
  {
   "cell_type": "code",
   "execution_count": 23,
   "id": "0b1be521",
   "metadata": {
    "execution": {
     "iopub.execute_input": "2023-06-18T08:39:05.226121Z",
     "iopub.status.busy": "2023-06-18T08:39:05.225261Z",
     "iopub.status.idle": "2023-06-18T08:39:05.237739Z",
     "shell.execute_reply": "2023-06-18T08:39:05.236509Z"
    },
    "papermill": {
     "duration": 0.04246,
     "end_time": "2023-06-18T08:39:05.240395",
     "exception": false,
     "start_time": "2023-06-18T08:39:05.197935",
     "status": "completed"
    },
    "tags": []
   },
   "outputs": [
    {
     "data": {
      "text/html": [
       "<div>\n",
       "<style scoped>\n",
       "    .dataframe tbody tr th:only-of-type {\n",
       "        vertical-align: middle;\n",
       "    }\n",
       "\n",
       "    .dataframe tbody tr th {\n",
       "        vertical-align: top;\n",
       "    }\n",
       "\n",
       "    .dataframe thead th {\n",
       "        text-align: right;\n",
       "    }\n",
       "</style>\n",
       "<table border=\"1\" class=\"dataframe\">\n",
       "  <thead>\n",
       "    <tr style=\"text-align: right;\">\n",
       "      <th></th>\n",
       "      <th>Metric</th>\n",
       "      <th>Score</th>\n",
       "    </tr>\n",
       "  </thead>\n",
       "  <tbody>\n",
       "    <tr>\n",
       "      <th>0</th>\n",
       "      <td>MAE</td>\n",
       "      <td>0.256318</td>\n",
       "    </tr>\n",
       "    <tr>\n",
       "      <th>1</th>\n",
       "      <td>MSE</td>\n",
       "      <td>0.115721</td>\n",
       "    </tr>\n",
       "    <tr>\n",
       "      <th>2</th>\n",
       "      <td>R2</td>\n",
       "      <td>0.427132</td>\n",
       "    </tr>\n",
       "  </tbody>\n",
       "</table>\n",
       "</div>"
      ],
      "text/plain": [
       "  Metric     Score\n",
       "0    MAE  0.256318\n",
       "1    MSE  0.115721\n",
       "2     R2  0.427132"
      ]
     },
     "execution_count": 23,
     "metadata": {},
     "output_type": "execute_result"
    }
   ],
   "source": [
    "Report = pd.DataFrame({'Metric': ['MAE', 'MSE', 'R2'], \\\n",
    "                       'Score': [LinearRegression_MAE, LinearRegression_MSE, LinearRegression_R2]})\n",
    "Report"
   ]
  },
  {
   "cell_type": "markdown",
   "id": "d455efa0",
   "metadata": {
    "papermill": {
     "duration": 0.026513,
     "end_time": "2023-06-18T08:39:05.293037",
     "exception": false,
     "start_time": "2023-06-18T08:39:05.266524",
     "status": "completed"
    },
    "tags": []
   },
   "source": [
    "### KNN\n"
   ]
  },
  {
   "cell_type": "markdown",
   "id": "8053f216",
   "metadata": {
    "papermill": {
     "duration": 0.025267,
     "end_time": "2023-06-18T08:39:05.345352",
     "exception": false,
     "start_time": "2023-06-18T08:39:05.320085",
     "status": "completed"
    },
    "tags": []
   },
   "source": [
    "#### Q6) Create and train a KNN model called KNN using the training data (`x_train`, `y_train`) with the `n_neighbors` parameter set to `4`.\n"
   ]
  },
  {
   "cell_type": "code",
   "execution_count": 24,
   "id": "5c7fe770",
   "metadata": {
    "execution": {
     "iopub.execute_input": "2023-06-18T08:39:05.403135Z",
     "iopub.status.busy": "2023-06-18T08:39:05.402315Z",
     "iopub.status.idle": "2023-06-18T08:39:05.407070Z",
     "shell.execute_reply": "2023-06-18T08:39:05.406221Z"
    },
    "papermill": {
     "duration": 0.038666,
     "end_time": "2023-06-18T08:39:05.409749",
     "exception": false,
     "start_time": "2023-06-18T08:39:05.371083",
     "status": "completed"
    },
    "tags": []
   },
   "outputs": [],
   "source": [
    "#Enter Your Code, Execute and take the Screenshot"
   ]
  },
  {
   "cell_type": "code",
   "execution_count": 25,
   "id": "1a92e4ba",
   "metadata": {
    "execution": {
     "iopub.execute_input": "2023-06-18T08:39:05.475412Z",
     "iopub.status.busy": "2023-06-18T08:39:05.474541Z",
     "iopub.status.idle": "2023-06-18T08:39:05.488175Z",
     "shell.execute_reply": "2023-06-18T08:39:05.486877Z"
    },
    "papermill": {
     "duration": 0.049615,
     "end_time": "2023-06-18T08:39:05.490687",
     "exception": false,
     "start_time": "2023-06-18T08:39:05.441072",
     "status": "completed"
    },
    "tags": []
   },
   "outputs": [
    {
     "data": {
      "text/html": [
       "<style>#sk-container-id-2 {color: black;background-color: white;}#sk-container-id-2 pre{padding: 0;}#sk-container-id-2 div.sk-toggleable {background-color: white;}#sk-container-id-2 label.sk-toggleable__label {cursor: pointer;display: block;width: 100%;margin-bottom: 0;padding: 0.3em;box-sizing: border-box;text-align: center;}#sk-container-id-2 label.sk-toggleable__label-arrow:before {content: \"▸\";float: left;margin-right: 0.25em;color: #696969;}#sk-container-id-2 label.sk-toggleable__label-arrow:hover:before {color: black;}#sk-container-id-2 div.sk-estimator:hover label.sk-toggleable__label-arrow:before {color: black;}#sk-container-id-2 div.sk-toggleable__content {max-height: 0;max-width: 0;overflow: hidden;text-align: left;background-color: #f0f8ff;}#sk-container-id-2 div.sk-toggleable__content pre {margin: 0.2em;color: black;border-radius: 0.25em;background-color: #f0f8ff;}#sk-container-id-2 input.sk-toggleable__control:checked~div.sk-toggleable__content {max-height: 200px;max-width: 100%;overflow: auto;}#sk-container-id-2 input.sk-toggleable__control:checked~label.sk-toggleable__label-arrow:before {content: \"▾\";}#sk-container-id-2 div.sk-estimator input.sk-toggleable__control:checked~label.sk-toggleable__label {background-color: #d4ebff;}#sk-container-id-2 div.sk-label input.sk-toggleable__control:checked~label.sk-toggleable__label {background-color: #d4ebff;}#sk-container-id-2 input.sk-hidden--visually {border: 0;clip: rect(1px 1px 1px 1px);clip: rect(1px, 1px, 1px, 1px);height: 1px;margin: -1px;overflow: hidden;padding: 0;position: absolute;width: 1px;}#sk-container-id-2 div.sk-estimator {font-family: monospace;background-color: #f0f8ff;border: 1px dotted black;border-radius: 0.25em;box-sizing: border-box;margin-bottom: 0.5em;}#sk-container-id-2 div.sk-estimator:hover {background-color: #d4ebff;}#sk-container-id-2 div.sk-parallel-item::after {content: \"\";width: 100%;border-bottom: 1px solid gray;flex-grow: 1;}#sk-container-id-2 div.sk-label:hover label.sk-toggleable__label {background-color: #d4ebff;}#sk-container-id-2 div.sk-serial::before {content: \"\";position: absolute;border-left: 1px solid gray;box-sizing: border-box;top: 0;bottom: 0;left: 50%;z-index: 0;}#sk-container-id-2 div.sk-serial {display: flex;flex-direction: column;align-items: center;background-color: white;padding-right: 0.2em;padding-left: 0.2em;position: relative;}#sk-container-id-2 div.sk-item {position: relative;z-index: 1;}#sk-container-id-2 div.sk-parallel {display: flex;align-items: stretch;justify-content: center;background-color: white;position: relative;}#sk-container-id-2 div.sk-item::before, #sk-container-id-2 div.sk-parallel-item::before {content: \"\";position: absolute;border-left: 1px solid gray;box-sizing: border-box;top: 0;bottom: 0;left: 50%;z-index: -1;}#sk-container-id-2 div.sk-parallel-item {display: flex;flex-direction: column;z-index: 1;position: relative;background-color: white;}#sk-container-id-2 div.sk-parallel-item:first-child::after {align-self: flex-end;width: 50%;}#sk-container-id-2 div.sk-parallel-item:last-child::after {align-self: flex-start;width: 50%;}#sk-container-id-2 div.sk-parallel-item:only-child::after {width: 0;}#sk-container-id-2 div.sk-dashed-wrapped {border: 1px dashed gray;margin: 0 0.4em 0.5em 0.4em;box-sizing: border-box;padding-bottom: 0.4em;background-color: white;}#sk-container-id-2 div.sk-label label {font-family: monospace;font-weight: bold;display: inline-block;line-height: 1.2em;}#sk-container-id-2 div.sk-label-container {text-align: center;}#sk-container-id-2 div.sk-container {/* jupyter's `normalize.less` sets `[hidden] { display: none; }` but bootstrap.min.css set `[hidden] { display: none !important; }` so we also need the `!important` here to be able to override the default hidden behavior on the sphinx rendered scikit-learn.org. See: https://github.com/scikit-learn/scikit-learn/issues/21755 */display: inline-block !important;position: relative;}#sk-container-id-2 div.sk-text-repr-fallback {display: none;}</style><div id=\"sk-container-id-2\" class=\"sk-top-container\"><div class=\"sk-text-repr-fallback\"><pre>KNeighborsClassifier(n_neighbors=4)</pre><b>In a Jupyter environment, please rerun this cell to show the HTML representation or trust the notebook. <br />On GitHub, the HTML representation is unable to render, please try loading this page with nbviewer.org.</b></div><div class=\"sk-container\" hidden><div class=\"sk-item\"><div class=\"sk-estimator sk-toggleable\"><input class=\"sk-toggleable__control sk-hidden--visually\" id=\"sk-estimator-id-2\" type=\"checkbox\" checked><label for=\"sk-estimator-id-2\" class=\"sk-toggleable__label sk-toggleable__label-arrow\">KNeighborsClassifier</label><div class=\"sk-toggleable__content\"><pre>KNeighborsClassifier(n_neighbors=4)</pre></div></div></div></div></div>"
      ],
      "text/plain": [
       "KNeighborsClassifier(n_neighbors=4)"
      ]
     },
     "execution_count": 25,
     "metadata": {},
     "output_type": "execute_result"
    }
   ],
   "source": [
    "KNN = KNeighborsClassifier(n_neighbors=4)\n",
    "KNN.fit(x_train, y_train)"
   ]
  },
  {
   "cell_type": "markdown",
   "id": "af2d7036",
   "metadata": {
    "papermill": {
     "duration": 0.025656,
     "end_time": "2023-06-18T08:39:05.543249",
     "exception": false,
     "start_time": "2023-06-18T08:39:05.517593",
     "status": "completed"
    },
    "tags": []
   },
   "source": [
    "#### Q7) Now use the `predict` method on the testing data (`x_test`) and save it to the array `predictions`.\n"
   ]
  },
  {
   "cell_type": "code",
   "execution_count": 26,
   "id": "372dec7b",
   "metadata": {
    "execution": {
     "iopub.execute_input": "2023-06-18T08:39:05.598929Z",
     "iopub.status.busy": "2023-06-18T08:39:05.598498Z",
     "iopub.status.idle": "2023-06-18T08:39:05.603385Z",
     "shell.execute_reply": "2023-06-18T08:39:05.602017Z"
    },
    "papermill": {
     "duration": 0.035612,
     "end_time": "2023-06-18T08:39:05.605849",
     "exception": false,
     "start_time": "2023-06-18T08:39:05.570237",
     "status": "completed"
    },
    "tags": []
   },
   "outputs": [],
   "source": [
    "#Enter Your Code, Execute and take the Screenshot"
   ]
  },
  {
   "cell_type": "code",
   "execution_count": 27,
   "id": "69382f8d",
   "metadata": {
    "execution": {
     "iopub.execute_input": "2023-06-18T08:39:05.661082Z",
     "iopub.status.busy": "2023-06-18T08:39:05.660700Z",
     "iopub.status.idle": "2023-06-18T08:39:05.767199Z",
     "shell.execute_reply": "2023-06-18T08:39:05.766166Z"
    },
    "papermill": {
     "duration": 0.138107,
     "end_time": "2023-06-18T08:39:05.769987",
     "exception": false,
     "start_time": "2023-06-18T08:39:05.631880",
     "status": "completed"
    },
    "tags": []
   },
   "outputs": [],
   "source": [
    "predictions = KNN.predict(x_test)"
   ]
  },
  {
   "cell_type": "markdown",
   "id": "7fb1a631",
   "metadata": {
    "papermill": {
     "duration": 0.026412,
     "end_time": "2023-06-18T08:39:05.822775",
     "exception": false,
     "start_time": "2023-06-18T08:39:05.796363",
     "status": "completed"
    },
    "tags": []
   },
   "source": [
    "#### Q8) Using the `predictions` and the `y_test` dataframe calculate the value for each metric using the appropriate function.\n"
   ]
  },
  {
   "cell_type": "code",
   "execution_count": 28,
   "id": "e7420b3d",
   "metadata": {
    "execution": {
     "iopub.execute_input": "2023-06-18T08:39:05.877636Z",
     "iopub.status.busy": "2023-06-18T08:39:05.877221Z",
     "iopub.status.idle": "2023-06-18T08:39:05.882184Z",
     "shell.execute_reply": "2023-06-18T08:39:05.880957Z"
    },
    "papermill": {
     "duration": 0.034906,
     "end_time": "2023-06-18T08:39:05.884718",
     "exception": false,
     "start_time": "2023-06-18T08:39:05.849812",
     "status": "completed"
    },
    "tags": []
   },
   "outputs": [],
   "source": [
    "#Enter Your Code, Execute and take the Screenshot"
   ]
  },
  {
   "cell_type": "code",
   "execution_count": 29,
   "id": "cd497d04",
   "metadata": {
    "execution": {
     "iopub.execute_input": "2023-06-18T08:39:05.939315Z",
     "iopub.status.busy": "2023-06-18T08:39:05.938943Z",
     "iopub.status.idle": "2023-06-18T08:39:05.957291Z",
     "shell.execute_reply": "2023-06-18T08:39:05.955774Z"
    },
    "papermill": {
     "duration": 0.048727,
     "end_time": "2023-06-18T08:39:05.959876",
     "exception": false,
     "start_time": "2023-06-18T08:39:05.911149",
     "status": "completed"
    },
    "tags": []
   },
   "outputs": [
    {
     "name": "stdout",
     "output_type": "stream",
     "text": [
      "MAE: 0.8183206106870229\n",
      "MSE: 0.4251207729468599\n",
      "R2: 0.5966101694915255\n"
     ]
    }
   ],
   "source": [
    "KNN_Accuracy_Score = accuracy_score(y_test, predictions)\n",
    "KNN_JaccardIndex = jaccard_score(y_test, predictions)\n",
    "KNN_F1_Score = f1_score(y_test, predictions)\n",
    "\n",
    "print(\"MAE:\", KNN_Accuracy_Score)\n",
    "print(\"MSE:\", KNN_JaccardIndex)\n",
    "print(\"R2:\", KNN_F1_Score)"
   ]
  },
  {
   "cell_type": "markdown",
   "id": "f8254c20",
   "metadata": {
    "papermill": {
     "duration": 0.02592,
     "end_time": "2023-06-18T08:39:06.012151",
     "exception": false,
     "start_time": "2023-06-18T08:39:05.986231",
     "status": "completed"
    },
    "tags": []
   },
   "source": [
    "### Decision Tree\n"
   ]
  },
  {
   "cell_type": "markdown",
   "id": "bb1b0eea",
   "metadata": {
    "papermill": {
     "duration": 0.02609,
     "end_time": "2023-06-18T08:39:06.064491",
     "exception": false,
     "start_time": "2023-06-18T08:39:06.038401",
     "status": "completed"
    },
    "tags": []
   },
   "source": [
    "#### Q9) Create and train a Decision Tree model called Tree using the training data (`x_train`, `y_train`).\n"
   ]
  },
  {
   "cell_type": "code",
   "execution_count": 30,
   "id": "3dfd8271",
   "metadata": {
    "execution": {
     "iopub.execute_input": "2023-06-18T08:39:06.120833Z",
     "iopub.status.busy": "2023-06-18T08:39:06.119800Z",
     "iopub.status.idle": "2023-06-18T08:39:06.125501Z",
     "shell.execute_reply": "2023-06-18T08:39:06.124178Z"
    },
    "papermill": {
     "duration": 0.036325,
     "end_time": "2023-06-18T08:39:06.128234",
     "exception": false,
     "start_time": "2023-06-18T08:39:06.091909",
     "status": "completed"
    },
    "tags": []
   },
   "outputs": [],
   "source": [
    "#Enter Your Code, Execute and take the Screenshot"
   ]
  },
  {
   "cell_type": "code",
   "execution_count": 31,
   "id": "1bd306e9",
   "metadata": {
    "execution": {
     "iopub.execute_input": "2023-06-18T08:39:06.184168Z",
     "iopub.status.busy": "2023-06-18T08:39:06.183758Z",
     "iopub.status.idle": "2023-06-18T08:39:06.236965Z",
     "shell.execute_reply": "2023-06-18T08:39:06.236023Z"
    },
    "papermill": {
     "duration": 0.085579,
     "end_time": "2023-06-18T08:39:06.239961",
     "exception": false,
     "start_time": "2023-06-18T08:39:06.154382",
     "status": "completed"
    },
    "tags": []
   },
   "outputs": [
    {
     "data": {
      "text/html": [
       "<style>#sk-container-id-3 {color: black;background-color: white;}#sk-container-id-3 pre{padding: 0;}#sk-container-id-3 div.sk-toggleable {background-color: white;}#sk-container-id-3 label.sk-toggleable__label {cursor: pointer;display: block;width: 100%;margin-bottom: 0;padding: 0.3em;box-sizing: border-box;text-align: center;}#sk-container-id-3 label.sk-toggleable__label-arrow:before {content: \"▸\";float: left;margin-right: 0.25em;color: #696969;}#sk-container-id-3 label.sk-toggleable__label-arrow:hover:before {color: black;}#sk-container-id-3 div.sk-estimator:hover label.sk-toggleable__label-arrow:before {color: black;}#sk-container-id-3 div.sk-toggleable__content {max-height: 0;max-width: 0;overflow: hidden;text-align: left;background-color: #f0f8ff;}#sk-container-id-3 div.sk-toggleable__content pre {margin: 0.2em;color: black;border-radius: 0.25em;background-color: #f0f8ff;}#sk-container-id-3 input.sk-toggleable__control:checked~div.sk-toggleable__content {max-height: 200px;max-width: 100%;overflow: auto;}#sk-container-id-3 input.sk-toggleable__control:checked~label.sk-toggleable__label-arrow:before {content: \"▾\";}#sk-container-id-3 div.sk-estimator input.sk-toggleable__control:checked~label.sk-toggleable__label {background-color: #d4ebff;}#sk-container-id-3 div.sk-label input.sk-toggleable__control:checked~label.sk-toggleable__label {background-color: #d4ebff;}#sk-container-id-3 input.sk-hidden--visually {border: 0;clip: rect(1px 1px 1px 1px);clip: rect(1px, 1px, 1px, 1px);height: 1px;margin: -1px;overflow: hidden;padding: 0;position: absolute;width: 1px;}#sk-container-id-3 div.sk-estimator {font-family: monospace;background-color: #f0f8ff;border: 1px dotted black;border-radius: 0.25em;box-sizing: border-box;margin-bottom: 0.5em;}#sk-container-id-3 div.sk-estimator:hover {background-color: #d4ebff;}#sk-container-id-3 div.sk-parallel-item::after {content: \"\";width: 100%;border-bottom: 1px solid gray;flex-grow: 1;}#sk-container-id-3 div.sk-label:hover label.sk-toggleable__label {background-color: #d4ebff;}#sk-container-id-3 div.sk-serial::before {content: \"\";position: absolute;border-left: 1px solid gray;box-sizing: border-box;top: 0;bottom: 0;left: 50%;z-index: 0;}#sk-container-id-3 div.sk-serial {display: flex;flex-direction: column;align-items: center;background-color: white;padding-right: 0.2em;padding-left: 0.2em;position: relative;}#sk-container-id-3 div.sk-item {position: relative;z-index: 1;}#sk-container-id-3 div.sk-parallel {display: flex;align-items: stretch;justify-content: center;background-color: white;position: relative;}#sk-container-id-3 div.sk-item::before, #sk-container-id-3 div.sk-parallel-item::before {content: \"\";position: absolute;border-left: 1px solid gray;box-sizing: border-box;top: 0;bottom: 0;left: 50%;z-index: -1;}#sk-container-id-3 div.sk-parallel-item {display: flex;flex-direction: column;z-index: 1;position: relative;background-color: white;}#sk-container-id-3 div.sk-parallel-item:first-child::after {align-self: flex-end;width: 50%;}#sk-container-id-3 div.sk-parallel-item:last-child::after {align-self: flex-start;width: 50%;}#sk-container-id-3 div.sk-parallel-item:only-child::after {width: 0;}#sk-container-id-3 div.sk-dashed-wrapped {border: 1px dashed gray;margin: 0 0.4em 0.5em 0.4em;box-sizing: border-box;padding-bottom: 0.4em;background-color: white;}#sk-container-id-3 div.sk-label label {font-family: monospace;font-weight: bold;display: inline-block;line-height: 1.2em;}#sk-container-id-3 div.sk-label-container {text-align: center;}#sk-container-id-3 div.sk-container {/* jupyter's `normalize.less` sets `[hidden] { display: none; }` but bootstrap.min.css set `[hidden] { display: none !important; }` so we also need the `!important` here to be able to override the default hidden behavior on the sphinx rendered scikit-learn.org. See: https://github.com/scikit-learn/scikit-learn/issues/21755 */display: inline-block !important;position: relative;}#sk-container-id-3 div.sk-text-repr-fallback {display: none;}</style><div id=\"sk-container-id-3\" class=\"sk-top-container\"><div class=\"sk-text-repr-fallback\"><pre>DecisionTreeClassifier()</pre><b>In a Jupyter environment, please rerun this cell to show the HTML representation or trust the notebook. <br />On GitHub, the HTML representation is unable to render, please try loading this page with nbviewer.org.</b></div><div class=\"sk-container\" hidden><div class=\"sk-item\"><div class=\"sk-estimator sk-toggleable\"><input class=\"sk-toggleable__control sk-hidden--visually\" id=\"sk-estimator-id-3\" type=\"checkbox\" checked><label for=\"sk-estimator-id-3\" class=\"sk-toggleable__label sk-toggleable__label-arrow\">DecisionTreeClassifier</label><div class=\"sk-toggleable__content\"><pre>DecisionTreeClassifier()</pre></div></div></div></div></div>"
      ],
      "text/plain": [
       "DecisionTreeClassifier()"
      ]
     },
     "execution_count": 31,
     "metadata": {},
     "output_type": "execute_result"
    }
   ],
   "source": [
    "Tree = DecisionTreeClassifier()\n",
    "Tree.fit(x_train, y_train)"
   ]
  },
  {
   "cell_type": "markdown",
   "id": "e3446e6c",
   "metadata": {
    "papermill": {
     "duration": 0.026989,
     "end_time": "2023-06-18T08:39:06.294799",
     "exception": false,
     "start_time": "2023-06-18T08:39:06.267810",
     "status": "completed"
    },
    "tags": []
   },
   "source": [
    "#### Q10) Now use the `predict` method on the testing data (`x_test`) and save it to the array `predictions`.\n"
   ]
  },
  {
   "cell_type": "code",
   "execution_count": 32,
   "id": "7bf18a29",
   "metadata": {
    "execution": {
     "iopub.execute_input": "2023-06-18T08:39:06.351918Z",
     "iopub.status.busy": "2023-06-18T08:39:06.351484Z",
     "iopub.status.idle": "2023-06-18T08:39:06.356687Z",
     "shell.execute_reply": "2023-06-18T08:39:06.355590Z"
    },
    "papermill": {
     "duration": 0.036599,
     "end_time": "2023-06-18T08:39:06.359161",
     "exception": false,
     "start_time": "2023-06-18T08:39:06.322562",
     "status": "completed"
    },
    "tags": []
   },
   "outputs": [],
   "source": [
    "#Enter Your Code, Execute and take the Screenshot"
   ]
  },
  {
   "cell_type": "code",
   "execution_count": 33,
   "id": "7e3a76c7",
   "metadata": {
    "execution": {
     "iopub.execute_input": "2023-06-18T08:39:06.416321Z",
     "iopub.status.busy": "2023-06-18T08:39:06.415882Z",
     "iopub.status.idle": "2023-06-18T08:39:06.423996Z",
     "shell.execute_reply": "2023-06-18T08:39:06.422753Z"
    },
    "papermill": {
     "duration": 0.040367,
     "end_time": "2023-06-18T08:39:06.426625",
     "exception": false,
     "start_time": "2023-06-18T08:39:06.386258",
     "status": "completed"
    },
    "tags": []
   },
   "outputs": [],
   "source": [
    "predictions = Tree.predict(x_test)"
   ]
  },
  {
   "cell_type": "markdown",
   "id": "a5db9147",
   "metadata": {
    "papermill": {
     "duration": 0.026967,
     "end_time": "2023-06-18T08:39:06.481198",
     "exception": false,
     "start_time": "2023-06-18T08:39:06.454231",
     "status": "completed"
    },
    "tags": []
   },
   "source": [
    "#### Q11) Using the `predictions` and the `y_test` dataframe calculate the value for each metric using the appropriate function.\n"
   ]
  },
  {
   "cell_type": "code",
   "execution_count": 34,
   "id": "be3e58ad",
   "metadata": {
    "execution": {
     "iopub.execute_input": "2023-06-18T08:39:06.536848Z",
     "iopub.status.busy": "2023-06-18T08:39:06.536399Z",
     "iopub.status.idle": "2023-06-18T08:39:06.541035Z",
     "shell.execute_reply": "2023-06-18T08:39:06.540120Z"
    },
    "papermill": {
     "duration": 0.035039,
     "end_time": "2023-06-18T08:39:06.543228",
     "exception": false,
     "start_time": "2023-06-18T08:39:06.508189",
     "status": "completed"
    },
    "tags": []
   },
   "outputs": [],
   "source": [
    "#Enter Your Code, Execute and take the Screenshot"
   ]
  },
  {
   "cell_type": "code",
   "execution_count": 35,
   "id": "60beff3d",
   "metadata": {
    "execution": {
     "iopub.execute_input": "2023-06-18T08:39:06.598376Z",
     "iopub.status.busy": "2023-06-18T08:39:06.597941Z",
     "iopub.status.idle": "2023-06-18T08:39:06.613245Z",
     "shell.execute_reply": "2023-06-18T08:39:06.611956Z"
    },
    "papermill": {
     "duration": 0.045927,
     "end_time": "2023-06-18T08:39:06.615875",
     "exception": false,
     "start_time": "2023-06-18T08:39:06.569948",
     "status": "completed"
    },
    "tags": []
   },
   "outputs": [
    {
     "name": "stdout",
     "output_type": "stream",
     "text": [
      "MAE: 0.7572519083969466\n",
      "MSE: 0.40225563909774437\n",
      "R2: 0.5737265415549597\n"
     ]
    }
   ],
   "source": [
    "Tree_Accuracy_Score = accuracy_score(y_test, predictions)\n",
    "Tree_JaccardIndex = jaccard_score(y_test, predictions)\n",
    "Tree_F1_Score = f1_score(y_test, predictions)\n",
    "\n",
    "print(\"MAE:\", Tree_Accuracy_Score)\n",
    "print(\"MSE:\", Tree_JaccardIndex)\n",
    "print(\"R2:\", Tree_F1_Score)"
   ]
  },
  {
   "cell_type": "markdown",
   "id": "ed2de468",
   "metadata": {
    "papermill": {
     "duration": 0.027001,
     "end_time": "2023-06-18T08:39:06.669730",
     "exception": false,
     "start_time": "2023-06-18T08:39:06.642729",
     "status": "completed"
    },
    "tags": []
   },
   "source": [
    "### Logistic Regression\n"
   ]
  },
  {
   "cell_type": "markdown",
   "id": "02d750f8",
   "metadata": {
    "papermill": {
     "duration": 0.026749,
     "end_time": "2023-06-18T08:39:06.723182",
     "exception": false,
     "start_time": "2023-06-18T08:39:06.696433",
     "status": "completed"
    },
    "tags": []
   },
   "source": [
    "#### Q12) Use the `train_test_split` function to split the `features` and `Y` dataframes with a `test_size` of `0.2` and the `random_state` set to `1`.\n"
   ]
  },
  {
   "cell_type": "code",
   "execution_count": 36,
   "id": "c23340e9",
   "metadata": {
    "execution": {
     "iopub.execute_input": "2023-06-18T08:39:06.779009Z",
     "iopub.status.busy": "2023-06-18T08:39:06.778248Z",
     "iopub.status.idle": "2023-06-18T08:39:06.783237Z",
     "shell.execute_reply": "2023-06-18T08:39:06.782017Z"
    },
    "papermill": {
     "duration": 0.035855,
     "end_time": "2023-06-18T08:39:06.785720",
     "exception": false,
     "start_time": "2023-06-18T08:39:06.749865",
     "status": "completed"
    },
    "tags": []
   },
   "outputs": [],
   "source": [
    "#Enter Your Code, Execute and take the Screenshot"
   ]
  },
  {
   "cell_type": "code",
   "execution_count": 37,
   "id": "df26321d",
   "metadata": {
    "execution": {
     "iopub.execute_input": "2023-06-18T08:39:06.841557Z",
     "iopub.status.busy": "2023-06-18T08:39:06.841149Z",
     "iopub.status.idle": "2023-06-18T08:39:06.848731Z",
     "shell.execute_reply": "2023-06-18T08:39:06.847819Z"
    },
    "papermill": {
     "duration": 0.038285,
     "end_time": "2023-06-18T08:39:06.851181",
     "exception": false,
     "start_time": "2023-06-18T08:39:06.812896",
     "status": "completed"
    },
    "tags": []
   },
   "outputs": [],
   "source": [
    "x_train, x_test, y_train, y_test = train_test_split(features, Y, test_size=0.2, random_state = 1)"
   ]
  },
  {
   "cell_type": "code",
   "execution_count": 38,
   "id": "354e4061",
   "metadata": {
    "execution": {
     "iopub.execute_input": "2023-06-18T08:39:06.907033Z",
     "iopub.status.busy": "2023-06-18T08:39:06.906611Z",
     "iopub.status.idle": "2023-06-18T08:39:06.954552Z",
     "shell.execute_reply": "2023-06-18T08:39:06.953501Z"
    },
    "papermill": {
     "duration": 0.078798,
     "end_time": "2023-06-18T08:39:06.956900",
     "exception": false,
     "start_time": "2023-06-18T08:39:06.878102",
     "status": "completed"
    },
    "tags": []
   },
   "outputs": [
    {
     "data": {
      "text/html": [
       "<div>\n",
       "<style scoped>\n",
       "    .dataframe tbody tr th:only-of-type {\n",
       "        vertical-align: middle;\n",
       "    }\n",
       "\n",
       "    .dataframe tbody tr th {\n",
       "        vertical-align: top;\n",
       "    }\n",
       "\n",
       "    .dataframe thead th {\n",
       "        text-align: right;\n",
       "    }\n",
       "</style>\n",
       "<table border=\"1\" class=\"dataframe\">\n",
       "  <thead>\n",
       "    <tr style=\"text-align: right;\">\n",
       "      <th></th>\n",
       "      <th>MinTemp</th>\n",
       "      <th>MaxTemp</th>\n",
       "      <th>Rainfall</th>\n",
       "      <th>Evaporation</th>\n",
       "      <th>Sunshine</th>\n",
       "      <th>WindGustSpeed</th>\n",
       "      <th>WindSpeed9am</th>\n",
       "      <th>WindSpeed3pm</th>\n",
       "      <th>Humidity9am</th>\n",
       "      <th>Humidity3pm</th>\n",
       "      <th>...</th>\n",
       "      <th>WindDir3pm_NNW</th>\n",
       "      <th>WindDir3pm_NW</th>\n",
       "      <th>WindDir3pm_S</th>\n",
       "      <th>WindDir3pm_SE</th>\n",
       "      <th>WindDir3pm_SSE</th>\n",
       "      <th>WindDir3pm_SSW</th>\n",
       "      <th>WindDir3pm_SW</th>\n",
       "      <th>WindDir3pm_W</th>\n",
       "      <th>WindDir3pm_WNW</th>\n",
       "      <th>WindDir3pm_WSW</th>\n",
       "    </tr>\n",
       "  </thead>\n",
       "  <tbody>\n",
       "    <tr>\n",
       "      <th>1264</th>\n",
       "      <td>12.3</td>\n",
       "      <td>19.7</td>\n",
       "      <td>30.0</td>\n",
       "      <td>4.0</td>\n",
       "      <td>7.2</td>\n",
       "      <td>44.0</td>\n",
       "      <td>24.0</td>\n",
       "      <td>17.0</td>\n",
       "      <td>52.0</td>\n",
       "      <td>45.0</td>\n",
       "      <td>...</td>\n",
       "      <td>0.0</td>\n",
       "      <td>0.0</td>\n",
       "      <td>0.0</td>\n",
       "      <td>0.0</td>\n",
       "      <td>0.0</td>\n",
       "      <td>0.0</td>\n",
       "      <td>0.0</td>\n",
       "      <td>0.0</td>\n",
       "      <td>0.0</td>\n",
       "      <td>0.0</td>\n",
       "    </tr>\n",
       "    <tr>\n",
       "      <th>3113</th>\n",
       "      <td>25.1</td>\n",
       "      <td>38.1</td>\n",
       "      <td>0.0</td>\n",
       "      <td>13.8</td>\n",
       "      <td>11.1</td>\n",
       "      <td>59.0</td>\n",
       "      <td>20.0</td>\n",
       "      <td>31.0</td>\n",
       "      <td>26.0</td>\n",
       "      <td>52.0</td>\n",
       "      <td>...</td>\n",
       "      <td>0.0</td>\n",
       "      <td>0.0</td>\n",
       "      <td>0.0</td>\n",
       "      <td>0.0</td>\n",
       "      <td>1.0</td>\n",
       "      <td>0.0</td>\n",
       "      <td>0.0</td>\n",
       "      <td>0.0</td>\n",
       "      <td>0.0</td>\n",
       "      <td>0.0</td>\n",
       "    </tr>\n",
       "    <tr>\n",
       "      <th>1230</th>\n",
       "      <td>12.2</td>\n",
       "      <td>17.5</td>\n",
       "      <td>0.0</td>\n",
       "      <td>2.8</td>\n",
       "      <td>3.0</td>\n",
       "      <td>41.0</td>\n",
       "      <td>17.0</td>\n",
       "      <td>11.0</td>\n",
       "      <td>86.0</td>\n",
       "      <td>69.0</td>\n",
       "      <td>...</td>\n",
       "      <td>0.0</td>\n",
       "      <td>0.0</td>\n",
       "      <td>0.0</td>\n",
       "      <td>0.0</td>\n",
       "      <td>0.0</td>\n",
       "      <td>0.0</td>\n",
       "      <td>0.0</td>\n",
       "      <td>0.0</td>\n",
       "      <td>0.0</td>\n",
       "      <td>0.0</td>\n",
       "    </tr>\n",
       "    <tr>\n",
       "      <th>1221</th>\n",
       "      <td>10.3</td>\n",
       "      <td>16.5</td>\n",
       "      <td>1.0</td>\n",
       "      <td>2.2</td>\n",
       "      <td>0.8</td>\n",
       "      <td>24.0</td>\n",
       "      <td>7.0</td>\n",
       "      <td>11.0</td>\n",
       "      <td>89.0</td>\n",
       "      <td>71.0</td>\n",
       "      <td>...</td>\n",
       "      <td>0.0</td>\n",
       "      <td>0.0</td>\n",
       "      <td>0.0</td>\n",
       "      <td>0.0</td>\n",
       "      <td>0.0</td>\n",
       "      <td>0.0</td>\n",
       "      <td>0.0</td>\n",
       "      <td>0.0</td>\n",
       "      <td>0.0</td>\n",
       "      <td>0.0</td>\n",
       "    </tr>\n",
       "    <tr>\n",
       "      <th>3070</th>\n",
       "      <td>20.4</td>\n",
       "      <td>23.6</td>\n",
       "      <td>3.2</td>\n",
       "      <td>7.0</td>\n",
       "      <td>0.0</td>\n",
       "      <td>33.0</td>\n",
       "      <td>15.0</td>\n",
       "      <td>7.0</td>\n",
       "      <td>86.0</td>\n",
       "      <td>83.0</td>\n",
       "      <td>...</td>\n",
       "      <td>0.0</td>\n",
       "      <td>0.0</td>\n",
       "      <td>0.0</td>\n",
       "      <td>0.0</td>\n",
       "      <td>0.0</td>\n",
       "      <td>0.0</td>\n",
       "      <td>0.0</td>\n",
       "      <td>0.0</td>\n",
       "      <td>0.0</td>\n",
       "      <td>0.0</td>\n",
       "    </tr>\n",
       "    <tr>\n",
       "      <th>...</th>\n",
       "      <td>...</td>\n",
       "      <td>...</td>\n",
       "      <td>...</td>\n",
       "      <td>...</td>\n",
       "      <td>...</td>\n",
       "      <td>...</td>\n",
       "      <td>...</td>\n",
       "      <td>...</td>\n",
       "      <td>...</td>\n",
       "      <td>...</td>\n",
       "      <td>...</td>\n",
       "      <td>...</td>\n",
       "      <td>...</td>\n",
       "      <td>...</td>\n",
       "      <td>...</td>\n",
       "      <td>...</td>\n",
       "      <td>...</td>\n",
       "      <td>...</td>\n",
       "      <td>...</td>\n",
       "      <td>...</td>\n",
       "      <td>...</td>\n",
       "    </tr>\n",
       "    <tr>\n",
       "      <th>2763</th>\n",
       "      <td>19.5</td>\n",
       "      <td>28.7</td>\n",
       "      <td>9.0</td>\n",
       "      <td>3.0</td>\n",
       "      <td>3.0</td>\n",
       "      <td>70.0</td>\n",
       "      <td>17.0</td>\n",
       "      <td>17.0</td>\n",
       "      <td>84.0</td>\n",
       "      <td>62.0</td>\n",
       "      <td>...</td>\n",
       "      <td>0.0</td>\n",
       "      <td>0.0</td>\n",
       "      <td>0.0</td>\n",
       "      <td>0.0</td>\n",
       "      <td>0.0</td>\n",
       "      <td>0.0</td>\n",
       "      <td>0.0</td>\n",
       "      <td>0.0</td>\n",
       "      <td>0.0</td>\n",
       "      <td>0.0</td>\n",
       "    </tr>\n",
       "    <tr>\n",
       "      <th>905</th>\n",
       "      <td>6.8</td>\n",
       "      <td>16.1</td>\n",
       "      <td>0.0</td>\n",
       "      <td>4.2</td>\n",
       "      <td>10.2</td>\n",
       "      <td>41.0</td>\n",
       "      <td>26.0</td>\n",
       "      <td>20.0</td>\n",
       "      <td>58.0</td>\n",
       "      <td>50.0</td>\n",
       "      <td>...</td>\n",
       "      <td>0.0</td>\n",
       "      <td>0.0</td>\n",
       "      <td>1.0</td>\n",
       "      <td>0.0</td>\n",
       "      <td>0.0</td>\n",
       "      <td>0.0</td>\n",
       "      <td>0.0</td>\n",
       "      <td>0.0</td>\n",
       "      <td>0.0</td>\n",
       "      <td>0.0</td>\n",
       "    </tr>\n",
       "    <tr>\n",
       "      <th>1096</th>\n",
       "      <td>20.6</td>\n",
       "      <td>28.1</td>\n",
       "      <td>1.0</td>\n",
       "      <td>3.2</td>\n",
       "      <td>9.8</td>\n",
       "      <td>41.0</td>\n",
       "      <td>4.0</td>\n",
       "      <td>20.0</td>\n",
       "      <td>82.0</td>\n",
       "      <td>69.0</td>\n",
       "      <td>...</td>\n",
       "      <td>0.0</td>\n",
       "      <td>0.0</td>\n",
       "      <td>0.0</td>\n",
       "      <td>0.0</td>\n",
       "      <td>0.0</td>\n",
       "      <td>0.0</td>\n",
       "      <td>0.0</td>\n",
       "      <td>0.0</td>\n",
       "      <td>0.0</td>\n",
       "      <td>0.0</td>\n",
       "    </tr>\n",
       "    <tr>\n",
       "      <th>235</th>\n",
       "      <td>10.3</td>\n",
       "      <td>18.6</td>\n",
       "      <td>0.0</td>\n",
       "      <td>4.0</td>\n",
       "      <td>10.9</td>\n",
       "      <td>41.0</td>\n",
       "      <td>6.0</td>\n",
       "      <td>19.0</td>\n",
       "      <td>67.0</td>\n",
       "      <td>54.0</td>\n",
       "      <td>...</td>\n",
       "      <td>0.0</td>\n",
       "      <td>0.0</td>\n",
       "      <td>0.0</td>\n",
       "      <td>0.0</td>\n",
       "      <td>0.0</td>\n",
       "      <td>0.0</td>\n",
       "      <td>0.0</td>\n",
       "      <td>0.0</td>\n",
       "      <td>0.0</td>\n",
       "      <td>0.0</td>\n",
       "    </tr>\n",
       "    <tr>\n",
       "      <th>1061</th>\n",
       "      <td>24.2</td>\n",
       "      <td>41.5</td>\n",
       "      <td>0.0</td>\n",
       "      <td>8.4</td>\n",
       "      <td>12.4</td>\n",
       "      <td>56.0</td>\n",
       "      <td>24.0</td>\n",
       "      <td>33.0</td>\n",
       "      <td>46.0</td>\n",
       "      <td>22.0</td>\n",
       "      <td>...</td>\n",
       "      <td>1.0</td>\n",
       "      <td>0.0</td>\n",
       "      <td>0.0</td>\n",
       "      <td>0.0</td>\n",
       "      <td>0.0</td>\n",
       "      <td>0.0</td>\n",
       "      <td>0.0</td>\n",
       "      <td>0.0</td>\n",
       "      <td>0.0</td>\n",
       "      <td>0.0</td>\n",
       "    </tr>\n",
       "  </tbody>\n",
       "</table>\n",
       "<p>2616 rows × 66 columns</p>\n",
       "</div>"
      ],
      "text/plain": [
       "      MinTemp  MaxTemp  Rainfall  Evaporation  Sunshine  WindGustSpeed  \\\n",
       "1264     12.3     19.7      30.0          4.0       7.2           44.0   \n",
       "3113     25.1     38.1       0.0         13.8      11.1           59.0   \n",
       "1230     12.2     17.5       0.0          2.8       3.0           41.0   \n",
       "1221     10.3     16.5       1.0          2.2       0.8           24.0   \n",
       "3070     20.4     23.6       3.2          7.0       0.0           33.0   \n",
       "...       ...      ...       ...          ...       ...            ...   \n",
       "2763     19.5     28.7       9.0          3.0       3.0           70.0   \n",
       "905       6.8     16.1       0.0          4.2      10.2           41.0   \n",
       "1096     20.6     28.1       1.0          3.2       9.8           41.0   \n",
       "235      10.3     18.6       0.0          4.0      10.9           41.0   \n",
       "1061     24.2     41.5       0.0          8.4      12.4           56.0   \n",
       "\n",
       "      WindSpeed9am  WindSpeed3pm  Humidity9am  Humidity3pm  ...  \\\n",
       "1264          24.0          17.0         52.0         45.0  ...   \n",
       "3113          20.0          31.0         26.0         52.0  ...   \n",
       "1230          17.0          11.0         86.0         69.0  ...   \n",
       "1221           7.0          11.0         89.0         71.0  ...   \n",
       "3070          15.0           7.0         86.0         83.0  ...   \n",
       "...            ...           ...          ...          ...  ...   \n",
       "2763          17.0          17.0         84.0         62.0  ...   \n",
       "905           26.0          20.0         58.0         50.0  ...   \n",
       "1096           4.0          20.0         82.0         69.0  ...   \n",
       "235            6.0          19.0         67.0         54.0  ...   \n",
       "1061          24.0          33.0         46.0         22.0  ...   \n",
       "\n",
       "      WindDir3pm_NNW  WindDir3pm_NW  WindDir3pm_S  WindDir3pm_SE  \\\n",
       "1264             0.0            0.0           0.0            0.0   \n",
       "3113             0.0            0.0           0.0            0.0   \n",
       "1230             0.0            0.0           0.0            0.0   \n",
       "1221             0.0            0.0           0.0            0.0   \n",
       "3070             0.0            0.0           0.0            0.0   \n",
       "...              ...            ...           ...            ...   \n",
       "2763             0.0            0.0           0.0            0.0   \n",
       "905              0.0            0.0           1.0            0.0   \n",
       "1096             0.0            0.0           0.0            0.0   \n",
       "235              0.0            0.0           0.0            0.0   \n",
       "1061             1.0            0.0           0.0            0.0   \n",
       "\n",
       "      WindDir3pm_SSE  WindDir3pm_SSW  WindDir3pm_SW  WindDir3pm_W  \\\n",
       "1264             0.0             0.0            0.0           0.0   \n",
       "3113             1.0             0.0            0.0           0.0   \n",
       "1230             0.0             0.0            0.0           0.0   \n",
       "1221             0.0             0.0            0.0           0.0   \n",
       "3070             0.0             0.0            0.0           0.0   \n",
       "...              ...             ...            ...           ...   \n",
       "2763             0.0             0.0            0.0           0.0   \n",
       "905              0.0             0.0            0.0           0.0   \n",
       "1096             0.0             0.0            0.0           0.0   \n",
       "235              0.0             0.0            0.0           0.0   \n",
       "1061             0.0             0.0            0.0           0.0   \n",
       "\n",
       "      WindDir3pm_WNW  WindDir3pm_WSW  \n",
       "1264             0.0             0.0  \n",
       "3113             0.0             0.0  \n",
       "1230             0.0             0.0  \n",
       "1221             0.0             0.0  \n",
       "3070             0.0             0.0  \n",
       "...              ...             ...  \n",
       "2763             0.0             0.0  \n",
       "905              0.0             0.0  \n",
       "1096             0.0             0.0  \n",
       "235              0.0             0.0  \n",
       "1061             0.0             0.0  \n",
       "\n",
       "[2616 rows x 66 columns]"
      ]
     },
     "execution_count": 38,
     "metadata": {},
     "output_type": "execute_result"
    }
   ],
   "source": [
    "x_train"
   ]
  },
  {
   "cell_type": "markdown",
   "id": "34d7b360",
   "metadata": {
    "papermill": {
     "duration": 0.02702,
     "end_time": "2023-06-18T08:39:07.011307",
     "exception": false,
     "start_time": "2023-06-18T08:39:06.984287",
     "status": "completed"
    },
    "tags": []
   },
   "source": [
    "#### Q13) Create and train a LogisticRegression model called LR using the training data (`x_train`, `y_train`) with the `solver` parameter set to `liblinear`.\n"
   ]
  },
  {
   "cell_type": "code",
   "execution_count": 39,
   "id": "f60f5394",
   "metadata": {
    "execution": {
     "iopub.execute_input": "2023-06-18T08:39:07.069961Z",
     "iopub.status.busy": "2023-06-18T08:39:07.069489Z",
     "iopub.status.idle": "2023-06-18T08:39:07.074245Z",
     "shell.execute_reply": "2023-06-18T08:39:07.073156Z"
    },
    "papermill": {
     "duration": 0.037577,
     "end_time": "2023-06-18T08:39:07.076896",
     "exception": false,
     "start_time": "2023-06-18T08:39:07.039319",
     "status": "completed"
    },
    "tags": []
   },
   "outputs": [],
   "source": [
    "#Enter Your Code, Execute and take the Screenshot"
   ]
  },
  {
   "cell_type": "code",
   "execution_count": 40,
   "id": "995afbae",
   "metadata": {
    "execution": {
     "iopub.execute_input": "2023-06-18T08:39:07.137240Z",
     "iopub.status.busy": "2023-06-18T08:39:07.135144Z",
     "iopub.status.idle": "2023-06-18T08:39:07.250101Z",
     "shell.execute_reply": "2023-06-18T08:39:07.248557Z"
    },
    "papermill": {
     "duration": 0.148746,
     "end_time": "2023-06-18T08:39:07.254194",
     "exception": false,
     "start_time": "2023-06-18T08:39:07.105448",
     "status": "completed"
    },
    "tags": []
   },
   "outputs": [
    {
     "data": {
      "text/html": [
       "<style>#sk-container-id-4 {color: black;background-color: white;}#sk-container-id-4 pre{padding: 0;}#sk-container-id-4 div.sk-toggleable {background-color: white;}#sk-container-id-4 label.sk-toggleable__label {cursor: pointer;display: block;width: 100%;margin-bottom: 0;padding: 0.3em;box-sizing: border-box;text-align: center;}#sk-container-id-4 label.sk-toggleable__label-arrow:before {content: \"▸\";float: left;margin-right: 0.25em;color: #696969;}#sk-container-id-4 label.sk-toggleable__label-arrow:hover:before {color: black;}#sk-container-id-4 div.sk-estimator:hover label.sk-toggleable__label-arrow:before {color: black;}#sk-container-id-4 div.sk-toggleable__content {max-height: 0;max-width: 0;overflow: hidden;text-align: left;background-color: #f0f8ff;}#sk-container-id-4 div.sk-toggleable__content pre {margin: 0.2em;color: black;border-radius: 0.25em;background-color: #f0f8ff;}#sk-container-id-4 input.sk-toggleable__control:checked~div.sk-toggleable__content {max-height: 200px;max-width: 100%;overflow: auto;}#sk-container-id-4 input.sk-toggleable__control:checked~label.sk-toggleable__label-arrow:before {content: \"▾\";}#sk-container-id-4 div.sk-estimator input.sk-toggleable__control:checked~label.sk-toggleable__label {background-color: #d4ebff;}#sk-container-id-4 div.sk-label input.sk-toggleable__control:checked~label.sk-toggleable__label {background-color: #d4ebff;}#sk-container-id-4 input.sk-hidden--visually {border: 0;clip: rect(1px 1px 1px 1px);clip: rect(1px, 1px, 1px, 1px);height: 1px;margin: -1px;overflow: hidden;padding: 0;position: absolute;width: 1px;}#sk-container-id-4 div.sk-estimator {font-family: monospace;background-color: #f0f8ff;border: 1px dotted black;border-radius: 0.25em;box-sizing: border-box;margin-bottom: 0.5em;}#sk-container-id-4 div.sk-estimator:hover {background-color: #d4ebff;}#sk-container-id-4 div.sk-parallel-item::after {content: \"\";width: 100%;border-bottom: 1px solid gray;flex-grow: 1;}#sk-container-id-4 div.sk-label:hover label.sk-toggleable__label {background-color: #d4ebff;}#sk-container-id-4 div.sk-serial::before {content: \"\";position: absolute;border-left: 1px solid gray;box-sizing: border-box;top: 0;bottom: 0;left: 50%;z-index: 0;}#sk-container-id-4 div.sk-serial {display: flex;flex-direction: column;align-items: center;background-color: white;padding-right: 0.2em;padding-left: 0.2em;position: relative;}#sk-container-id-4 div.sk-item {position: relative;z-index: 1;}#sk-container-id-4 div.sk-parallel {display: flex;align-items: stretch;justify-content: center;background-color: white;position: relative;}#sk-container-id-4 div.sk-item::before, #sk-container-id-4 div.sk-parallel-item::before {content: \"\";position: absolute;border-left: 1px solid gray;box-sizing: border-box;top: 0;bottom: 0;left: 50%;z-index: -1;}#sk-container-id-4 div.sk-parallel-item {display: flex;flex-direction: column;z-index: 1;position: relative;background-color: white;}#sk-container-id-4 div.sk-parallel-item:first-child::after {align-self: flex-end;width: 50%;}#sk-container-id-4 div.sk-parallel-item:last-child::after {align-self: flex-start;width: 50%;}#sk-container-id-4 div.sk-parallel-item:only-child::after {width: 0;}#sk-container-id-4 div.sk-dashed-wrapped {border: 1px dashed gray;margin: 0 0.4em 0.5em 0.4em;box-sizing: border-box;padding-bottom: 0.4em;background-color: white;}#sk-container-id-4 div.sk-label label {font-family: monospace;font-weight: bold;display: inline-block;line-height: 1.2em;}#sk-container-id-4 div.sk-label-container {text-align: center;}#sk-container-id-4 div.sk-container {/* jupyter's `normalize.less` sets `[hidden] { display: none; }` but bootstrap.min.css set `[hidden] { display: none !important; }` so we also need the `!important` here to be able to override the default hidden behavior on the sphinx rendered scikit-learn.org. See: https://github.com/scikit-learn/scikit-learn/issues/21755 */display: inline-block !important;position: relative;}#sk-container-id-4 div.sk-text-repr-fallback {display: none;}</style><div id=\"sk-container-id-4\" class=\"sk-top-container\"><div class=\"sk-text-repr-fallback\"><pre>LogisticRegression()</pre><b>In a Jupyter environment, please rerun this cell to show the HTML representation or trust the notebook. <br />On GitHub, the HTML representation is unable to render, please try loading this page with nbviewer.org.</b></div><div class=\"sk-container\" hidden><div class=\"sk-item\"><div class=\"sk-estimator sk-toggleable\"><input class=\"sk-toggleable__control sk-hidden--visually\" id=\"sk-estimator-id-4\" type=\"checkbox\" checked><label for=\"sk-estimator-id-4\" class=\"sk-toggleable__label sk-toggleable__label-arrow\">LogisticRegression</label><div class=\"sk-toggleable__content\"><pre>LogisticRegression()</pre></div></div></div></div></div>"
      ],
      "text/plain": [
       "LogisticRegression()"
      ]
     },
     "execution_count": 40,
     "metadata": {},
     "output_type": "execute_result"
    }
   ],
   "source": [
    "LR = LogisticRegression()\n",
    "LR.fit(x_train, y_train)"
   ]
  },
  {
   "cell_type": "markdown",
   "id": "b9068242",
   "metadata": {
    "papermill": {
     "duration": 0.052195,
     "end_time": "2023-06-18T08:39:07.367462",
     "exception": false,
     "start_time": "2023-06-18T08:39:07.315267",
     "status": "completed"
    },
    "tags": []
   },
   "source": [
    "#### Q14) Now, use the `predict` method on the testing data (`x_test`) and save it to the array `predictions`.\n"
   ]
  },
  {
   "cell_type": "code",
   "execution_count": 41,
   "id": "ee93e256",
   "metadata": {
    "execution": {
     "iopub.execute_input": "2023-06-18T08:39:07.427016Z",
     "iopub.status.busy": "2023-06-18T08:39:07.426613Z",
     "iopub.status.idle": "2023-06-18T08:39:07.431747Z",
     "shell.execute_reply": "2023-06-18T08:39:07.430206Z"
    },
    "papermill": {
     "duration": 0.037614,
     "end_time": "2023-06-18T08:39:07.434236",
     "exception": false,
     "start_time": "2023-06-18T08:39:07.396622",
     "status": "completed"
    },
    "tags": []
   },
   "outputs": [],
   "source": [
    "#Enter Your Code, Execute and take the Screenshot"
   ]
  },
  {
   "cell_type": "code",
   "execution_count": 42,
   "id": "d5fd4b23",
   "metadata": {
    "execution": {
     "iopub.execute_input": "2023-06-18T08:39:07.492006Z",
     "iopub.status.busy": "2023-06-18T08:39:07.491591Z",
     "iopub.status.idle": "2023-06-18T08:39:07.500726Z",
     "shell.execute_reply": "2023-06-18T08:39:07.499256Z"
    },
    "papermill": {
     "duration": 0.041939,
     "end_time": "2023-06-18T08:39:07.504404",
     "exception": false,
     "start_time": "2023-06-18T08:39:07.462465",
     "status": "completed"
    },
    "tags": []
   },
   "outputs": [],
   "source": [
    "predictions = LR.predict(x_test)"
   ]
  },
  {
   "cell_type": "markdown",
   "id": "6d9eda77",
   "metadata": {
    "papermill": {
     "duration": 0.057251,
     "end_time": "2023-06-18T08:39:07.619867",
     "exception": false,
     "start_time": "2023-06-18T08:39:07.562616",
     "status": "completed"
    },
    "tags": []
   },
   "source": [
    "#### Q15) Using the `predictions` and the `y_test` dataframe calculate the value for each metric using the appropriate function.\n"
   ]
  },
  {
   "cell_type": "code",
   "execution_count": 43,
   "id": "b5fcfd0f",
   "metadata": {
    "execution": {
     "iopub.execute_input": "2023-06-18T08:39:07.677168Z",
     "iopub.status.busy": "2023-06-18T08:39:07.676746Z",
     "iopub.status.idle": "2023-06-18T08:39:07.681115Z",
     "shell.execute_reply": "2023-06-18T08:39:07.680275Z"
    },
    "papermill": {
     "duration": 0.035881,
     "end_time": "2023-06-18T08:39:07.683304",
     "exception": false,
     "start_time": "2023-06-18T08:39:07.647423",
     "status": "completed"
    },
    "tags": []
   },
   "outputs": [],
   "source": [
    "#Enter Your Code, Execute and take the Screenshot"
   ]
  },
  {
   "cell_type": "code",
   "execution_count": 44,
   "id": "c067389a",
   "metadata": {
    "execution": {
     "iopub.execute_input": "2023-06-18T08:39:07.741291Z",
     "iopub.status.busy": "2023-06-18T08:39:07.740875Z",
     "iopub.status.idle": "2023-06-18T08:39:07.764672Z",
     "shell.execute_reply": "2023-06-18T08:39:07.763207Z"
    },
    "papermill": {
     "duration": 0.058291,
     "end_time": "2023-06-18T08:39:07.769357",
     "exception": false,
     "start_time": "2023-06-18T08:39:07.711066",
     "status": "completed"
    },
    "tags": []
   },
   "outputs": [
    {
     "name": "stdout",
     "output_type": "stream",
     "text": [
      "Accuracy: 0.8244274809160306\n",
      "Jaccard Index: 0.4675925925925926\n",
      "F1 Score: 0.6372239747634069\n",
      "Log Loss: 0.38461494609949615\n"
     ]
    }
   ],
   "source": [
    "LR_Accuracy_Score = accuracy_score(y_test, predictions)\n",
    "LR_JaccardIndex = jaccard_score(y_test, predictions)\n",
    "LR_F1_Score = f1_score(y_test, predictions)\n",
    "\n",
    "y_pred_proba = LR.predict_proba(x_test)\n",
    "LR_Log_Loss = log_loss(y_test, y_pred_proba)\n",
    "\n",
    "print(\"Accuracy:\", LR_Accuracy_Score)\n",
    "print(\"Jaccard Index:\", LR_JaccardIndex)\n",
    "print(\"F1 Score:\", LR_F1_Score)\n",
    "print(\"Log Loss:\", LR_Log_Loss)"
   ]
  },
  {
   "cell_type": "markdown",
   "id": "08928335",
   "metadata": {
    "papermill": {
     "duration": 0.052621,
     "end_time": "2023-06-18T08:39:07.881163",
     "exception": false,
     "start_time": "2023-06-18T08:39:07.828542",
     "status": "completed"
    },
    "tags": []
   },
   "source": [
    "### SVM\n"
   ]
  },
  {
   "cell_type": "markdown",
   "id": "8bc897b6",
   "metadata": {
    "papermill": {
     "duration": 0.027696,
     "end_time": "2023-06-18T08:39:07.937833",
     "exception": false,
     "start_time": "2023-06-18T08:39:07.910137",
     "status": "completed"
    },
    "tags": []
   },
   "source": [
    "#### Q16) Create and train a SVM model called SVM using the training data (`x_train`, `y_train`).\n"
   ]
  },
  {
   "cell_type": "code",
   "execution_count": 45,
   "id": "3bf47766",
   "metadata": {
    "execution": {
     "iopub.execute_input": "2023-06-18T08:39:07.995350Z",
     "iopub.status.busy": "2023-06-18T08:39:07.994933Z",
     "iopub.status.idle": "2023-06-18T08:39:07.999472Z",
     "shell.execute_reply": "2023-06-18T08:39:07.998685Z"
    },
    "papermill": {
     "duration": 0.036205,
     "end_time": "2023-06-18T08:39:08.001829",
     "exception": false,
     "start_time": "2023-06-18T08:39:07.965624",
     "status": "completed"
    },
    "tags": []
   },
   "outputs": [],
   "source": [
    "#Enter Your Code, Execute and take the Screenshot"
   ]
  },
  {
   "cell_type": "code",
   "execution_count": 46,
   "id": "508c28e0",
   "metadata": {
    "execution": {
     "iopub.execute_input": "2023-06-18T08:39:08.061935Z",
     "iopub.status.busy": "2023-06-18T08:39:08.060715Z",
     "iopub.status.idle": "2023-06-18T08:39:08.452537Z",
     "shell.execute_reply": "2023-06-18T08:39:08.451397Z"
    },
    "papermill": {
     "duration": 0.424313,
     "end_time": "2023-06-18T08:39:08.455219",
     "exception": false,
     "start_time": "2023-06-18T08:39:08.030906",
     "status": "completed"
    },
    "tags": []
   },
   "outputs": [
    {
     "data": {
      "text/html": [
       "<style>#sk-container-id-5 {color: black;background-color: white;}#sk-container-id-5 pre{padding: 0;}#sk-container-id-5 div.sk-toggleable {background-color: white;}#sk-container-id-5 label.sk-toggleable__label {cursor: pointer;display: block;width: 100%;margin-bottom: 0;padding: 0.3em;box-sizing: border-box;text-align: center;}#sk-container-id-5 label.sk-toggleable__label-arrow:before {content: \"▸\";float: left;margin-right: 0.25em;color: #696969;}#sk-container-id-5 label.sk-toggleable__label-arrow:hover:before {color: black;}#sk-container-id-5 div.sk-estimator:hover label.sk-toggleable__label-arrow:before {color: black;}#sk-container-id-5 div.sk-toggleable__content {max-height: 0;max-width: 0;overflow: hidden;text-align: left;background-color: #f0f8ff;}#sk-container-id-5 div.sk-toggleable__content pre {margin: 0.2em;color: black;border-radius: 0.25em;background-color: #f0f8ff;}#sk-container-id-5 input.sk-toggleable__control:checked~div.sk-toggleable__content {max-height: 200px;max-width: 100%;overflow: auto;}#sk-container-id-5 input.sk-toggleable__control:checked~label.sk-toggleable__label-arrow:before {content: \"▾\";}#sk-container-id-5 div.sk-estimator input.sk-toggleable__control:checked~label.sk-toggleable__label {background-color: #d4ebff;}#sk-container-id-5 div.sk-label input.sk-toggleable__control:checked~label.sk-toggleable__label {background-color: #d4ebff;}#sk-container-id-5 input.sk-hidden--visually {border: 0;clip: rect(1px 1px 1px 1px);clip: rect(1px, 1px, 1px, 1px);height: 1px;margin: -1px;overflow: hidden;padding: 0;position: absolute;width: 1px;}#sk-container-id-5 div.sk-estimator {font-family: monospace;background-color: #f0f8ff;border: 1px dotted black;border-radius: 0.25em;box-sizing: border-box;margin-bottom: 0.5em;}#sk-container-id-5 div.sk-estimator:hover {background-color: #d4ebff;}#sk-container-id-5 div.sk-parallel-item::after {content: \"\";width: 100%;border-bottom: 1px solid gray;flex-grow: 1;}#sk-container-id-5 div.sk-label:hover label.sk-toggleable__label {background-color: #d4ebff;}#sk-container-id-5 div.sk-serial::before {content: \"\";position: absolute;border-left: 1px solid gray;box-sizing: border-box;top: 0;bottom: 0;left: 50%;z-index: 0;}#sk-container-id-5 div.sk-serial {display: flex;flex-direction: column;align-items: center;background-color: white;padding-right: 0.2em;padding-left: 0.2em;position: relative;}#sk-container-id-5 div.sk-item {position: relative;z-index: 1;}#sk-container-id-5 div.sk-parallel {display: flex;align-items: stretch;justify-content: center;background-color: white;position: relative;}#sk-container-id-5 div.sk-item::before, #sk-container-id-5 div.sk-parallel-item::before {content: \"\";position: absolute;border-left: 1px solid gray;box-sizing: border-box;top: 0;bottom: 0;left: 50%;z-index: -1;}#sk-container-id-5 div.sk-parallel-item {display: flex;flex-direction: column;z-index: 1;position: relative;background-color: white;}#sk-container-id-5 div.sk-parallel-item:first-child::after {align-self: flex-end;width: 50%;}#sk-container-id-5 div.sk-parallel-item:last-child::after {align-self: flex-start;width: 50%;}#sk-container-id-5 div.sk-parallel-item:only-child::after {width: 0;}#sk-container-id-5 div.sk-dashed-wrapped {border: 1px dashed gray;margin: 0 0.4em 0.5em 0.4em;box-sizing: border-box;padding-bottom: 0.4em;background-color: white;}#sk-container-id-5 div.sk-label label {font-family: monospace;font-weight: bold;display: inline-block;line-height: 1.2em;}#sk-container-id-5 div.sk-label-container {text-align: center;}#sk-container-id-5 div.sk-container {/* jupyter's `normalize.less` sets `[hidden] { display: none; }` but bootstrap.min.css set `[hidden] { display: none !important; }` so we also need the `!important` here to be able to override the default hidden behavior on the sphinx rendered scikit-learn.org. See: https://github.com/scikit-learn/scikit-learn/issues/21755 */display: inline-block !important;position: relative;}#sk-container-id-5 div.sk-text-repr-fallback {display: none;}</style><div id=\"sk-container-id-5\" class=\"sk-top-container\"><div class=\"sk-text-repr-fallback\"><pre>SVC(kernel=&#x27;sigmoid&#x27;)</pre><b>In a Jupyter environment, please rerun this cell to show the HTML representation or trust the notebook. <br />On GitHub, the HTML representation is unable to render, please try loading this page with nbviewer.org.</b></div><div class=\"sk-container\" hidden><div class=\"sk-item\"><div class=\"sk-estimator sk-toggleable\"><input class=\"sk-toggleable__control sk-hidden--visually\" id=\"sk-estimator-id-5\" type=\"checkbox\" checked><label for=\"sk-estimator-id-5\" class=\"sk-toggleable__label sk-toggleable__label-arrow\">SVC</label><div class=\"sk-toggleable__content\"><pre>SVC(kernel=&#x27;sigmoid&#x27;)</pre></div></div></div></div></div>"
      ],
      "text/plain": [
       "SVC(kernel='sigmoid')"
      ]
     },
     "execution_count": 46,
     "metadata": {},
     "output_type": "execute_result"
    }
   ],
   "source": [
    "from sklearn.svm import SVC\n",
    "\n",
    "SVM = SVC(kernel='sigmoid')\n",
    "SVM.fit(x_train, y_train)"
   ]
  },
  {
   "cell_type": "markdown",
   "id": "2fdd2dc1",
   "metadata": {
    "papermill": {
     "duration": 0.027903,
     "end_time": "2023-06-18T08:39:08.511172",
     "exception": false,
     "start_time": "2023-06-18T08:39:08.483269",
     "status": "completed"
    },
    "tags": []
   },
   "source": [
    "#### Q17) Now use the `predict` method on the testing data (`x_test`) and save it to the array `predictions`.\n"
   ]
  },
  {
   "cell_type": "code",
   "execution_count": 47,
   "id": "135a1816",
   "metadata": {
    "execution": {
     "iopub.execute_input": "2023-06-18T08:39:08.570446Z",
     "iopub.status.busy": "2023-06-18T08:39:08.570042Z",
     "iopub.status.idle": "2023-06-18T08:39:08.574256Z",
     "shell.execute_reply": "2023-06-18T08:39:08.573161Z"
    },
    "papermill": {
     "duration": 0.036415,
     "end_time": "2023-06-18T08:39:08.576737",
     "exception": false,
     "start_time": "2023-06-18T08:39:08.540322",
     "status": "completed"
    },
    "tags": []
   },
   "outputs": [],
   "source": [
    "#Enter Your Code, Execute and take the Screenshot"
   ]
  },
  {
   "cell_type": "code",
   "execution_count": 48,
   "id": "03f44b0d",
   "metadata": {
    "execution": {
     "iopub.execute_input": "2023-06-18T08:39:08.635757Z",
     "iopub.status.busy": "2023-06-18T08:39:08.635340Z",
     "iopub.status.idle": "2023-06-18T08:39:08.718161Z",
     "shell.execute_reply": "2023-06-18T08:39:08.716996Z"
    },
    "papermill": {
     "duration": 0.115475,
     "end_time": "2023-06-18T08:39:08.720911",
     "exception": false,
     "start_time": "2023-06-18T08:39:08.605436",
     "status": "completed"
    },
    "tags": []
   },
   "outputs": [],
   "source": [
    "predictions = SVM.predict(x_test)"
   ]
  },
  {
   "cell_type": "markdown",
   "id": "367e03ad",
   "metadata": {
    "papermill": {
     "duration": 0.027676,
     "end_time": "2023-06-18T08:39:08.776739",
     "exception": false,
     "start_time": "2023-06-18T08:39:08.749063",
     "status": "completed"
    },
    "tags": []
   },
   "source": [
    "#### Q18) Using the `predictions` and the `y_test` dataframe calculate the value for each metric using the appropriate function.\n"
   ]
  },
  {
   "cell_type": "code",
   "execution_count": 49,
   "id": "1566cea6",
   "metadata": {
    "execution": {
     "iopub.execute_input": "2023-06-18T08:39:08.836819Z",
     "iopub.status.busy": "2023-06-18T08:39:08.836178Z",
     "iopub.status.idle": "2023-06-18T08:39:08.849281Z",
     "shell.execute_reply": "2023-06-18T08:39:08.847894Z"
    },
    "papermill": {
     "duration": 0.04635,
     "end_time": "2023-06-18T08:39:08.851731",
     "exception": false,
     "start_time": "2023-06-18T08:39:08.805381",
     "status": "completed"
    },
    "tags": []
   },
   "outputs": [
    {
     "name": "stdout",
     "output_type": "stream",
     "text": [
      "Accuracy: 0.7221374045801526\n",
      "Jaccard Index: 0.0\n",
      "F1 Score: 0.0\n"
     ]
    }
   ],
   "source": [
    "SVM_Accuracy_Score = accuracy_score(y_test, predictions)\n",
    "SVM_JaccardIndex = jaccard_score(y_test, predictions)\n",
    "SVM_F1_Score = f1_score(y_test, predictions)\n",
    "\n",
    "print(\"Accuracy:\", SVM_Accuracy_Score)\n",
    "print(\"Jaccard Index:\", SVM_JaccardIndex)\n",
    "print(\"F1 Score:\", SVM_F1_Score)"
   ]
  },
  {
   "cell_type": "markdown",
   "id": "0c34a275",
   "metadata": {
    "papermill": {
     "duration": 0.02799,
     "end_time": "2023-06-18T08:39:08.908039",
     "exception": false,
     "start_time": "2023-06-18T08:39:08.880049",
     "status": "completed"
    },
    "tags": []
   },
   "source": [
    "### Report\n"
   ]
  },
  {
   "cell_type": "markdown",
   "id": "4ba44977",
   "metadata": {
    "papermill": {
     "duration": 0.028521,
     "end_time": "2023-06-18T08:39:08.964923",
     "exception": false,
     "start_time": "2023-06-18T08:39:08.936402",
     "status": "completed"
    },
    "tags": []
   },
   "source": [
    "#### Q19) Show the Accuracy,Jaccard Index,F1-Score and LogLoss in a tabular format using data frame for all of the above models.\n",
    "\n",
    "\\*LogLoss is only for Logistic Regression Model\n"
   ]
  },
  {
   "cell_type": "code",
   "execution_count": 50,
   "id": "d50c7fc9",
   "metadata": {
    "execution": {
     "iopub.execute_input": "2023-06-18T08:39:09.024501Z",
     "iopub.status.busy": "2023-06-18T08:39:09.023739Z",
     "iopub.status.idle": "2023-06-18T08:39:09.028351Z",
     "shell.execute_reply": "2023-06-18T08:39:09.027154Z"
    },
    "papermill": {
     "duration": 0.037207,
     "end_time": "2023-06-18T08:39:09.030928",
     "exception": false,
     "start_time": "2023-06-18T08:39:08.993721",
     "status": "completed"
    },
    "tags": []
   },
   "outputs": [],
   "source": [
    "#Enter Your Code, Execute and take the Screenshot"
   ]
  },
  {
   "cell_type": "code",
   "execution_count": 51,
   "id": "7e52d4d7",
   "metadata": {
    "execution": {
     "iopub.execute_input": "2023-06-18T08:39:09.090331Z",
     "iopub.status.busy": "2023-06-18T08:39:09.089873Z",
     "iopub.status.idle": "2023-06-18T08:39:09.102753Z",
     "shell.execute_reply": "2023-06-18T08:39:09.101510Z"
    },
    "papermill": {
     "duration": 0.045829,
     "end_time": "2023-06-18T08:39:09.105357",
     "exception": false,
     "start_time": "2023-06-18T08:39:09.059528",
     "status": "completed"
    },
    "tags": []
   },
   "outputs": [
    {
     "data": {
      "text/html": [
       "<div>\n",
       "<style scoped>\n",
       "    .dataframe tbody tr th:only-of-type {\n",
       "        vertical-align: middle;\n",
       "    }\n",
       "\n",
       "    .dataframe tbody tr th {\n",
       "        vertical-align: top;\n",
       "    }\n",
       "\n",
       "    .dataframe thead th {\n",
       "        text-align: right;\n",
       "    }\n",
       "</style>\n",
       "<table border=\"1\" class=\"dataframe\">\n",
       "  <thead>\n",
       "    <tr style=\"text-align: right;\">\n",
       "      <th></th>\n",
       "      <th>Metrics</th>\n",
       "      <th>Values</th>\n",
       "    </tr>\n",
       "  </thead>\n",
       "  <tbody>\n",
       "    <tr>\n",
       "      <th>0</th>\n",
       "      <td>Accuracy</td>\n",
       "      <td>0.722137</td>\n",
       "    </tr>\n",
       "    <tr>\n",
       "      <th>1</th>\n",
       "      <td>Jaccard Index</td>\n",
       "      <td>0.000000</td>\n",
       "    </tr>\n",
       "    <tr>\n",
       "      <th>2</th>\n",
       "      <td>F1 Score</td>\n",
       "      <td>0.000000</td>\n",
       "    </tr>\n",
       "  </tbody>\n",
       "</table>\n",
       "</div>"
      ],
      "text/plain": [
       "         Metrics    Values\n",
       "0       Accuracy  0.722137\n",
       "1  Jaccard Index  0.000000\n",
       "2       F1 Score  0.000000"
      ]
     },
     "execution_count": 51,
     "metadata": {},
     "output_type": "execute_result"
    }
   ],
   "source": [
    "Report = pd.DataFrame({'Metrics': ['Accuracy', 'Jaccard Index', 'F1 Score'], \\\n",
    "                      'Values': [SVM_Accuracy_Score, SVM_JaccardIndex, SVM_F1_Score]})\n",
    "Report"
   ]
  },
  {
   "cell_type": "markdown",
   "id": "4587220f",
   "metadata": {
    "papermill": {
     "duration": 0.029103,
     "end_time": "2023-06-18T08:39:09.165641",
     "exception": false,
     "start_time": "2023-06-18T08:39:09.136538",
     "status": "completed"
    },
    "tags": []
   },
   "source": [
    "Jaccard Index: 0.0\n",
    "F1 Score: 0.0\n",
    "\n",
    "----- seems the model training isn't good?"
   ]
  },
  {
   "cell_type": "markdown",
   "id": "bfc14123",
   "metadata": {
    "papermill": {
     "duration": 0.029252,
     "end_time": "2023-06-18T08:39:09.224423",
     "exception": false,
     "start_time": "2023-06-18T08:39:09.195171",
     "status": "completed"
    },
    "tags": []
   },
   "source": [
    "<h2 id=\"Section_5\">  How to submit </h2>\n",
    "\n",
    "<p>Once you complete your notebook you will have to share it. You can download the notebook by navigating to \"File\" and clicking on \"Download\" button.\n",
    "\n",
    "<p>This will save the (.ipynb) file on your computer. Once saved, you can upload this file in the \"My Submission\" tab, of the \"Peer-graded Assignment\" section.  \n"
   ]
  },
  {
   "cell_type": "markdown",
   "id": "f0ffb0b7",
   "metadata": {
    "papermill": {
     "duration": 0.029653,
     "end_time": "2023-06-18T08:39:09.283193",
     "exception": false,
     "start_time": "2023-06-18T08:39:09.253540",
     "status": "completed"
    },
    "tags": []
   },
   "source": [
    "<h2>About the Authors:</h2> \n",
    "\n",
    "<a href=\"https://www.linkedin.com/in/joseph-s-50398b136/?utm_medium=Exinfluencer&utm_source=Exinfluencer&utm_content=000026UJ&utm_term=10006555&utm_id=NA-SkillsNetwork-Channel-SkillsNetworkCoursesIBMDeveloperSkillsNetworkML0101ENSkillsNetwork20718538-2022-01-01\">Joseph Santarcangelo</a> has a PhD in Electrical Engineering, his research focused on using machine learning, signal processing, and computer vision to determine how videos impact human cognition. Joseph has been working for IBM since he completed his PhD.\n",
    "\n",
    "### Other Contributors\n",
    "\n",
    "<a href=\"https://www.linkedin.com/in/birlahimanshu/?utm_medium=Exinfluencer&utm_source=Exinfluencer&utm_content=000026UJ&utm_term=10006555&utm_id=NA-SkillsNetwork-Channel-SkillsNetworkCoursesIBMDeveloperSkillsNetworkML0101ENSkillsNetwork20718538-2022-01-01\">Himanshu Birla</a>\n"
   ]
  },
  {
   "cell_type": "markdown",
   "id": "8b7f6ddc",
   "metadata": {
    "papermill": {
     "duration": 0.029277,
     "end_time": "2023-06-18T08:39:09.342078",
     "exception": false,
     "start_time": "2023-06-18T08:39:09.312801",
     "status": "completed"
    },
    "tags": []
   },
   "source": [
    "## Change Log\n",
    "\n",
    "| Date (YYYY-MM-DD) | Version | Changed By    | Change Description          |\n",
    "| ----------------- | ------- | ------------- | --------------------------- |\n",
    "| 2020-08-27        | 1.0     | Malika Singla | Added lab to GitLab         |\n",
    "| 2022-06-22        | 2.0     | Lana K.       | Deleted GridSearch and Mock |\n",
    "| <hr>              |         |               |                             |\n",
    "\n",
    "## <h3 align=\"center\"> © IBM Corporation 2020. All rights reserved. <h3/>\n"
   ]
  }
 ],
 "metadata": {
  "kernelspec": {
   "display_name": "Python 3",
   "language": "python",
   "name": "python3"
  },
  "language_info": {
   "codemirror_mode": {
    "name": "ipython",
    "version": 3
   },
   "file_extension": ".py",
   "mimetype": "text/x-python",
   "name": "python",
   "nbconvert_exporter": "python",
   "pygments_lexer": "ipython3",
   "version": "3.10.10"
  },
  "papermill": {
   "default_parameters": {},
   "duration": 24.597079,
   "end_time": "2023-06-18T08:39:10.393375",
   "environment_variables": {},
   "exception": null,
   "input_path": "__notebook__.ipynb",
   "output_path": "__notebook__.ipynb",
   "parameters": {},
   "start_time": "2023-06-18T08:38:45.796296",
   "version": "2.4.0"
  }
 },
 "nbformat": 4,
 "nbformat_minor": 5
}
